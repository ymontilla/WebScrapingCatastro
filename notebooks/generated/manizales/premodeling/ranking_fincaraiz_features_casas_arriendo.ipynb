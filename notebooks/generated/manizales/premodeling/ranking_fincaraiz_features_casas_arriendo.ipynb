{
 "cells": [
  {
   "cell_type": "code",
   "execution_count": 1,
   "metadata": {},
   "outputs": [],
   "source": [
    "%load_ext dotenv\n",
    "%reload_ext dotenv\n",
    "%dotenv"
   ]
  },
  {
   "cell_type": "code",
   "execution_count": 2,
   "metadata": {},
   "outputs": [],
   "source": [
    "import pandas as pd\n",
    "import numpy as np\n",
    "\n",
    "import seaborn as sns\n",
    "import matplotlib.pyplot as plt"
   ]
  },
  {
   "cell_type": "code",
   "execution_count": 3,
   "metadata": {},
   "outputs": [],
   "source": [
    "from sklearn.feature_selection import SelectKBest\n",
    "from sklearn.feature_selection import chi2\n",
    "\n",
    "from sklearn.feature_selection import f_regression"
   ]
  },
  {
   "cell_type": "code",
   "execution_count": null,
   "metadata": {},
   "outputs": [],
   "source": []
  },
  {
   "cell_type": "code",
   "execution_count": 4,
   "metadata": {},
   "outputs": [],
   "source": [
    "import sys\n",
    "import os\n",
    "from os.path import dirname\n",
    "\n",
    "UTILS_PATH=os.environ.get('REPO') + \"/notebooks/commons\"\n",
    "sys.path.append(dirname(UTILS_PATH))\n",
    "\n",
    "from commons import check_args, gen_paths, coordinates_bounds, plot_feature_importances"
   ]
  },
  {
   "cell_type": "code",
   "execution_count": null,
   "metadata": {},
   "outputs": [],
   "source": []
  },
  {
   "cell_type": "code",
   "execution_count": 5,
   "metadata": {},
   "outputs": [],
   "source": [
    "def load_posts(input_path):\n",
    "    df = pd.read_parquet(input_path)\n",
    "    return df"
   ]
  },
  {
   "cell_type": "code",
   "execution_count": null,
   "metadata": {},
   "outputs": [],
   "source": []
  },
  {
   "cell_type": "code",
   "execution_count": 6,
   "metadata": {},
   "outputs": [],
   "source": [
    "if __name__ == \"__main__\":\n",
    "    city = \"manizales\"\n",
    "    property_type = \"casas\"\n",
    "    post_type = \"arriendo\"\n",
    "    \n",
    "    #city, property_type, post_type = check_args()\n",
    "    base_path = os.environ.get('REPO')\n",
    "\n",
    "    raw_path, clean_path = gen_paths(city, property_type, post_type)\n",
    "    \n",
    "    raw_path = base_path + raw_path\n",
    "    clean_path = base_path + clean_path"
   ]
  },
  {
   "cell_type": "code",
   "execution_count": null,
   "metadata": {},
   "outputs": [],
   "source": []
  },
  {
   "cell_type": "code",
   "execution_count": 7,
   "metadata": {},
   "outputs": [
    {
     "name": "stdout",
     "output_type": "stream",
     "text": [
      "\n",
      "Hay 99 publicaciones de arriendo en total\n",
      "\n"
     ]
    },
    {
     "data": {
      "text/html": [
       "<div>\n",
       "<style scoped>\n",
       "    .dataframe tbody tr th:only-of-type {\n",
       "        vertical-align: middle;\n",
       "    }\n",
       "\n",
       "    .dataframe tbody tr th {\n",
       "        vertical-align: top;\n",
       "    }\n",
       "\n",
       "    .dataframe thead th {\n",
       "        text-align: right;\n",
       "    }\n",
       "</style>\n",
       "<table border=\"1\" class=\"dataframe\">\n",
       "  <thead>\n",
       "    <tr style=\"text-align: right;\">\n",
       "      <th></th>\n",
       "      <th>surface</th>\n",
       "      <th>rooms</th>\n",
       "      <th>baths</th>\n",
       "      <th>garages</th>\n",
       "      <th>price</th>\n",
       "      <th>latitude</th>\n",
       "      <th>description</th>\n",
       "      <th>longitude</th>\n",
       "      <th>location</th>\n",
       "      <th>url</th>\n",
       "      <th>admon</th>\n",
       "      <th>estrato</th>\n",
       "      <th>antiguedad</th>\n",
       "      <th>fid</th>\n",
       "      <th>city</th>\n",
       "      <th>property_type</th>\n",
       "      <th>post_type</th>\n",
       "      <th>price_m2</th>\n",
       "    </tr>\n",
       "  </thead>\n",
       "  <tbody>\n",
       "    <tr>\n",
       "      <th>0</th>\n",
       "      <td>486.0</td>\n",
       "      <td>4.0</td>\n",
       "      <td>4.0</td>\n",
       "      <td>0.0</td>\n",
       "      <td>4.86</td>\n",
       "      <td>5.068640</td>\n",
       "      <td>Área de 486 mtrs, 4 baños, cocina sencilla, cu...</td>\n",
       "      <td>-75.517929</td>\n",
       "      <td>Manizales CENTRO</td>\n",
       "      <td>https://www.fincaraiz.com.co/casa-en-arriendo/...</td>\n",
       "      <td>0.0</td>\n",
       "      <td>4.0</td>\n",
       "      <td>16 a 30</td>\n",
       "      <td>3078558</td>\n",
       "      <td>manizales</td>\n",
       "      <td>casas</td>\n",
       "      <td>arriendo</td>\n",
       "      <td>0.010000</td>\n",
       "    </tr>\n",
       "    <tr>\n",
       "      <th>1</th>\n",
       "      <td>110.0</td>\n",
       "      <td>3.0</td>\n",
       "      <td>3.0</td>\n",
       "      <td>0.0</td>\n",
       "      <td>4.00</td>\n",
       "      <td>5.062479</td>\n",
       "      <td>Área de 110 mtrs, 3 alcobas, 3 closet, 3 baños...</td>\n",
       "      <td>-75.495445</td>\n",
       "      <td>Manizales EL TRIANGULO</td>\n",
       "      <td>https://www.fincaraiz.com.co/casa-en-arriendo/...</td>\n",
       "      <td>0.0</td>\n",
       "      <td>6.0</td>\n",
       "      <td>16 a 30</td>\n",
       "      <td>3497615</td>\n",
       "      <td>manizales</td>\n",
       "      <td>casas</td>\n",
       "      <td>arriendo</td>\n",
       "      <td>0.036364</td>\n",
       "    </tr>\n",
       "    <tr>\n",
       "      <th>2</th>\n",
       "      <td>1.0</td>\n",
       "      <td>5.0</td>\n",
       "      <td>4.0</td>\n",
       "      <td>0.0</td>\n",
       "      <td>3.00</td>\n",
       "      <td>5.058675</td>\n",
       "      <td>5 alcobas, closet, 4 baños, sala comedor, coci...</td>\n",
       "      <td>-75.488083</td>\n",
       "      <td>Manizales PALOGRANDE</td>\n",
       "      <td>https://www.fincaraiz.com.co/casa-en-arriendo/...</td>\n",
       "      <td>0.0</td>\n",
       "      <td>6.0</td>\n",
       "      <td>16 a 30</td>\n",
       "      <td>5619086</td>\n",
       "      <td>manizales</td>\n",
       "      <td>casas</td>\n",
       "      <td>arriendo</td>\n",
       "      <td>3.000000</td>\n",
       "    </tr>\n",
       "    <tr>\n",
       "      <th>3</th>\n",
       "      <td>330.0</td>\n",
       "      <td>7.0</td>\n",
       "      <td>4.0</td>\n",
       "      <td>0.0</td>\n",
       "      <td>3.00</td>\n",
       "      <td>5.068990</td>\n",
       "      <td>Para comercial consta de 7 alcobas, 4 baños, c...</td>\n",
       "      <td>-75.517342</td>\n",
       "      <td>Manizales centro</td>\n",
       "      <td>https://www.fincaraiz.com.co/casa-en-arriendo/...</td>\n",
       "      <td>0.0</td>\n",
       "      <td>4.0</td>\n",
       "      <td>desconocido</td>\n",
       "      <td>5594083</td>\n",
       "      <td>manizales</td>\n",
       "      <td>casas</td>\n",
       "      <td>arriendo</td>\n",
       "      <td>0.009091</td>\n",
       "    </tr>\n",
       "    <tr>\n",
       "      <th>4</th>\n",
       "      <td>120.0</td>\n",
       "      <td>4.0</td>\n",
       "      <td>3.0</td>\n",
       "      <td>1.0</td>\n",
       "      <td>1.55</td>\n",
       "      <td>5.035938</td>\n",
       "      <td>Administra Bienes Raíces ofrece amplia e ilumi...</td>\n",
       "      <td>-75.469330</td>\n",
       "      <td>Manizales San Marcel</td>\n",
       "      <td>https://www.fincaraiz.com.co/casa-en-arriendo/...</td>\n",
       "      <td>0.0</td>\n",
       "      <td>6.0</td>\n",
       "      <td>desconocido</td>\n",
       "      <td>4430438</td>\n",
       "      <td>manizales</td>\n",
       "      <td>casas</td>\n",
       "      <td>arriendo</td>\n",
       "      <td>0.012917</td>\n",
       "    </tr>\n",
       "  </tbody>\n",
       "</table>\n",
       "</div>"
      ],
      "text/plain": [
       "   surface  rooms  baths  garages  price  latitude  \\\n",
       "0    486.0    4.0    4.0      0.0   4.86  5.068640   \n",
       "1    110.0    3.0    3.0      0.0   4.00  5.062479   \n",
       "2      1.0    5.0    4.0      0.0   3.00  5.058675   \n",
       "3    330.0    7.0    4.0      0.0   3.00  5.068990   \n",
       "4    120.0    4.0    3.0      1.0   1.55  5.035938   \n",
       "\n",
       "                                         description  longitude  \\\n",
       "0  Área de 486 mtrs, 4 baños, cocina sencilla, cu... -75.517929   \n",
       "1  Área de 110 mtrs, 3 alcobas, 3 closet, 3 baños... -75.495445   \n",
       "2  5 alcobas, closet, 4 baños, sala comedor, coci... -75.488083   \n",
       "3  Para comercial consta de 7 alcobas, 4 baños, c... -75.517342   \n",
       "4  Administra Bienes Raíces ofrece amplia e ilumi... -75.469330   \n",
       "\n",
       "                 location                                                url  \\\n",
       "0        Manizales CENTRO  https://www.fincaraiz.com.co/casa-en-arriendo/...   \n",
       "1  Manizales EL TRIANGULO  https://www.fincaraiz.com.co/casa-en-arriendo/...   \n",
       "2    Manizales PALOGRANDE  https://www.fincaraiz.com.co/casa-en-arriendo/...   \n",
       "3        Manizales centro  https://www.fincaraiz.com.co/casa-en-arriendo/...   \n",
       "4    Manizales San Marcel  https://www.fincaraiz.com.co/casa-en-arriendo/...   \n",
       "\n",
       "   admon  estrato   antiguedad      fid       city property_type post_type  \\\n",
       "0    0.0      4.0      16 a 30  3078558  manizales         casas  arriendo   \n",
       "1    0.0      6.0      16 a 30  3497615  manizales         casas  arriendo   \n",
       "2    0.0      6.0      16 a 30  5619086  manizales         casas  arriendo   \n",
       "3    0.0      4.0  desconocido  5594083  manizales         casas  arriendo   \n",
       "4    0.0      6.0  desconocido  4430438  manizales         casas  arriendo   \n",
       "\n",
       "   price_m2  \n",
       "0  0.010000  \n",
       "1  0.036364  \n",
       "2  3.000000  \n",
       "3  0.009091  \n",
       "4  0.012917  "
      ]
     },
     "execution_count": 7,
     "metadata": {},
     "output_type": "execute_result"
    }
   ],
   "source": [
    "MSG = \"\"\"\n",
    "Hay {} publicaciones de {} en total\n",
    "\"\"\"\n",
    "\n",
    "posts = load_posts(clean_path)\n",
    "print(MSG.format(posts.shape[0], post_type))\n",
    "posts.head()"
   ]
  },
  {
   "cell_type": "code",
   "execution_count": null,
   "metadata": {},
   "outputs": [],
   "source": []
  },
  {
   "cell_type": "markdown",
   "metadata": {},
   "source": [
    "## Es necesario cambiar la representación de algunas de las columnas\n"
   ]
  },
  {
   "cell_type": "code",
   "execution_count": 8,
   "metadata": {},
   "outputs": [
    {
     "data": {
      "text/plain": [
       "{'16 a 30': 0, 'desconocido': 1, '9 a 15': 2, 'Más de 30': 3, '1 a 8': 4}"
      ]
     },
     "execution_count": 8,
     "metadata": {},
     "output_type": "execute_result"
    }
   ],
   "source": [
    "## La antiguedad tiene 5 posibles valores pero se representa con un string, la idea es usar un entero en cambio\n",
    "\n",
    "antiguedades = posts[\"antiguedad\"].value_counts().index\n",
    "new_antiguedades = {}\n",
    "for i in range(len(antiguedades)):\n",
    "    new_antiguedades[antiguedades[i]] = i\n",
    "new_antiguedades"
   ]
  },
  {
   "cell_type": "code",
   "execution_count": 9,
   "metadata": {},
   "outputs": [],
   "source": [
    "posts.loc[:, \"antiguedad\"] = posts[\"antiguedad\"].apply(lambda e: new_antiguedades[e])"
   ]
  },
  {
   "cell_type": "code",
   "execution_count": null,
   "metadata": {},
   "outputs": [],
   "source": []
  },
  {
   "cell_type": "code",
   "execution_count": 10,
   "metadata": {},
   "outputs": [],
   "source": [
    "## Las features y las etiquetas son las mismas en todos los métodos\n",
    "\n",
    "FEATURES = [\n",
    "    'surface', 'rooms', \n",
    "    'baths', 'garages', 'latitude', \n",
    "    'longitude', 'admon', \n",
    "    'estrato','antiguedad'\n",
    "]\n",
    "\n",
    "LABEL = \"price\"\n",
    "\n",
    "X = posts[FEATURES].values\n",
    "y = posts[LABEL].values"
   ]
  },
  {
   "cell_type": "markdown",
   "metadata": {},
   "source": [
    "## Selección de features univariada"
   ]
  },
  {
   "cell_type": "code",
   "execution_count": 11,
   "metadata": {},
   "outputs": [
    {
     "data": {
      "text/plain": [
       "(99, 5)"
      ]
     },
     "execution_count": 11,
     "metadata": {},
     "output_type": "execute_result"
    }
   ],
   "source": [
    "selector = SelectKBest(f_regression, k=5)\n",
    "X_new = selector.fit_transform(X, y)\n",
    "X_new.shape"
   ]
  },
  {
   "cell_type": "code",
   "execution_count": null,
   "metadata": {},
   "outputs": [],
   "source": []
  },
  {
   "cell_type": "code",
   "execution_count": 12,
   "metadata": {},
   "outputs": [],
   "source": [
    "feature_importances = pd.DataFrame({'importance': selector.scores_, 'feature': FEATURES})"
   ]
  },
  {
   "cell_type": "code",
   "execution_count": 13,
   "metadata": {},
   "outputs": [
    {
     "data": {
      "image/png": "[encoded data removed]",
      "text/plain": [
       "<Figure size 720x432 with 1 Axes>"
      ]
     },
     "metadata": {
      "needs_background": "light"
     },
     "output_type": "display_data"
    },
    {
     "data": {
      "image/png": "[encoded data removed]",
      "text/plain": [
       "<Figure size 576x432 with 1 Axes>"
      ]
     },
     "metadata": {
      "needs_background": "light"
     },
     "output_type": "display_data"
    },
    {
     "name": "stdout",
     "output_type": "stream",
     "text": [
      "3 features required for 0.90 of cumulative importance\n"
     ]
    },
    {
     "data": {
      "text/html": [
       "<div>\n",
       "<style scoped>\n",
       "    .dataframe tbody tr th:only-of-type {\n",
       "        vertical-align: middle;\n",
       "    }\n",
       "\n",
       "    .dataframe tbody tr th {\n",
       "        vertical-align: top;\n",
       "    }\n",
       "\n",
       "    .dataframe thead th {\n",
       "        text-align: right;\n",
       "    }\n",
       "</style>\n",
       "<table border=\"1\" class=\"dataframe\">\n",
       "  <thead>\n",
       "    <tr style=\"text-align: right;\">\n",
       "      <th></th>\n",
       "      <th>index</th>\n",
       "      <th>importance</th>\n",
       "      <th>feature</th>\n",
       "      <th>importance_normalized</th>\n",
       "      <th>cumulative_importance</th>\n",
       "    </tr>\n",
       "  </thead>\n",
       "  <tbody>\n",
       "    <tr>\n",
       "      <th>0</th>\n",
       "      <td>0</td>\n",
       "      <td>167.545727</td>\n",
       "      <td>surface</td>\n",
       "      <td>0.459090</td>\n",
       "      <td>0.459090</td>\n",
       "    </tr>\n",
       "    <tr>\n",
       "      <th>1</th>\n",
       "      <td>2</td>\n",
       "      <td>104.496270</td>\n",
       "      <td>baths</td>\n",
       "      <td>0.286329</td>\n",
       "      <td>0.745419</td>\n",
       "    </tr>\n",
       "    <tr>\n",
       "      <th>2</th>\n",
       "      <td>1</td>\n",
       "      <td>71.464777</td>\n",
       "      <td>rooms</td>\n",
       "      <td>0.195820</td>\n",
       "      <td>0.941239</td>\n",
       "    </tr>\n",
       "    <tr>\n",
       "      <th>3</th>\n",
       "      <td>7</td>\n",
       "      <td>13.106963</td>\n",
       "      <td>estrato</td>\n",
       "      <td>0.035914</td>\n",
       "      <td>0.977153</td>\n",
       "    </tr>\n",
       "    <tr>\n",
       "      <th>4</th>\n",
       "      <td>3</td>\n",
       "      <td>5.158150</td>\n",
       "      <td>garages</td>\n",
       "      <td>0.014134</td>\n",
       "      <td>0.991287</td>\n",
       "    </tr>\n",
       "    <tr>\n",
       "      <th>5</th>\n",
       "      <td>6</td>\n",
       "      <td>1.572486</td>\n",
       "      <td>admon</td>\n",
       "      <td>0.004309</td>\n",
       "      <td>0.995596</td>\n",
       "    </tr>\n",
       "    <tr>\n",
       "      <th>6</th>\n",
       "      <td>5</td>\n",
       "      <td>1.165260</td>\n",
       "      <td>longitude</td>\n",
       "      <td>0.003193</td>\n",
       "      <td>0.998789</td>\n",
       "    </tr>\n",
       "    <tr>\n",
       "      <th>7</th>\n",
       "      <td>4</td>\n",
       "      <td>0.228087</td>\n",
       "      <td>latitude</td>\n",
       "      <td>0.000625</td>\n",
       "      <td>0.999414</td>\n",
       "    </tr>\n",
       "    <tr>\n",
       "      <th>8</th>\n",
       "      <td>8</td>\n",
       "      <td>0.213896</td>\n",
       "      <td>antiguedad</td>\n",
       "      <td>0.000586</td>\n",
       "      <td>1.000000</td>\n",
       "    </tr>\n",
       "  </tbody>\n",
       "</table>\n",
       "</div>"
      ],
      "text/plain": [
       "   index  importance     feature  importance_normalized  cumulative_importance\n",
       "0      0  167.545727     surface               0.459090               0.459090\n",
       "1      2  104.496270       baths               0.286329               0.745419\n",
       "2      1   71.464777       rooms               0.195820               0.941239\n",
       "3      7   13.106963     estrato               0.035914               0.977153\n",
       "4      3    5.158150     garages               0.014134               0.991287\n",
       "5      6    1.572486       admon               0.004309               0.995596\n",
       "6      5    1.165260   longitude               0.003193               0.998789\n",
       "7      4    0.228087    latitude               0.000625               0.999414\n",
       "8      8    0.213896  antiguedad               0.000586               1.000000"
      ]
     },
     "execution_count": 13,
     "metadata": {},
     "output_type": "execute_result"
    }
   ],
   "source": [
    "plot_feature_importances(feature_importances)"
   ]
  },
  {
   "cell_type": "code",
   "execution_count": null,
   "metadata": {},
   "outputs": [],
   "source": []
  },
  {
   "cell_type": "markdown",
   "metadata": {},
   "source": [
    "## Eliminación recursiva de features"
   ]
  },
  {
   "cell_type": "code",
   "execution_count": 14,
   "metadata": {},
   "outputs": [],
   "source": [
    "from sklearn.linear_model import LinearRegression\n",
    "from sklearn.feature_selection import RFE"
   ]
  },
  {
   "cell_type": "code",
   "execution_count": 15,
   "metadata": {},
   "outputs": [
    {
     "data": {
      "text/plain": [
       "0.7381317650220243"
      ]
     },
     "execution_count": 15,
     "metadata": {},
     "output_type": "execute_result"
    }
   ],
   "source": [
    "reg = LinearRegression().fit(X, y)\n",
    "reg.score(X, y)"
   ]
  },
  {
   "cell_type": "code",
   "execution_count": 16,
   "metadata": {},
   "outputs": [
    {
     "data": {
      "text/plain": [
       "RFE(estimator=LinearRegression(), n_features_to_select=1)"
      ]
     },
     "execution_count": 16,
     "metadata": {},
     "output_type": "execute_result"
    }
   ],
   "source": [
    "rfe = RFE(estimator=reg, n_features_to_select=1, step=1)\n",
    "rfe.fit(X, y)"
   ]
  },
  {
   "cell_type": "code",
   "execution_count": 17,
   "metadata": {},
   "outputs": [],
   "source": [
    "feature_importances = pd.DataFrame({'importance': rfe.ranking_, 'feature': FEATURES})"
   ]
  },
  {
   "cell_type": "code",
   "execution_count": 18,
   "metadata": {},
   "outputs": [
    {
     "data": {
      "image/png": "[encoded data removed]",
      "text/plain": [
       "<Figure size 720x432 with 1 Axes>"
      ]
     },
     "metadata": {
      "needs_background": "light"
     },
     "output_type": "display_data"
    },
    {
     "data": {
      "image/png": "[encoded data removed]",
      "text/plain": [
       "<Figure size 576x432 with 1 Axes>"
      ]
     },
     "metadata": {
      "needs_background": "light"
     },
     "output_type": "display_data"
    },
    {
     "name": "stdout",
     "output_type": "stream",
     "text": [
      "7 features required for 0.90 of cumulative importance\n"
     ]
    },
    {
     "data": {
      "text/html": [
       "<div>\n",
       "<style scoped>\n",
       "    .dataframe tbody tr th:only-of-type {\n",
       "        vertical-align: middle;\n",
       "    }\n",
       "\n",
       "    .dataframe tbody tr th {\n",
       "        vertical-align: top;\n",
       "    }\n",
       "\n",
       "    .dataframe thead th {\n",
       "        text-align: right;\n",
       "    }\n",
       "</style>\n",
       "<table border=\"1\" class=\"dataframe\">\n",
       "  <thead>\n",
       "    <tr style=\"text-align: right;\">\n",
       "      <th></th>\n",
       "      <th>index</th>\n",
       "      <th>importance</th>\n",
       "      <th>feature</th>\n",
       "      <th>importance_normalized</th>\n",
       "      <th>cumulative_importance</th>\n",
       "    </tr>\n",
       "  </thead>\n",
       "  <tbody>\n",
       "    <tr>\n",
       "      <th>0</th>\n",
       "      <td>6</td>\n",
       "      <td>9</td>\n",
       "      <td>admon</td>\n",
       "      <td>0.200000</td>\n",
       "      <td>0.200000</td>\n",
       "    </tr>\n",
       "    <tr>\n",
       "      <th>1</th>\n",
       "      <td>0</td>\n",
       "      <td>8</td>\n",
       "      <td>surface</td>\n",
       "      <td>0.177778</td>\n",
       "      <td>0.377778</td>\n",
       "    </tr>\n",
       "    <tr>\n",
       "      <th>2</th>\n",
       "      <td>8</td>\n",
       "      <td>7</td>\n",
       "      <td>antiguedad</td>\n",
       "      <td>0.155556</td>\n",
       "      <td>0.533333</td>\n",
       "    </tr>\n",
       "    <tr>\n",
       "      <th>3</th>\n",
       "      <td>7</td>\n",
       "      <td>6</td>\n",
       "      <td>estrato</td>\n",
       "      <td>0.133333</td>\n",
       "      <td>0.666667</td>\n",
       "    </tr>\n",
       "    <tr>\n",
       "      <th>4</th>\n",
       "      <td>1</td>\n",
       "      <td>5</td>\n",
       "      <td>rooms</td>\n",
       "      <td>0.111111</td>\n",
       "      <td>0.777778</td>\n",
       "    </tr>\n",
       "    <tr>\n",
       "      <th>5</th>\n",
       "      <td>3</td>\n",
       "      <td>4</td>\n",
       "      <td>garages</td>\n",
       "      <td>0.088889</td>\n",
       "      <td>0.866667</td>\n",
       "    </tr>\n",
       "    <tr>\n",
       "      <th>6</th>\n",
       "      <td>2</td>\n",
       "      <td>3</td>\n",
       "      <td>baths</td>\n",
       "      <td>0.066667</td>\n",
       "      <td>0.933333</td>\n",
       "    </tr>\n",
       "    <tr>\n",
       "      <th>7</th>\n",
       "      <td>4</td>\n",
       "      <td>2</td>\n",
       "      <td>latitude</td>\n",
       "      <td>0.044444</td>\n",
       "      <td>0.977778</td>\n",
       "    </tr>\n",
       "    <tr>\n",
       "      <th>8</th>\n",
       "      <td>5</td>\n",
       "      <td>1</td>\n",
       "      <td>longitude</td>\n",
       "      <td>0.022222</td>\n",
       "      <td>1.000000</td>\n",
       "    </tr>\n",
       "  </tbody>\n",
       "</table>\n",
       "</div>"
      ],
      "text/plain": [
       "   index  importance     feature  importance_normalized  cumulative_importance\n",
       "0      6           9       admon               0.200000               0.200000\n",
       "1      0           8     surface               0.177778               0.377778\n",
       "2      8           7  antiguedad               0.155556               0.533333\n",
       "3      7           6     estrato               0.133333               0.666667\n",
       "4      1           5       rooms               0.111111               0.777778\n",
       "5      3           4     garages               0.088889               0.866667\n",
       "6      2           3       baths               0.066667               0.933333\n",
       "7      4           2    latitude               0.044444               0.977778\n",
       "8      5           1   longitude               0.022222               1.000000"
      ]
     },
     "execution_count": 18,
     "metadata": {},
     "output_type": "execute_result"
    }
   ],
   "source": [
    "plot_feature_importances(feature_importances)"
   ]
  },
  {
   "cell_type": "code",
   "execution_count": null,
   "metadata": {},
   "outputs": [],
   "source": []
  },
  {
   "cell_type": "markdown",
   "metadata": {},
   "source": [
    "## Selección de features basada en arboles"
   ]
  },
  {
   "cell_type": "code",
   "execution_count": 19,
   "metadata": {},
   "outputs": [],
   "source": [
    "from sklearn.ensemble import ExtraTreesRegressor"
   ]
  },
  {
   "cell_type": "code",
   "execution_count": 20,
   "metadata": {},
   "outputs": [
    {
     "data": {
      "text/plain": [
       "ExtraTreesRegressor(random_state=0)"
      ]
     },
     "execution_count": 20,
     "metadata": {},
     "output_type": "execute_result"
    }
   ],
   "source": [
    "forest = ExtraTreesRegressor(n_estimators=100, random_state=0)\n",
    "forest.fit(X, y)"
   ]
  },
  {
   "cell_type": "code",
   "execution_count": 21,
   "metadata": {},
   "outputs": [],
   "source": [
    "feature_importances = pd.DataFrame({'importance':  forest.feature_importances_, 'feature': FEATURES})"
   ]
  },
  {
   "cell_type": "code",
   "execution_count": 22,
   "metadata": {},
   "outputs": [
    {
     "data": {
      "image/png": "[encoded data removed]",
      "text/plain": [
       "<Figure size 720x432 with 1 Axes>"
      ]
     },
     "metadata": {
      "needs_background": "light"
     },
     "output_type": "display_data"
    },
    {
     "data": {
      "image/png": "[encoded data removed]",
      "text/plain": [
       "<Figure size 576x432 with 1 Axes>"
      ]
     },
     "metadata": {
      "needs_background": "light"
     },
     "output_type": "display_data"
    },
    {
     "name": "stdout",
     "output_type": "stream",
     "text": [
      "5 features required for 0.90 of cumulative importance\n"
     ]
    },
    {
     "data": {
      "text/html": [
       "<div>\n",
       "<style scoped>\n",
       "    .dataframe tbody tr th:only-of-type {\n",
       "        vertical-align: middle;\n",
       "    }\n",
       "\n",
       "    .dataframe tbody tr th {\n",
       "        vertical-align: top;\n",
       "    }\n",
       "\n",
       "    .dataframe thead th {\n",
       "        text-align: right;\n",
       "    }\n",
       "</style>\n",
       "<table border=\"1\" class=\"dataframe\">\n",
       "  <thead>\n",
       "    <tr style=\"text-align: right;\">\n",
       "      <th></th>\n",
       "      <th>index</th>\n",
       "      <th>importance</th>\n",
       "      <th>feature</th>\n",
       "      <th>importance_normalized</th>\n",
       "      <th>cumulative_importance</th>\n",
       "    </tr>\n",
       "  </thead>\n",
       "  <tbody>\n",
       "    <tr>\n",
       "      <th>0</th>\n",
       "      <td>0</td>\n",
       "      <td>0.604046</td>\n",
       "      <td>surface</td>\n",
       "      <td>0.604046</td>\n",
       "      <td>0.604046</td>\n",
       "    </tr>\n",
       "    <tr>\n",
       "      <th>1</th>\n",
       "      <td>1</td>\n",
       "      <td>0.150622</td>\n",
       "      <td>rooms</td>\n",
       "      <td>0.150622</td>\n",
       "      <td>0.754668</td>\n",
       "    </tr>\n",
       "    <tr>\n",
       "      <th>2</th>\n",
       "      <td>2</td>\n",
       "      <td>0.108762</td>\n",
       "      <td>baths</td>\n",
       "      <td>0.108762</td>\n",
       "      <td>0.863430</td>\n",
       "    </tr>\n",
       "    <tr>\n",
       "      <th>3</th>\n",
       "      <td>4</td>\n",
       "      <td>0.030904</td>\n",
       "      <td>latitude</td>\n",
       "      <td>0.030904</td>\n",
       "      <td>0.894334</td>\n",
       "    </tr>\n",
       "    <tr>\n",
       "      <th>4</th>\n",
       "      <td>5</td>\n",
       "      <td>0.030166</td>\n",
       "      <td>longitude</td>\n",
       "      <td>0.030166</td>\n",
       "      <td>0.924500</td>\n",
       "    </tr>\n",
       "    <tr>\n",
       "      <th>5</th>\n",
       "      <td>7</td>\n",
       "      <td>0.028656</td>\n",
       "      <td>estrato</td>\n",
       "      <td>0.028656</td>\n",
       "      <td>0.953156</td>\n",
       "    </tr>\n",
       "    <tr>\n",
       "      <th>6</th>\n",
       "      <td>3</td>\n",
       "      <td>0.025274</td>\n",
       "      <td>garages</td>\n",
       "      <td>0.025274</td>\n",
       "      <td>0.978430</td>\n",
       "    </tr>\n",
       "    <tr>\n",
       "      <th>7</th>\n",
       "      <td>8</td>\n",
       "      <td>0.020747</td>\n",
       "      <td>antiguedad</td>\n",
       "      <td>0.020747</td>\n",
       "      <td>0.999177</td>\n",
       "    </tr>\n",
       "    <tr>\n",
       "      <th>8</th>\n",
       "      <td>6</td>\n",
       "      <td>0.000823</td>\n",
       "      <td>admon</td>\n",
       "      <td>0.000823</td>\n",
       "      <td>1.000000</td>\n",
       "    </tr>\n",
       "  </tbody>\n",
       "</table>\n",
       "</div>"
      ],
      "text/plain": [
       "   index  importance     feature  importance_normalized  cumulative_importance\n",
       "0      0    0.604046     surface               0.604046               0.604046\n",
       "1      1    0.150622       rooms               0.150622               0.754668\n",
       "2      2    0.108762       baths               0.108762               0.863430\n",
       "3      4    0.030904    latitude               0.030904               0.894334\n",
       "4      5    0.030166   longitude               0.030166               0.924500\n",
       "5      7    0.028656     estrato               0.028656               0.953156\n",
       "6      3    0.025274     garages               0.025274               0.978430\n",
       "7      8    0.020747  antiguedad               0.020747               0.999177\n",
       "8      6    0.000823       admon               0.000823               1.000000"
      ]
     },
     "execution_count": 22,
     "metadata": {},
     "output_type": "execute_result"
    }
   ],
   "source": [
    "plot_feature_importances(feature_importances)"
   ]
  },
  {
   "cell_type": "code",
   "execution_count": null,
   "metadata": {},
   "outputs": [],
   "source": []
  }
 ],
 "metadata": {
  "kernelspec": {
   "display_name": "Python 3",
   "language": "python",
   "name": "python3"
  },
  "language_info": {
   "codemirror_mode": {
    "name": "ipython",
    "version": 3
   },
   "file_extension": ".py",
   "mimetype": "text/x-python",
   "name": "python",
   "nbconvert_exporter": "python",
   "pygments_lexer": "ipython3",
   "version": "3.6.9"
  }
 },
 "nbformat": 4,
 "nbformat_minor": 2
}
