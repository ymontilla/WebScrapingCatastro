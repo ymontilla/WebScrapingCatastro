{
 "cells": [
  {
   "cell_type": "code",
   "execution_count": 1,
   "metadata": {},
   "outputs": [],
   "source": [
    "%load_ext dotenv\n",
    "%reload_ext dotenv\n",
    "%dotenv"
   ]
  },
  {
   "cell_type": "code",
   "execution_count": 2,
   "metadata": {},
   "outputs": [],
   "source": [
    "import pandas as pd\n",
    "import numpy as np\n",
    "\n",
    "import seaborn as sns\n",
    "import matplotlib.pyplot as plt"
   ]
  },
  {
   "cell_type": "code",
   "execution_count": 3,
   "metadata": {},
   "outputs": [],
   "source": [
    "from sklearn.feature_selection import SelectKBest\n",
    "from sklearn.feature_selection import chi2\n",
    "\n",
    "from sklearn.feature_selection import f_regression"
   ]
  },
  {
   "cell_type": "code",
   "execution_count": null,
   "metadata": {},
   "outputs": [],
   "source": []
  },
  {
   "cell_type": "code",
   "execution_count": 4,
   "metadata": {},
   "outputs": [],
   "source": [
    "import sys\n",
    "import os\n",
    "from os.path import dirname\n",
    "\n",
    "UTILS_PATH=os.environ.get('REPO') + \"/notebooks/commons\"\n",
    "sys.path.append(dirname(UTILS_PATH))\n",
    "\n",
    "from commons import check_args, gen_paths, coordinates_bounds, plot_feature_importances"
   ]
  },
  {
   "cell_type": "code",
   "execution_count": null,
   "metadata": {},
   "outputs": [],
   "source": []
  },
  {
   "cell_type": "code",
   "execution_count": 5,
   "metadata": {},
   "outputs": [],
   "source": [
    "def load_posts(input_path):\n",
    "    df = pd.read_parquet(input_path)\n",
    "    return df"
   ]
  },
  {
   "cell_type": "code",
   "execution_count": null,
   "metadata": {},
   "outputs": [],
   "source": []
  },
  {
   "cell_type": "code",
   "execution_count": 6,
   "metadata": {},
   "outputs": [],
   "source": [
    "if __name__ == \"__main__\":\n",
    "    city = \"manizales\"\n",
    "    property_type = \"casas\"\n",
    "    post_type = \"venta\"\n",
    "    \n",
    "    #city, property_type, post_type = check_args()\n",
    "    base_path = os.environ.get('REPO')\n",
    "\n",
    "    raw_path, clean_path = gen_paths(city, property_type, post_type)\n",
    "    \n",
    "    raw_path = base_path + raw_path\n",
    "    clean_path = base_path + clean_path"
   ]
  },
  {
   "cell_type": "code",
   "execution_count": null,
   "metadata": {},
   "outputs": [],
   "source": []
  },
  {
   "cell_type": "code",
   "execution_count": 7,
   "metadata": {},
   "outputs": [
    {
     "name": "stdout",
     "output_type": "stream",
     "text": [
      "\n",
      "Hay 1992 publicaciones de venta en total\n",
      "\n"
     ]
    },
    {
     "data": {
      "text/html": [
       "<div>\n",
       "<style scoped>\n",
       "    .dataframe tbody tr th:only-of-type {\n",
       "        vertical-align: middle;\n",
       "    }\n",
       "\n",
       "    .dataframe tbody tr th {\n",
       "        vertical-align: top;\n",
       "    }\n",
       "\n",
       "    .dataframe thead th {\n",
       "        text-align: right;\n",
       "    }\n",
       "</style>\n",
       "<table border=\"1\" class=\"dataframe\">\n",
       "  <thead>\n",
       "    <tr style=\"text-align: right;\">\n",
       "      <th></th>\n",
       "      <th>surface</th>\n",
       "      <th>rooms</th>\n",
       "      <th>baths</th>\n",
       "      <th>garages</th>\n",
       "      <th>price</th>\n",
       "      <th>latitude</th>\n",
       "      <th>description</th>\n",
       "      <th>longitude</th>\n",
       "      <th>location</th>\n",
       "      <th>url</th>\n",
       "      <th>admon</th>\n",
       "      <th>estrato</th>\n",
       "      <th>antiguedad</th>\n",
       "      <th>fid</th>\n",
       "      <th>city</th>\n",
       "      <th>property_type</th>\n",
       "      <th>post_type</th>\n",
       "      <th>price_m2</th>\n",
       "    </tr>\n",
       "  </thead>\n",
       "  <tbody>\n",
       "    <tr>\n",
       "      <th>1</th>\n",
       "      <td>180.0</td>\n",
       "      <td>4.0</td>\n",
       "      <td>1.0</td>\n",
       "      <td>1.0</td>\n",
       "      <td>250.0</td>\n",
       "      <td>5.061220</td>\n",
       "      <td>Casa ubicada en el barrio La Sultana, consta d...</td>\n",
       "      <td>-75.472801</td>\n",
       "      <td>Manizales LA SULTANA</td>\n",
       "      <td>https://www.fincaraiz.com.co/casa-en-venta/man...</td>\n",
       "      <td>0.0</td>\n",
       "      <td>3.0</td>\n",
       "      <td>16 a 30</td>\n",
       "      <td>5151631</td>\n",
       "      <td>manizales</td>\n",
       "      <td>casas</td>\n",
       "      <td>venta</td>\n",
       "      <td>1.388889</td>\n",
       "    </tr>\n",
       "    <tr>\n",
       "      <th>2</th>\n",
       "      <td>130.0</td>\n",
       "      <td>4.0</td>\n",
       "      <td>2.0</td>\n",
       "      <td>0.0</td>\n",
       "      <td>225.0</td>\n",
       "      <td>5.047913</td>\n",
       "      <td>Area de 130 mtrs, excelente ubicacion, casa co...</td>\n",
       "      <td>-75.501884</td>\n",
       "      <td>Manizales MALHABAR</td>\n",
       "      <td>https://www.fincaraiz.com.co/casa-en-venta/man...</td>\n",
       "      <td>0.0</td>\n",
       "      <td>3.0</td>\n",
       "      <td>16 a 30</td>\n",
       "      <td>4715541</td>\n",
       "      <td>manizales</td>\n",
       "      <td>casas</td>\n",
       "      <td>venta</td>\n",
       "      <td>1.730769</td>\n",
       "    </tr>\n",
       "    <tr>\n",
       "      <th>3</th>\n",
       "      <td>407.0</td>\n",
       "      <td>9.0</td>\n",
       "      <td>6.0</td>\n",
       "      <td>5.0</td>\n",
       "      <td>1200.0</td>\n",
       "      <td>5.069806</td>\n",
       "      <td>Excelente inversion, venta de propiedad horizo...</td>\n",
       "      <td>-75.530762</td>\n",
       "      <td>Manizales La francia</td>\n",
       "      <td>https://www.fincaraiz.com.co/casa-en-venta/man...</td>\n",
       "      <td>0.0</td>\n",
       "      <td>6.0</td>\n",
       "      <td>desconocido</td>\n",
       "      <td>3333614</td>\n",
       "      <td>manizales</td>\n",
       "      <td>casas</td>\n",
       "      <td>venta</td>\n",
       "      <td>2.948403</td>\n",
       "    </tr>\n",
       "    <tr>\n",
       "      <th>4</th>\n",
       "      <td>118.0</td>\n",
       "      <td>3.0</td>\n",
       "      <td>3.0</td>\n",
       "      <td>1.0</td>\n",
       "      <td>450.0</td>\n",
       "      <td>5.027654</td>\n",
       "      <td>Vista Inmobiliaria ofrece en venta linda casa ...</td>\n",
       "      <td>-75.481209</td>\n",
       "      <td>Manizales La Florida</td>\n",
       "      <td>https://www.fincaraiz.com.co/casa-en-venta/man...</td>\n",
       "      <td>285000.0</td>\n",
       "      <td>4.0</td>\n",
       "      <td>desconocido</td>\n",
       "      <td>5392228</td>\n",
       "      <td>manizales</td>\n",
       "      <td>casas</td>\n",
       "      <td>venta</td>\n",
       "      <td>3.813559</td>\n",
       "    </tr>\n",
       "    <tr>\n",
       "      <th>5</th>\n",
       "      <td>115.0</td>\n",
       "      <td>3.0</td>\n",
       "      <td>3.0</td>\n",
       "      <td>2.0</td>\n",
       "      <td>370.0</td>\n",
       "      <td>5.038804</td>\n",
       "      <td>Venta casa en conjunto cerrado en el sector de...</td>\n",
       "      <td>-75.487785</td>\n",
       "      <td>Manizales La Florida</td>\n",
       "      <td>https://www.fincaraiz.com.co/casa-en-venta/man...</td>\n",
       "      <td>220000.0</td>\n",
       "      <td>4.0</td>\n",
       "      <td>1 a 8</td>\n",
       "      <td>5613118</td>\n",
       "      <td>manizales</td>\n",
       "      <td>casas</td>\n",
       "      <td>venta</td>\n",
       "      <td>3.217391</td>\n",
       "    </tr>\n",
       "  </tbody>\n",
       "</table>\n",
       "</div>"
      ],
      "text/plain": [
       "   surface  rooms  baths  garages   price  latitude  \\\n",
       "1    180.0    4.0    1.0      1.0   250.0  5.061220   \n",
       "2    130.0    4.0    2.0      0.0   225.0  5.047913   \n",
       "3    407.0    9.0    6.0      5.0  1200.0  5.069806   \n",
       "4    118.0    3.0    3.0      1.0   450.0  5.027654   \n",
       "5    115.0    3.0    3.0      2.0   370.0  5.038804   \n",
       "\n",
       "                                         description  longitude  \\\n",
       "1  Casa ubicada en el barrio La Sultana, consta d... -75.472801   \n",
       "2  Area de 130 mtrs, excelente ubicacion, casa co... -75.501884   \n",
       "3  Excelente inversion, venta de propiedad horizo... -75.530762   \n",
       "4  Vista Inmobiliaria ofrece en venta linda casa ... -75.481209   \n",
       "5  Venta casa en conjunto cerrado en el sector de... -75.487785   \n",
       "\n",
       "               location                                                url  \\\n",
       "1  Manizales LA SULTANA  https://www.fincaraiz.com.co/casa-en-venta/man...   \n",
       "2    Manizales MALHABAR  https://www.fincaraiz.com.co/casa-en-venta/man...   \n",
       "3  Manizales La francia  https://www.fincaraiz.com.co/casa-en-venta/man...   \n",
       "4  Manizales La Florida  https://www.fincaraiz.com.co/casa-en-venta/man...   \n",
       "5  Manizales La Florida  https://www.fincaraiz.com.co/casa-en-venta/man...   \n",
       "\n",
       "      admon  estrato   antiguedad      fid       city property_type post_type  \\\n",
       "1       0.0      3.0      16 a 30  5151631  manizales         casas     venta   \n",
       "2       0.0      3.0      16 a 30  4715541  manizales         casas     venta   \n",
       "3       0.0      6.0  desconocido  3333614  manizales         casas     venta   \n",
       "4  285000.0      4.0  desconocido  5392228  manizales         casas     venta   \n",
       "5  220000.0      4.0        1 a 8  5613118  manizales         casas     venta   \n",
       "\n",
       "   price_m2  \n",
       "1  1.388889  \n",
       "2  1.730769  \n",
       "3  2.948403  \n",
       "4  3.813559  \n",
       "5  3.217391  "
      ]
     },
     "execution_count": 7,
     "metadata": {},
     "output_type": "execute_result"
    }
   ],
   "source": [
    "MSG = \"\"\"\n",
    "Hay {} publicaciones de {} en total\n",
    "\"\"\"\n",
    "\n",
    "posts = load_posts(clean_path)\n",
    "print(MSG.format(posts.shape[0], post_type))\n",
    "posts.head()"
   ]
  },
  {
   "cell_type": "code",
   "execution_count": null,
   "metadata": {},
   "outputs": [],
   "source": []
  },
  {
   "cell_type": "markdown",
   "metadata": {},
   "source": [
    "## Es necesario cambiar la representación de algunas de las columnas\n"
   ]
  },
  {
   "cell_type": "code",
   "execution_count": 8,
   "metadata": {},
   "outputs": [
    {
     "data": {
      "text/plain": [
       "{'desconocido': 0, '16 a 30': 1, '9 a 15': 2, '1 a 8': 3, 'Más de 30': 4}"
      ]
     },
     "execution_count": 8,
     "metadata": {},
     "output_type": "execute_result"
    }
   ],
   "source": [
    "## La antiguedad tiene 5 posibles valores pero se representa con un string, la idea es usar un entero en cambio\n",
    "\n",
    "antiguedades = posts[\"antiguedad\"].value_counts().index\n",
    "new_antiguedades = {}\n",
    "for i in range(len(antiguedades)):\n",
    "    new_antiguedades[antiguedades[i]] = i\n",
    "new_antiguedades"
   ]
  },
  {
   "cell_type": "code",
   "execution_count": 9,
   "metadata": {},
   "outputs": [],
   "source": [
    "posts.loc[:, \"antiguedad\"] = posts[\"antiguedad\"].apply(lambda e: new_antiguedades[e])"
   ]
  },
  {
   "cell_type": "code",
   "execution_count": null,
   "metadata": {},
   "outputs": [],
   "source": []
  },
  {
   "cell_type": "code",
   "execution_count": 10,
   "metadata": {},
   "outputs": [],
   "source": [
    "## Las features y las etiquetas son las mismas en todos los métodos\n",
    "\n",
    "FEATURES = [\n",
    "    'surface', 'rooms', \n",
    "    'baths', 'garages', 'latitude', \n",
    "    'longitude', 'admon', \n",
    "    'estrato','antiguedad'\n",
    "]\n",
    "\n",
    "LABEL = \"price\"\n",
    "\n",
    "X = posts[FEATURES].values\n",
    "y = posts[LABEL].values"
   ]
  },
  {
   "cell_type": "markdown",
   "metadata": {},
   "source": [
    "## Selección de features univariada"
   ]
  },
  {
   "cell_type": "code",
   "execution_count": 11,
   "metadata": {},
   "outputs": [
    {
     "data": {
      "text/plain": [
       "(1992, 5)"
      ]
     },
     "execution_count": 11,
     "metadata": {},
     "output_type": "execute_result"
    }
   ],
   "source": [
    "selector = SelectKBest(f_regression, k=5)\n",
    "X_new = selector.fit_transform(X, y)\n",
    "X_new.shape"
   ]
  },
  {
   "cell_type": "code",
   "execution_count": null,
   "metadata": {},
   "outputs": [],
   "source": []
  },
  {
   "cell_type": "code",
   "execution_count": 12,
   "metadata": {},
   "outputs": [],
   "source": [
    "feature_importances = pd.DataFrame({'importance': selector.scores_, 'feature': FEATURES})"
   ]
  },
  {
   "cell_type": "code",
   "execution_count": 13,
   "metadata": {},
   "outputs": [
    {
     "data": {
      "image/png": "[encoded data removed]",
      "text/plain": [
       "<Figure size 720x432 with 1 Axes>"
      ]
     },
     "metadata": {
      "needs_background": "light"
     },
     "output_type": "display_data"
    },
    {
     "data": {
      "image/png": "[encoded data removed]",
      "text/plain": [
       "<Figure size 576x432 with 1 Axes>"
      ]
     },
     "metadata": {
      "needs_background": "light"
     },
     "output_type": "display_data"
    },
    {
     "name": "stdout",
     "output_type": "stream",
     "text": [
      "5 features required for 0.90 of cumulative importance\n"
     ]
    },
    {
     "data": {
      "text/html": [
       "<div>\n",
       "<style scoped>\n",
       "    .dataframe tbody tr th:only-of-type {\n",
       "        vertical-align: middle;\n",
       "    }\n",
       "\n",
       "    .dataframe tbody tr th {\n",
       "        vertical-align: top;\n",
       "    }\n",
       "\n",
       "    .dataframe thead th {\n",
       "        text-align: right;\n",
       "    }\n",
       "</style>\n",
       "<table border=\"1\" class=\"dataframe\">\n",
       "  <thead>\n",
       "    <tr style=\"text-align: right;\">\n",
       "      <th></th>\n",
       "      <th>index</th>\n",
       "      <th>importance</th>\n",
       "      <th>feature</th>\n",
       "      <th>importance_normalized</th>\n",
       "      <th>cumulative_importance</th>\n",
       "    </tr>\n",
       "  </thead>\n",
       "  <tbody>\n",
       "    <tr>\n",
       "      <th>0</th>\n",
       "      <td>0</td>\n",
       "      <td>1421.385950</td>\n",
       "      <td>surface</td>\n",
       "      <td>0.352070</td>\n",
       "      <td>0.352070</td>\n",
       "    </tr>\n",
       "    <tr>\n",
       "      <th>1</th>\n",
       "      <td>7</td>\n",
       "      <td>936.823537</td>\n",
       "      <td>estrato</td>\n",
       "      <td>0.232047</td>\n",
       "      <td>0.584117</td>\n",
       "    </tr>\n",
       "    <tr>\n",
       "      <th>2</th>\n",
       "      <td>2</td>\n",
       "      <td>753.720807</td>\n",
       "      <td>baths</td>\n",
       "      <td>0.186693</td>\n",
       "      <td>0.770810</td>\n",
       "    </tr>\n",
       "    <tr>\n",
       "      <th>3</th>\n",
       "      <td>3</td>\n",
       "      <td>512.311555</td>\n",
       "      <td>garages</td>\n",
       "      <td>0.126897</td>\n",
       "      <td>0.897707</td>\n",
       "    </tr>\n",
       "    <tr>\n",
       "      <th>4</th>\n",
       "      <td>6</td>\n",
       "      <td>260.630616</td>\n",
       "      <td>admon</td>\n",
       "      <td>0.064557</td>\n",
       "      <td>0.962264</td>\n",
       "    </tr>\n",
       "    <tr>\n",
       "      <th>5</th>\n",
       "      <td>4</td>\n",
       "      <td>80.506122</td>\n",
       "      <td>latitude</td>\n",
       "      <td>0.019941</td>\n",
       "      <td>0.982205</td>\n",
       "    </tr>\n",
       "    <tr>\n",
       "      <th>6</th>\n",
       "      <td>5</td>\n",
       "      <td>38.767677</td>\n",
       "      <td>longitude</td>\n",
       "      <td>0.009603</td>\n",
       "      <td>0.991808</td>\n",
       "    </tr>\n",
       "    <tr>\n",
       "      <th>7</th>\n",
       "      <td>1</td>\n",
       "      <td>33.062457</td>\n",
       "      <td>rooms</td>\n",
       "      <td>0.008189</td>\n",
       "      <td>0.999997</td>\n",
       "    </tr>\n",
       "    <tr>\n",
       "      <th>8</th>\n",
       "      <td>8</td>\n",
       "      <td>0.012440</td>\n",
       "      <td>antiguedad</td>\n",
       "      <td>0.000003</td>\n",
       "      <td>1.000000</td>\n",
       "    </tr>\n",
       "  </tbody>\n",
       "</table>\n",
       "</div>"
      ],
      "text/plain": [
       "   index   importance     feature  importance_normalized  \\\n",
       "0      0  1421.385950     surface               0.352070   \n",
       "1      7   936.823537     estrato               0.232047   \n",
       "2      2   753.720807       baths               0.186693   \n",
       "3      3   512.311555     garages               0.126897   \n",
       "4      6   260.630616       admon               0.064557   \n",
       "5      4    80.506122    latitude               0.019941   \n",
       "6      5    38.767677   longitude               0.009603   \n",
       "7      1    33.062457       rooms               0.008189   \n",
       "8      8     0.012440  antiguedad               0.000003   \n",
       "\n",
       "   cumulative_importance  \n",
       "0               0.352070  \n",
       "1               0.584117  \n",
       "2               0.770810  \n",
       "3               0.897707  \n",
       "4               0.962264  \n",
       "5               0.982205  \n",
       "6               0.991808  \n",
       "7               0.999997  \n",
       "8               1.000000  "
      ]
     },
     "execution_count": 13,
     "metadata": {},
     "output_type": "execute_result"
    }
   ],
   "source": [
    "plot_feature_importances(feature_importances)"
   ]
  },
  {
   "cell_type": "code",
   "execution_count": null,
   "metadata": {},
   "outputs": [],
   "source": []
  },
  {
   "cell_type": "markdown",
   "metadata": {},
   "source": [
    "## Eliminación recursiva de features"
   ]
  },
  {
   "cell_type": "code",
   "execution_count": 14,
   "metadata": {},
   "outputs": [],
   "source": [
    "from sklearn.linear_model import LinearRegression\n",
    "from sklearn.feature_selection import RFE"
   ]
  },
  {
   "cell_type": "code",
   "execution_count": 15,
   "metadata": {},
   "outputs": [
    {
     "data": {
      "text/plain": [
       "0.5903186306881789"
      ]
     },
     "execution_count": 15,
     "metadata": {},
     "output_type": "execute_result"
    }
   ],
   "source": [
    "reg = LinearRegression().fit(X, y)\n",
    "reg.score(X, y)"
   ]
  },
  {
   "cell_type": "code",
   "execution_count": 16,
   "metadata": {},
   "outputs": [
    {
     "data": {
      "text/plain": [
       "RFE(estimator=LinearRegression(), n_features_to_select=1)"
      ]
     },
     "execution_count": 16,
     "metadata": {},
     "output_type": "execute_result"
    }
   ],
   "source": [
    "rfe = RFE(estimator=reg, n_features_to_select=1, step=1)\n",
    "rfe.fit(X, y)"
   ]
  },
  {
   "cell_type": "code",
   "execution_count": 17,
   "metadata": {},
   "outputs": [],
   "source": [
    "feature_importances = pd.DataFrame({'importance': rfe.ranking_, 'feature': FEATURES})"
   ]
  },
  {
   "cell_type": "code",
   "execution_count": 18,
   "metadata": {},
   "outputs": [
    {
     "data": {
      "image/png": "[encoded data removed]",
      "text/plain": [
       "<Figure size 720x432 with 1 Axes>"
      ]
     },
     "metadata": {
      "needs_background": "light"
     },
     "output_type": "display_data"
    },
    {
     "data": {
      "image/png": "[encoded data removed]",
      "text/plain": [
       "<Figure size 576x432 with 1 Axes>"
      ]
     },
     "metadata": {
      "needs_background": "light"
     },
     "output_type": "display_data"
    },
    {
     "name": "stdout",
     "output_type": "stream",
     "text": [
      "7 features required for 0.90 of cumulative importance\n"
     ]
    },
    {
     "data": {
      "text/html": [
       "<div>\n",
       "<style scoped>\n",
       "    .dataframe tbody tr th:only-of-type {\n",
       "        vertical-align: middle;\n",
       "    }\n",
       "\n",
       "    .dataframe tbody tr th {\n",
       "        vertical-align: top;\n",
       "    }\n",
       "\n",
       "    .dataframe thead th {\n",
       "        text-align: right;\n",
       "    }\n",
       "</style>\n",
       "<table border=\"1\" class=\"dataframe\">\n",
       "  <thead>\n",
       "    <tr style=\"text-align: right;\">\n",
       "      <th></th>\n",
       "      <th>index</th>\n",
       "      <th>importance</th>\n",
       "      <th>feature</th>\n",
       "      <th>importance_normalized</th>\n",
       "      <th>cumulative_importance</th>\n",
       "    </tr>\n",
       "  </thead>\n",
       "  <tbody>\n",
       "    <tr>\n",
       "      <th>0</th>\n",
       "      <td>6</td>\n",
       "      <td>9</td>\n",
       "      <td>admon</td>\n",
       "      <td>0.200000</td>\n",
       "      <td>0.200000</td>\n",
       "    </tr>\n",
       "    <tr>\n",
       "      <th>1</th>\n",
       "      <td>8</td>\n",
       "      <td>8</td>\n",
       "      <td>antiguedad</td>\n",
       "      <td>0.177778</td>\n",
       "      <td>0.377778</td>\n",
       "    </tr>\n",
       "    <tr>\n",
       "      <th>2</th>\n",
       "      <td>1</td>\n",
       "      <td>7</td>\n",
       "      <td>rooms</td>\n",
       "      <td>0.155556</td>\n",
       "      <td>0.533333</td>\n",
       "    </tr>\n",
       "    <tr>\n",
       "      <th>3</th>\n",
       "      <td>0</td>\n",
       "      <td>6</td>\n",
       "      <td>surface</td>\n",
       "      <td>0.133333</td>\n",
       "      <td>0.666667</td>\n",
       "    </tr>\n",
       "    <tr>\n",
       "      <th>4</th>\n",
       "      <td>3</td>\n",
       "      <td>5</td>\n",
       "      <td>garages</td>\n",
       "      <td>0.111111</td>\n",
       "      <td>0.777778</td>\n",
       "    </tr>\n",
       "    <tr>\n",
       "      <th>5</th>\n",
       "      <td>2</td>\n",
       "      <td>4</td>\n",
       "      <td>baths</td>\n",
       "      <td>0.088889</td>\n",
       "      <td>0.866667</td>\n",
       "    </tr>\n",
       "    <tr>\n",
       "      <th>6</th>\n",
       "      <td>7</td>\n",
       "      <td>3</td>\n",
       "      <td>estrato</td>\n",
       "      <td>0.066667</td>\n",
       "      <td>0.933333</td>\n",
       "    </tr>\n",
       "    <tr>\n",
       "      <th>7</th>\n",
       "      <td>5</td>\n",
       "      <td>2</td>\n",
       "      <td>longitude</td>\n",
       "      <td>0.044444</td>\n",
       "      <td>0.977778</td>\n",
       "    </tr>\n",
       "    <tr>\n",
       "      <th>8</th>\n",
       "      <td>4</td>\n",
       "      <td>1</td>\n",
       "      <td>latitude</td>\n",
       "      <td>0.022222</td>\n",
       "      <td>1.000000</td>\n",
       "    </tr>\n",
       "  </tbody>\n",
       "</table>\n",
       "</div>"
      ],
      "text/plain": [
       "   index  importance     feature  importance_normalized  cumulative_importance\n",
       "0      6           9       admon               0.200000               0.200000\n",
       "1      8           8  antiguedad               0.177778               0.377778\n",
       "2      1           7       rooms               0.155556               0.533333\n",
       "3      0           6     surface               0.133333               0.666667\n",
       "4      3           5     garages               0.111111               0.777778\n",
       "5      2           4       baths               0.088889               0.866667\n",
       "6      7           3     estrato               0.066667               0.933333\n",
       "7      5           2   longitude               0.044444               0.977778\n",
       "8      4           1    latitude               0.022222               1.000000"
      ]
     },
     "execution_count": 18,
     "metadata": {},
     "output_type": "execute_result"
    }
   ],
   "source": [
    "plot_feature_importances(feature_importances)"
   ]
  },
  {
   "cell_type": "code",
   "execution_count": null,
   "metadata": {},
   "outputs": [],
   "source": []
  },
  {
   "cell_type": "markdown",
   "metadata": {},
   "source": [
    "## Selección de features basada en arboles"
   ]
  },
  {
   "cell_type": "code",
   "execution_count": 19,
   "metadata": {},
   "outputs": [],
   "source": [
    "from sklearn.ensemble import ExtraTreesRegressor"
   ]
  },
  {
   "cell_type": "code",
   "execution_count": 20,
   "metadata": {},
   "outputs": [
    {
     "data": {
      "text/plain": [
       "ExtraTreesRegressor(random_state=0)"
      ]
     },
     "execution_count": 20,
     "metadata": {},
     "output_type": "execute_result"
    }
   ],
   "source": [
    "forest = ExtraTreesRegressor(n_estimators=100, random_state=0)\n",
    "forest.fit(X, y)"
   ]
  },
  {
   "cell_type": "code",
   "execution_count": 21,
   "metadata": {},
   "outputs": [],
   "source": [
    "feature_importances = pd.DataFrame({'importance':  forest.feature_importances_, 'feature': FEATURES})"
   ]
  },
  {
   "cell_type": "code",
   "execution_count": 22,
   "metadata": {},
   "outputs": [
    {
     "data": {
      "image/png": "[encoded data removed]",
      "text/plain": [
       "<Figure size 720x432 with 1 Axes>"
      ]
     },
     "metadata": {
      "needs_background": "light"
     },
     "output_type": "display_data"
    },
    {
     "data": {
      "image/png": "[encoded data removed]",
      "text/plain": [
       "<Figure size 576x432 with 1 Axes>"
      ]
     },
     "metadata": {
      "needs_background": "light"
     },
     "output_type": "display_data"
    },
    {
     "name": "stdout",
     "output_type": "stream",
     "text": [
      "7 features required for 0.90 of cumulative importance\n"
     ]
    },
    {
     "data": {
      "text/html": [
       "<div>\n",
       "<style scoped>\n",
       "    .dataframe tbody tr th:only-of-type {\n",
       "        vertical-align: middle;\n",
       "    }\n",
       "\n",
       "    .dataframe tbody tr th {\n",
       "        vertical-align: top;\n",
       "    }\n",
       "\n",
       "    .dataframe thead th {\n",
       "        text-align: right;\n",
       "    }\n",
       "</style>\n",
       "<table border=\"1\" class=\"dataframe\">\n",
       "  <thead>\n",
       "    <tr style=\"text-align: right;\">\n",
       "      <th></th>\n",
       "      <th>index</th>\n",
       "      <th>importance</th>\n",
       "      <th>feature</th>\n",
       "      <th>importance_normalized</th>\n",
       "      <th>cumulative_importance</th>\n",
       "    </tr>\n",
       "  </thead>\n",
       "  <tbody>\n",
       "    <tr>\n",
       "      <th>0</th>\n",
       "      <td>0</td>\n",
       "      <td>0.359678</td>\n",
       "      <td>surface</td>\n",
       "      <td>0.359678</td>\n",
       "      <td>0.359678</td>\n",
       "    </tr>\n",
       "    <tr>\n",
       "      <th>1</th>\n",
       "      <td>7</td>\n",
       "      <td>0.223125</td>\n",
       "      <td>estrato</td>\n",
       "      <td>0.223125</td>\n",
       "      <td>0.582803</td>\n",
       "    </tr>\n",
       "    <tr>\n",
       "      <th>2</th>\n",
       "      <td>2</td>\n",
       "      <td>0.092207</td>\n",
       "      <td>baths</td>\n",
       "      <td>0.092207</td>\n",
       "      <td>0.675010</td>\n",
       "    </tr>\n",
       "    <tr>\n",
       "      <th>3</th>\n",
       "      <td>3</td>\n",
       "      <td>0.078009</td>\n",
       "      <td>garages</td>\n",
       "      <td>0.078009</td>\n",
       "      <td>0.753019</td>\n",
       "    </tr>\n",
       "    <tr>\n",
       "      <th>4</th>\n",
       "      <td>1</td>\n",
       "      <td>0.074454</td>\n",
       "      <td>rooms</td>\n",
       "      <td>0.074454</td>\n",
       "      <td>0.827474</td>\n",
       "    </tr>\n",
       "    <tr>\n",
       "      <th>5</th>\n",
       "      <td>6</td>\n",
       "      <td>0.055547</td>\n",
       "      <td>admon</td>\n",
       "      <td>0.055547</td>\n",
       "      <td>0.883021</td>\n",
       "    </tr>\n",
       "    <tr>\n",
       "      <th>6</th>\n",
       "      <td>5</td>\n",
       "      <td>0.047002</td>\n",
       "      <td>longitude</td>\n",
       "      <td>0.047002</td>\n",
       "      <td>0.930023</td>\n",
       "    </tr>\n",
       "    <tr>\n",
       "      <th>7</th>\n",
       "      <td>4</td>\n",
       "      <td>0.045545</td>\n",
       "      <td>latitude</td>\n",
       "      <td>0.045545</td>\n",
       "      <td>0.975569</td>\n",
       "    </tr>\n",
       "    <tr>\n",
       "      <th>8</th>\n",
       "      <td>8</td>\n",
       "      <td>0.024431</td>\n",
       "      <td>antiguedad</td>\n",
       "      <td>0.024431</td>\n",
       "      <td>1.000000</td>\n",
       "    </tr>\n",
       "  </tbody>\n",
       "</table>\n",
       "</div>"
      ],
      "text/plain": [
       "   index  importance     feature  importance_normalized  cumulative_importance\n",
       "0      0    0.359678     surface               0.359678               0.359678\n",
       "1      7    0.223125     estrato               0.223125               0.582803\n",
       "2      2    0.092207       baths               0.092207               0.675010\n",
       "3      3    0.078009     garages               0.078009               0.753019\n",
       "4      1    0.074454       rooms               0.074454               0.827474\n",
       "5      6    0.055547       admon               0.055547               0.883021\n",
       "6      5    0.047002   longitude               0.047002               0.930023\n",
       "7      4    0.045545    latitude               0.045545               0.975569\n",
       "8      8    0.024431  antiguedad               0.024431               1.000000"
      ]
     },
     "execution_count": 22,
     "metadata": {},
     "output_type": "execute_result"
    }
   ],
   "source": [
    "plot_feature_importances(feature_importances)"
   ]
  },
  {
   "cell_type": "code",
   "execution_count": null,
   "metadata": {},
   "outputs": [],
   "source": []
  }
 ],
 "metadata": {
  "kernelspec": {
   "display_name": "Python 3",
   "language": "python",
   "name": "python3"
  },
  "language_info": {
   "codemirror_mode": {
    "name": "ipython",
    "version": 3
   },
   "file_extension": ".py",
   "mimetype": "text/x-python",
   "name": "python",
   "nbconvert_exporter": "python",
   "pygments_lexer": "ipython3",
   "version": "3.6.9"
  }
 },
 "nbformat": 4,
 "nbformat_minor": 2
}
