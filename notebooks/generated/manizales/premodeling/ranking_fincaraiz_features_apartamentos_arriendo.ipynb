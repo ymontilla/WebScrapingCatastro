{
 "cells": [
  {
   "cell_type": "code",
   "execution_count": 1,
   "metadata": {},
   "outputs": [],
   "source": [
    "%load_ext dotenv\n",
    "%reload_ext dotenv\n",
    "%dotenv"
   ]
  },
  {
   "cell_type": "code",
   "execution_count": 2,
   "metadata": {},
   "outputs": [],
   "source": [
    "import pandas as pd\n",
    "import numpy as np\n",
    "\n",
    "import seaborn as sns\n",
    "import matplotlib.pyplot as plt"
   ]
  },
  {
   "cell_type": "code",
   "execution_count": 3,
   "metadata": {},
   "outputs": [],
   "source": [
    "from sklearn.feature_selection import SelectKBest\n",
    "from sklearn.feature_selection import chi2\n",
    "\n",
    "from sklearn.feature_selection import f_regression"
   ]
  },
  {
   "cell_type": "code",
   "execution_count": null,
   "metadata": {},
   "outputs": [],
   "source": []
  },
  {
   "cell_type": "code",
   "execution_count": 4,
   "metadata": {},
   "outputs": [],
   "source": [
    "import sys\n",
    "import os\n",
    "from os.path import dirname\n",
    "\n",
    "UTILS_PATH=os.environ.get('REPO') + \"/notebooks/commons\"\n",
    "sys.path.append(dirname(UTILS_PATH))\n",
    "\n",
    "from commons import check_args, gen_paths, coordinates_bounds, plot_feature_importances"
   ]
  },
  {
   "cell_type": "code",
   "execution_count": null,
   "metadata": {},
   "outputs": [],
   "source": []
  },
  {
   "cell_type": "code",
   "execution_count": 5,
   "metadata": {},
   "outputs": [],
   "source": [
    "def load_posts(input_path):\n",
    "    df = pd.read_parquet(input_path)\n",
    "    return df"
   ]
  },
  {
   "cell_type": "code",
   "execution_count": null,
   "metadata": {},
   "outputs": [],
   "source": []
  },
  {
   "cell_type": "code",
   "execution_count": 6,
   "metadata": {},
   "outputs": [],
   "source": [
    "if __name__ == \"__main__\":\n",
    "    city = \"manizales\"\n",
    "    property_type = \"apartamentos\"\n",
    "    post_type = \"arriendo\"\n",
    "    \n",
    "    #city, property_type, post_type = check_args()\n",
    "    base_path = os.environ.get('REPO')\n",
    "\n",
    "    raw_path, clean_path = gen_paths(city, property_type, post_type)\n",
    "    \n",
    "    raw_path = base_path + raw_path\n",
    "    clean_path = base_path + clean_path"
   ]
  },
  {
   "cell_type": "code",
   "execution_count": null,
   "metadata": {},
   "outputs": [],
   "source": []
  },
  {
   "cell_type": "code",
   "execution_count": 7,
   "metadata": {},
   "outputs": [
    {
     "name": "stdout",
     "output_type": "stream",
     "text": [
      "\n",
      "Hay 1027 publicaciones de arriendo en total\n",
      "\n"
     ]
    },
    {
     "data": {
      "text/html": [
       "<div>\n",
       "<style scoped>\n",
       "    .dataframe tbody tr th:only-of-type {\n",
       "        vertical-align: middle;\n",
       "    }\n",
       "\n",
       "    .dataframe tbody tr th {\n",
       "        vertical-align: top;\n",
       "    }\n",
       "\n",
       "    .dataframe thead th {\n",
       "        text-align: right;\n",
       "    }\n",
       "</style>\n",
       "<table border=\"1\" class=\"dataframe\">\n",
       "  <thead>\n",
       "    <tr style=\"text-align: right;\">\n",
       "      <th></th>\n",
       "      <th>surface</th>\n",
       "      <th>rooms</th>\n",
       "      <th>baths</th>\n",
       "      <th>garages</th>\n",
       "      <th>price</th>\n",
       "      <th>latitude</th>\n",
       "      <th>description</th>\n",
       "      <th>longitude</th>\n",
       "      <th>location</th>\n",
       "      <th>url</th>\n",
       "      <th>admon</th>\n",
       "      <th>estrato</th>\n",
       "      <th>antiguedad</th>\n",
       "      <th>fid</th>\n",
       "      <th>city</th>\n",
       "      <th>property_type</th>\n",
       "      <th>post_type</th>\n",
       "      <th>price_m2</th>\n",
       "    </tr>\n",
       "  </thead>\n",
       "  <tbody>\n",
       "    <tr>\n",
       "      <th>0</th>\n",
       "      <td>65.0</td>\n",
       "      <td>2.0</td>\n",
       "      <td>1.0</td>\n",
       "      <td>0.0</td>\n",
       "      <td>0.65</td>\n",
       "      <td>5.058869</td>\n",
       "      <td>Arrienda apartamento en el barrio La Sultana s...</td>\n",
       "      <td>-75.475807</td>\n",
       "      <td>Manizales La Sultana</td>\n",
       "      <td>https://www.fincaraiz.com.co/apartamento-en-ar...</td>\n",
       "      <td>0.0</td>\n",
       "      <td>4.0</td>\n",
       "      <td>desconocido</td>\n",
       "      <td>5469476</td>\n",
       "      <td>manizales</td>\n",
       "      <td>apartamentos</td>\n",
       "      <td>arriendo</td>\n",
       "      <td>0.010000</td>\n",
       "    </tr>\n",
       "    <tr>\n",
       "      <th>1</th>\n",
       "      <td>55.0</td>\n",
       "      <td>2.0</td>\n",
       "      <td>1.0</td>\n",
       "      <td>0.0</td>\n",
       "      <td>0.80</td>\n",
       "      <td>5.058840</td>\n",
       "      <td>Apartamento con excelente iluminación muy bien...</td>\n",
       "      <td>-75.485168</td>\n",
       "      <td>Manizales La Rambla</td>\n",
       "      <td>https://www.fincaraiz.com.co/apartamento-en-ar...</td>\n",
       "      <td>0.0</td>\n",
       "      <td>5.0</td>\n",
       "      <td>1 a 8</td>\n",
       "      <td>5357660</td>\n",
       "      <td>manizales</td>\n",
       "      <td>apartamentos</td>\n",
       "      <td>arriendo</td>\n",
       "      <td>0.014545</td>\n",
       "    </tr>\n",
       "    <tr>\n",
       "      <th>2</th>\n",
       "      <td>80.0</td>\n",
       "      <td>2.0</td>\n",
       "      <td>2.0</td>\n",
       "      <td>1.0</td>\n",
       "      <td>1.90</td>\n",
       "      <td>5.052409</td>\n",
       "      <td>Administra Bienes Raíces ofrece para arrendami...</td>\n",
       "      <td>-75.485085</td>\n",
       "      <td>Manizales Camelia</td>\n",
       "      <td>https://www.fincaraiz.com.co/apartamento-en-ar...</td>\n",
       "      <td>0.0</td>\n",
       "      <td>6.0</td>\n",
       "      <td>1 a 8</td>\n",
       "      <td>5670358</td>\n",
       "      <td>manizales</td>\n",
       "      <td>apartamentos</td>\n",
       "      <td>arriendo</td>\n",
       "      <td>0.023750</td>\n",
       "    </tr>\n",
       "    <tr>\n",
       "      <th>4</th>\n",
       "      <td>100.0</td>\n",
       "      <td>4.0</td>\n",
       "      <td>2.0</td>\n",
       "      <td>0.0</td>\n",
       "      <td>1.25</td>\n",
       "      <td>5.053482</td>\n",
       "      <td>Espacioso apartamento en un tercer piso con gr...</td>\n",
       "      <td>-75.495567</td>\n",
       "      <td>Manizales Fátima</td>\n",
       "      <td>https://www.fincaraiz.com.co/apartamento-en-ar...</td>\n",
       "      <td>0.0</td>\n",
       "      <td>3.0</td>\n",
       "      <td>1 a 8</td>\n",
       "      <td>5468657</td>\n",
       "      <td>manizales</td>\n",
       "      <td>apartamentos</td>\n",
       "      <td>arriendo</td>\n",
       "      <td>0.012500</td>\n",
       "    </tr>\n",
       "    <tr>\n",
       "      <th>5</th>\n",
       "      <td>41.0</td>\n",
       "      <td>3.0</td>\n",
       "      <td>1.0</td>\n",
       "      <td>0.0</td>\n",
       "      <td>0.50</td>\n",
       "      <td>5.070275</td>\n",
       "      <td>Area de 41 mtrs, excelente ubicacion, muy ilum...</td>\n",
       "      <td>-75.513817</td>\n",
       "      <td>Manizales SANTOS</td>\n",
       "      <td>https://www.fincaraiz.com.co/apartamento-en-ar...</td>\n",
       "      <td>0.0</td>\n",
       "      <td>3.0</td>\n",
       "      <td>16 a 30</td>\n",
       "      <td>5174681</td>\n",
       "      <td>manizales</td>\n",
       "      <td>apartamentos</td>\n",
       "      <td>arriendo</td>\n",
       "      <td>0.012195</td>\n",
       "    </tr>\n",
       "  </tbody>\n",
       "</table>\n",
       "</div>"
      ],
      "text/plain": [
       "   surface  rooms  baths  garages  price  latitude  \\\n",
       "0     65.0    2.0    1.0      0.0   0.65  5.058869   \n",
       "1     55.0    2.0    1.0      0.0   0.80  5.058840   \n",
       "2     80.0    2.0    2.0      1.0   1.90  5.052409   \n",
       "4    100.0    4.0    2.0      0.0   1.25  5.053482   \n",
       "5     41.0    3.0    1.0      0.0   0.50  5.070275   \n",
       "\n",
       "                                         description  longitude  \\\n",
       "0  Arrienda apartamento en el barrio La Sultana s... -75.475807   \n",
       "1  Apartamento con excelente iluminación muy bien... -75.485168   \n",
       "2  Administra Bienes Raíces ofrece para arrendami... -75.485085   \n",
       "4  Espacioso apartamento en un tercer piso con gr... -75.495567   \n",
       "5  Area de 41 mtrs, excelente ubicacion, muy ilum... -75.513817   \n",
       "\n",
       "               location                                                url  \\\n",
       "0  Manizales La Sultana  https://www.fincaraiz.com.co/apartamento-en-ar...   \n",
       "1   Manizales La Rambla  https://www.fincaraiz.com.co/apartamento-en-ar...   \n",
       "2     Manizales Camelia  https://www.fincaraiz.com.co/apartamento-en-ar...   \n",
       "4      Manizales Fátima  https://www.fincaraiz.com.co/apartamento-en-ar...   \n",
       "5      Manizales SANTOS  https://www.fincaraiz.com.co/apartamento-en-ar...   \n",
       "\n",
       "   admon  estrato   antiguedad      fid       city property_type post_type  \\\n",
       "0    0.0      4.0  desconocido  5469476  manizales  apartamentos  arriendo   \n",
       "1    0.0      5.0        1 a 8  5357660  manizales  apartamentos  arriendo   \n",
       "2    0.0      6.0        1 a 8  5670358  manizales  apartamentos  arriendo   \n",
       "4    0.0      3.0        1 a 8  5468657  manizales  apartamentos  arriendo   \n",
       "5    0.0      3.0      16 a 30  5174681  manizales  apartamentos  arriendo   \n",
       "\n",
       "   price_m2  \n",
       "0  0.010000  \n",
       "1  0.014545  \n",
       "2  0.023750  \n",
       "4  0.012500  \n",
       "5  0.012195  "
      ]
     },
     "execution_count": 7,
     "metadata": {},
     "output_type": "execute_result"
    }
   ],
   "source": [
    "MSG = \"\"\"\n",
    "Hay {} publicaciones de {} en total\n",
    "\"\"\"\n",
    "\n",
    "posts = load_posts(clean_path)\n",
    "print(MSG.format(posts.shape[0], post_type))\n",
    "posts.head()"
   ]
  },
  {
   "cell_type": "code",
   "execution_count": null,
   "metadata": {},
   "outputs": [],
   "source": []
  },
  {
   "cell_type": "markdown",
   "metadata": {},
   "source": [
    "## Es necesario cambiar la representación de algunas de las columnas\n"
   ]
  },
  {
   "cell_type": "code",
   "execution_count": 8,
   "metadata": {},
   "outputs": [
    {
     "data": {
      "text/plain": [
       "{'desconocido': 0, '9 a 15': 1, '1 a 8': 2, '16 a 30': 3, 'Más de 30': 4}"
      ]
     },
     "execution_count": 8,
     "metadata": {},
     "output_type": "execute_result"
    }
   ],
   "source": [
    "## La antiguedad tiene 5 posibles valores pero se representa con un string, la idea es usar un entero en cambio\n",
    "\n",
    "antiguedades = posts[\"antiguedad\"].value_counts().index\n",
    "new_antiguedades = {}\n",
    "for i in range(len(antiguedades)):\n",
    "    new_antiguedades[antiguedades[i]] = i\n",
    "new_antiguedades"
   ]
  },
  {
   "cell_type": "code",
   "execution_count": 9,
   "metadata": {},
   "outputs": [],
   "source": [
    "posts.loc[:, \"antiguedad\"] = posts[\"antiguedad\"].apply(lambda e: new_antiguedades[e])"
   ]
  },
  {
   "cell_type": "code",
   "execution_count": null,
   "metadata": {},
   "outputs": [],
   "source": []
  },
  {
   "cell_type": "code",
   "execution_count": 10,
   "metadata": {},
   "outputs": [],
   "source": [
    "## Las features y las etiquetas son las mismas en todos los métodos\n",
    "\n",
    "FEATURES = [\n",
    "    'surface', 'rooms', \n",
    "    'baths', 'garages', 'latitude', \n",
    "    'longitude', 'admon', \n",
    "    'estrato','antiguedad'\n",
    "]\n",
    "\n",
    "LABEL = \"price\"\n",
    "\n",
    "X = posts[FEATURES].values\n",
    "y = posts[LABEL].values"
   ]
  },
  {
   "cell_type": "markdown",
   "metadata": {},
   "source": [
    "## Selección de features univariada"
   ]
  },
  {
   "cell_type": "code",
   "execution_count": 11,
   "metadata": {},
   "outputs": [
    {
     "data": {
      "text/plain": [
       "(1027, 5)"
      ]
     },
     "execution_count": 11,
     "metadata": {},
     "output_type": "execute_result"
    }
   ],
   "source": [
    "selector = SelectKBest(f_regression, k=5)\n",
    "X_new = selector.fit_transform(X, y)\n",
    "X_new.shape"
   ]
  },
  {
   "cell_type": "code",
   "execution_count": null,
   "metadata": {},
   "outputs": [],
   "source": []
  },
  {
   "cell_type": "code",
   "execution_count": 12,
   "metadata": {},
   "outputs": [],
   "source": [
    "feature_importances = pd.DataFrame({'importance': selector.scores_, 'feature': FEATURES})"
   ]
  },
  {
   "cell_type": "code",
   "execution_count": 13,
   "metadata": {},
   "outputs": [
    {
     "data": {
      "image/png": "[encoded data removed]",
      "text/plain": [
       "<Figure size 720x432 with 1 Axes>"
      ]
     },
     "metadata": {
      "needs_background": "light"
     },
     "output_type": "display_data"
    },
    {
     "data": {
      "image/png": "[encoded data removed]",
      "text/plain": [
       "<Figure size 576x432 with 1 Axes>"
      ]
     },
     "metadata": {
      "needs_background": "light"
     },
     "output_type": "display_data"
    },
    {
     "name": "stdout",
     "output_type": "stream",
     "text": [
      "5 features required for 0.90 of cumulative importance\n"
     ]
    },
    {
     "data": {
      "text/html": [
       "<div>\n",
       "<style scoped>\n",
       "    .dataframe tbody tr th:only-of-type {\n",
       "        vertical-align: middle;\n",
       "    }\n",
       "\n",
       "    .dataframe tbody tr th {\n",
       "        vertical-align: top;\n",
       "    }\n",
       "\n",
       "    .dataframe thead th {\n",
       "        text-align: right;\n",
       "    }\n",
       "</style>\n",
       "<table border=\"1\" class=\"dataframe\">\n",
       "  <thead>\n",
       "    <tr style=\"text-align: right;\">\n",
       "      <th></th>\n",
       "      <th>index</th>\n",
       "      <th>importance</th>\n",
       "      <th>feature</th>\n",
       "      <th>importance_normalized</th>\n",
       "      <th>cumulative_importance</th>\n",
       "    </tr>\n",
       "  </thead>\n",
       "  <tbody>\n",
       "    <tr>\n",
       "      <th>0</th>\n",
       "      <td>6</td>\n",
       "      <td>7.683912</td>\n",
       "      <td>admon</td>\n",
       "      <td>0.356260</td>\n",
       "      <td>0.356260</td>\n",
       "    </tr>\n",
       "    <tr>\n",
       "      <th>1</th>\n",
       "      <td>2</td>\n",
       "      <td>6.301895</td>\n",
       "      <td>baths</td>\n",
       "      <td>0.292184</td>\n",
       "      <td>0.648444</td>\n",
       "    </tr>\n",
       "    <tr>\n",
       "      <th>2</th>\n",
       "      <td>0</td>\n",
       "      <td>2.840452</td>\n",
       "      <td>surface</td>\n",
       "      <td>0.131696</td>\n",
       "      <td>0.780141</td>\n",
       "    </tr>\n",
       "    <tr>\n",
       "      <th>3</th>\n",
       "      <td>3</td>\n",
       "      <td>1.423705</td>\n",
       "      <td>garages</td>\n",
       "      <td>0.066009</td>\n",
       "      <td>0.846150</td>\n",
       "    </tr>\n",
       "    <tr>\n",
       "      <th>4</th>\n",
       "      <td>8</td>\n",
       "      <td>1.402973</td>\n",
       "      <td>antiguedad</td>\n",
       "      <td>0.065048</td>\n",
       "      <td>0.911198</td>\n",
       "    </tr>\n",
       "    <tr>\n",
       "      <th>5</th>\n",
       "      <td>7</td>\n",
       "      <td>0.923594</td>\n",
       "      <td>estrato</td>\n",
       "      <td>0.042822</td>\n",
       "      <td>0.954020</td>\n",
       "    </tr>\n",
       "    <tr>\n",
       "      <th>6</th>\n",
       "      <td>1</td>\n",
       "      <td>0.857235</td>\n",
       "      <td>rooms</td>\n",
       "      <td>0.039745</td>\n",
       "      <td>0.993765</td>\n",
       "    </tr>\n",
       "    <tr>\n",
       "      <th>7</th>\n",
       "      <td>4</td>\n",
       "      <td>0.089377</td>\n",
       "      <td>latitude</td>\n",
       "      <td>0.004144</td>\n",
       "      <td>0.997909</td>\n",
       "    </tr>\n",
       "    <tr>\n",
       "      <th>8</th>\n",
       "      <td>5</td>\n",
       "      <td>0.045098</td>\n",
       "      <td>longitude</td>\n",
       "      <td>0.002091</td>\n",
       "      <td>1.000000</td>\n",
       "    </tr>\n",
       "  </tbody>\n",
       "</table>\n",
       "</div>"
      ],
      "text/plain": [
       "   index  importance     feature  importance_normalized  cumulative_importance\n",
       "0      6    7.683912       admon               0.356260               0.356260\n",
       "1      2    6.301895       baths               0.292184               0.648444\n",
       "2      0    2.840452     surface               0.131696               0.780141\n",
       "3      3    1.423705     garages               0.066009               0.846150\n",
       "4      8    1.402973  antiguedad               0.065048               0.911198\n",
       "5      7    0.923594     estrato               0.042822               0.954020\n",
       "6      1    0.857235       rooms               0.039745               0.993765\n",
       "7      4    0.089377    latitude               0.004144               0.997909\n",
       "8      5    0.045098   longitude               0.002091               1.000000"
      ]
     },
     "execution_count": 13,
     "metadata": {},
     "output_type": "execute_result"
    }
   ],
   "source": [
    "plot_feature_importances(feature_importances)"
   ]
  },
  {
   "cell_type": "code",
   "execution_count": null,
   "metadata": {},
   "outputs": [],
   "source": []
  },
  {
   "cell_type": "markdown",
   "metadata": {},
   "source": [
    "## Eliminación recursiva de features"
   ]
  },
  {
   "cell_type": "code",
   "execution_count": 14,
   "metadata": {},
   "outputs": [],
   "source": [
    "from sklearn.linear_model import LinearRegression\n",
    "from sklearn.feature_selection import RFE"
   ]
  },
  {
   "cell_type": "code",
   "execution_count": 15,
   "metadata": {},
   "outputs": [
    {
     "data": {
      "text/plain": [
       "0.014994790661564172"
      ]
     },
     "execution_count": 15,
     "metadata": {},
     "output_type": "execute_result"
    }
   ],
   "source": [
    "reg = LinearRegression().fit(X, y)\n",
    "reg.score(X, y)"
   ]
  },
  {
   "cell_type": "code",
   "execution_count": 16,
   "metadata": {},
   "outputs": [
    {
     "data": {
      "text/plain": [
       "RFE(estimator=LinearRegression(), n_features_to_select=1)"
      ]
     },
     "execution_count": 16,
     "metadata": {},
     "output_type": "execute_result"
    }
   ],
   "source": [
    "rfe = RFE(estimator=reg, n_features_to_select=1, step=1)\n",
    "rfe.fit(X, y)"
   ]
  },
  {
   "cell_type": "code",
   "execution_count": 17,
   "metadata": {},
   "outputs": [],
   "source": [
    "feature_importances = pd.DataFrame({'importance': rfe.ranking_, 'feature': FEATURES})"
   ]
  },
  {
   "cell_type": "code",
   "execution_count": 18,
   "metadata": {},
   "outputs": [
    {
     "data": {
      "image/png": "[encoded data removed]",
      "text/plain": [
       "<Figure size 720x432 with 1 Axes>"
      ]
     },
     "metadata": {
      "needs_background": "light"
     },
     "output_type": "display_data"
    },
    {
     "data": {
      "image/png": "[encoded data removed]",
      "text/plain": [
       "<Figure size 576x432 with 1 Axes>"
      ]
     },
     "metadata": {
      "needs_background": "light"
     },
     "output_type": "display_data"
    },
    {
     "name": "stdout",
     "output_type": "stream",
     "text": [
      "7 features required for 0.90 of cumulative importance\n"
     ]
    },
    {
     "data": {
      "text/html": [
       "<div>\n",
       "<style scoped>\n",
       "    .dataframe tbody tr th:only-of-type {\n",
       "        vertical-align: middle;\n",
       "    }\n",
       "\n",
       "    .dataframe tbody tr th {\n",
       "        vertical-align: top;\n",
       "    }\n",
       "\n",
       "    .dataframe thead th {\n",
       "        text-align: right;\n",
       "    }\n",
       "</style>\n",
       "<table border=\"1\" class=\"dataframe\">\n",
       "  <thead>\n",
       "    <tr style=\"text-align: right;\">\n",
       "      <th></th>\n",
       "      <th>index</th>\n",
       "      <th>importance</th>\n",
       "      <th>feature</th>\n",
       "      <th>importance_normalized</th>\n",
       "      <th>cumulative_importance</th>\n",
       "    </tr>\n",
       "  </thead>\n",
       "  <tbody>\n",
       "    <tr>\n",
       "      <th>0</th>\n",
       "      <td>6</td>\n",
       "      <td>9</td>\n",
       "      <td>admon</td>\n",
       "      <td>0.200000</td>\n",
       "      <td>0.200000</td>\n",
       "    </tr>\n",
       "    <tr>\n",
       "      <th>1</th>\n",
       "      <td>0</td>\n",
       "      <td>8</td>\n",
       "      <td>surface</td>\n",
       "      <td>0.177778</td>\n",
       "      <td>0.377778</td>\n",
       "    </tr>\n",
       "    <tr>\n",
       "      <th>2</th>\n",
       "      <td>7</td>\n",
       "      <td>7</td>\n",
       "      <td>estrato</td>\n",
       "      <td>0.155556</td>\n",
       "      <td>0.533333</td>\n",
       "    </tr>\n",
       "    <tr>\n",
       "      <th>3</th>\n",
       "      <td>3</td>\n",
       "      <td>6</td>\n",
       "      <td>garages</td>\n",
       "      <td>0.133333</td>\n",
       "      <td>0.666667</td>\n",
       "    </tr>\n",
       "    <tr>\n",
       "      <th>4</th>\n",
       "      <td>1</td>\n",
       "      <td>5</td>\n",
       "      <td>rooms</td>\n",
       "      <td>0.111111</td>\n",
       "      <td>0.777778</td>\n",
       "    </tr>\n",
       "    <tr>\n",
       "      <th>5</th>\n",
       "      <td>8</td>\n",
       "      <td>4</td>\n",
       "      <td>antiguedad</td>\n",
       "      <td>0.088889</td>\n",
       "      <td>0.866667</td>\n",
       "    </tr>\n",
       "    <tr>\n",
       "      <th>6</th>\n",
       "      <td>2</td>\n",
       "      <td>3</td>\n",
       "      <td>baths</td>\n",
       "      <td>0.066667</td>\n",
       "      <td>0.933333</td>\n",
       "    </tr>\n",
       "    <tr>\n",
       "      <th>7</th>\n",
       "      <td>5</td>\n",
       "      <td>2</td>\n",
       "      <td>longitude</td>\n",
       "      <td>0.044444</td>\n",
       "      <td>0.977778</td>\n",
       "    </tr>\n",
       "    <tr>\n",
       "      <th>8</th>\n",
       "      <td>4</td>\n",
       "      <td>1</td>\n",
       "      <td>latitude</td>\n",
       "      <td>0.022222</td>\n",
       "      <td>1.000000</td>\n",
       "    </tr>\n",
       "  </tbody>\n",
       "</table>\n",
       "</div>"
      ],
      "text/plain": [
       "   index  importance     feature  importance_normalized  cumulative_importance\n",
       "0      6           9       admon               0.200000               0.200000\n",
       "1      0           8     surface               0.177778               0.377778\n",
       "2      7           7     estrato               0.155556               0.533333\n",
       "3      3           6     garages               0.133333               0.666667\n",
       "4      1           5       rooms               0.111111               0.777778\n",
       "5      8           4  antiguedad               0.088889               0.866667\n",
       "6      2           3       baths               0.066667               0.933333\n",
       "7      5           2   longitude               0.044444               0.977778\n",
       "8      4           1    latitude               0.022222               1.000000"
      ]
     },
     "execution_count": 18,
     "metadata": {},
     "output_type": "execute_result"
    }
   ],
   "source": [
    "plot_feature_importances(feature_importances)"
   ]
  },
  {
   "cell_type": "code",
   "execution_count": null,
   "metadata": {},
   "outputs": [],
   "source": []
  },
  {
   "cell_type": "markdown",
   "metadata": {},
   "source": [
    "## Selección de features basada en arboles"
   ]
  },
  {
   "cell_type": "code",
   "execution_count": 19,
   "metadata": {},
   "outputs": [],
   "source": [
    "from sklearn.ensemble import ExtraTreesRegressor"
   ]
  },
  {
   "cell_type": "code",
   "execution_count": 20,
   "metadata": {},
   "outputs": [
    {
     "data": {
      "text/plain": [
       "ExtraTreesRegressor(random_state=0)"
      ]
     },
     "execution_count": 20,
     "metadata": {},
     "output_type": "execute_result"
    }
   ],
   "source": [
    "forest = ExtraTreesRegressor(n_estimators=100, random_state=0)\n",
    "forest.fit(X, y)"
   ]
  },
  {
   "cell_type": "code",
   "execution_count": 21,
   "metadata": {},
   "outputs": [],
   "source": [
    "feature_importances = pd.DataFrame({'importance':  forest.feature_importances_, 'feature': FEATURES})"
   ]
  },
  {
   "cell_type": "code",
   "execution_count": 22,
   "metadata": {},
   "outputs": [
    {
     "data": {
      "image/png": "[encoded data removed]",
      "text/plain": [
       "<Figure size 720x432 with 1 Axes>"
      ]
     },
     "metadata": {
      "needs_background": "light"
     },
     "output_type": "display_data"
    },
    {
     "data": {
      "image/png": "[encoded data removed]",
      "text/plain": [
       "<Figure size 576x432 with 1 Axes>"
      ]
     },
     "metadata": {
      "needs_background": "light"
     },
     "output_type": "display_data"
    },
    {
     "name": "stdout",
     "output_type": "stream",
     "text": [
      "6 features required for 0.90 of cumulative importance\n"
     ]
    },
    {
     "data": {
      "text/html": [
       "<div>\n",
       "<style scoped>\n",
       "    .dataframe tbody tr th:only-of-type {\n",
       "        vertical-align: middle;\n",
       "    }\n",
       "\n",
       "    .dataframe tbody tr th {\n",
       "        vertical-align: top;\n",
       "    }\n",
       "\n",
       "    .dataframe thead th {\n",
       "        text-align: right;\n",
       "    }\n",
       "</style>\n",
       "<table border=\"1\" class=\"dataframe\">\n",
       "  <thead>\n",
       "    <tr style=\"text-align: right;\">\n",
       "      <th></th>\n",
       "      <th>index</th>\n",
       "      <th>importance</th>\n",
       "      <th>feature</th>\n",
       "      <th>importance_normalized</th>\n",
       "      <th>cumulative_importance</th>\n",
       "    </tr>\n",
       "  </thead>\n",
       "  <tbody>\n",
       "    <tr>\n",
       "      <th>0</th>\n",
       "      <td>6</td>\n",
       "      <td>0.246703</td>\n",
       "      <td>admon</td>\n",
       "      <td>0.246703</td>\n",
       "      <td>0.246703</td>\n",
       "    </tr>\n",
       "    <tr>\n",
       "      <th>1</th>\n",
       "      <td>7</td>\n",
       "      <td>0.206760</td>\n",
       "      <td>estrato</td>\n",
       "      <td>0.206760</td>\n",
       "      <td>0.453463</td>\n",
       "    </tr>\n",
       "    <tr>\n",
       "      <th>2</th>\n",
       "      <td>5</td>\n",
       "      <td>0.191208</td>\n",
       "      <td>longitude</td>\n",
       "      <td>0.191208</td>\n",
       "      <td>0.644671</td>\n",
       "    </tr>\n",
       "    <tr>\n",
       "      <th>3</th>\n",
       "      <td>0</td>\n",
       "      <td>0.136111</td>\n",
       "      <td>surface</td>\n",
       "      <td>0.136111</td>\n",
       "      <td>0.780782</td>\n",
       "    </tr>\n",
       "    <tr>\n",
       "      <th>4</th>\n",
       "      <td>4</td>\n",
       "      <td>0.094068</td>\n",
       "      <td>latitude</td>\n",
       "      <td>0.094068</td>\n",
       "      <td>0.874850</td>\n",
       "    </tr>\n",
       "    <tr>\n",
       "      <th>5</th>\n",
       "      <td>2</td>\n",
       "      <td>0.060305</td>\n",
       "      <td>baths</td>\n",
       "      <td>0.060305</td>\n",
       "      <td>0.935155</td>\n",
       "    </tr>\n",
       "    <tr>\n",
       "      <th>6</th>\n",
       "      <td>8</td>\n",
       "      <td>0.052436</td>\n",
       "      <td>antiguedad</td>\n",
       "      <td>0.052436</td>\n",
       "      <td>0.987591</td>\n",
       "    </tr>\n",
       "    <tr>\n",
       "      <th>7</th>\n",
       "      <td>1</td>\n",
       "      <td>0.006892</td>\n",
       "      <td>rooms</td>\n",
       "      <td>0.006892</td>\n",
       "      <td>0.994483</td>\n",
       "    </tr>\n",
       "    <tr>\n",
       "      <th>8</th>\n",
       "      <td>3</td>\n",
       "      <td>0.005517</td>\n",
       "      <td>garages</td>\n",
       "      <td>0.005517</td>\n",
       "      <td>1.000000</td>\n",
       "    </tr>\n",
       "  </tbody>\n",
       "</table>\n",
       "</div>"
      ],
      "text/plain": [
       "   index  importance     feature  importance_normalized  cumulative_importance\n",
       "0      6    0.246703       admon               0.246703               0.246703\n",
       "1      7    0.206760     estrato               0.206760               0.453463\n",
       "2      5    0.191208   longitude               0.191208               0.644671\n",
       "3      0    0.136111     surface               0.136111               0.780782\n",
       "4      4    0.094068    latitude               0.094068               0.874850\n",
       "5      2    0.060305       baths               0.060305               0.935155\n",
       "6      8    0.052436  antiguedad               0.052436               0.987591\n",
       "7      1    0.006892       rooms               0.006892               0.994483\n",
       "8      3    0.005517     garages               0.005517               1.000000"
      ]
     },
     "execution_count": 22,
     "metadata": {},
     "output_type": "execute_result"
    }
   ],
   "source": [
    "plot_feature_importances(feature_importances)"
   ]
  },
  {
   "cell_type": "code",
   "execution_count": null,
   "metadata": {},
   "outputs": [],
   "source": []
  }
 ],
 "metadata": {
  "kernelspec": {
   "display_name": "Python 3",
   "language": "python",
   "name": "python3"
  },
  "language_info": {
   "codemirror_mode": {
    "name": "ipython",
    "version": 3
   },
   "file_extension": ".py",
   "mimetype": "text/x-python",
   "name": "python",
   "nbconvert_exporter": "python",
   "pygments_lexer": "ipython3",
   "version": "3.6.9"
  }
 },
 "nbformat": 4,
 "nbformat_minor": 2
}
