{
 "cells": [
  {
   "cell_type": "code",
   "execution_count": 2,
   "metadata": {},
   "outputs": [],
   "source": [
    "%load_ext dotenv\n",
    "%reload_ext dotenv\n",
    "%dotenv"
   ]
  },
  {
   "cell_type": "code",
   "execution_count": 3,
   "metadata": {},
   "outputs": [],
   "source": [
    "import pandas as pd\n",
    "import numpy as np\n",
    "\n",
    "import seaborn as sns\n",
    "import matplotlib.pyplot as plt\n",
    "\n",
    "import folium\n",
    "from folium.plugins import HeatMap\n",
    "from shapely.geometry import MultiPoint"
   ]
  },
  {
   "cell_type": "code",
   "execution_count": 4,
   "metadata": {},
   "outputs": [],
   "source": [
    "import os\n",
    "import sys\n",
    "\n",
    "from os.path import dirname\n",
    "UTILS_PATH=os.environ.get('REPO') + \"/notebooks/commons\"\n",
    "sys.path.append(dirname(UTILS_PATH))\n",
    "\n",
    "from commons import check_args, gen_paths, coordinates_bounds"
   ]
  },
  {
   "cell_type": "code",
   "execution_count": null,
   "metadata": {},
   "outputs": [],
   "source": []
  },
  {
   "cell_type": "code",
   "execution_count": 5,
   "metadata": {},
   "outputs": [],
   "source": [
    "import math\n",
    "\n",
    "def safe_pow(e):\n",
    "    result = math.inf\n",
    "    try:\n",
    "        result = float(2**e)\n",
    "        return result\n",
    "    except OverflowError as error:\n",
    "        return result\n",
    "    "
   ]
  },
  {
   "cell_type": "code",
   "execution_count": 6,
   "metadata": {},
   "outputs": [],
   "source": [
    "def load_posts(input_path):\n",
    "    df = pd.read_parquet(input_path)\n",
    "    return df"
   ]
  },
  {
   "cell_type": "code",
   "execution_count": null,
   "metadata": {},
   "outputs": [],
   "source": []
  },
  {
   "cell_type": "code",
   "execution_count": 7,
   "metadata": {},
   "outputs": [],
   "source": [
    "if __name__ == \"__main__\":\n",
    "    city = \"manizales\"\n",
    "    property_type = \"casas\"\n",
    "    post_type = \"arriendo\"\n",
    "    \n",
    "    #city, property_type, post_type = check_args()\n",
    "    base_path = os.environ.get('REPO')\n",
    "    \n",
    "    raw_path, clean_path = gen_paths(city, property_type, post_type)\n",
    "    \n",
    "    raw_path = base_path + raw_path\n",
    "    clean_path = base_path + clean_path"
   ]
  },
  {
   "cell_type": "code",
   "execution_count": 8,
   "metadata": {},
   "outputs": [
    {
     "name": "stdout",
     "output_type": "stream",
     "text": [
      "\n",
      "Hay 99 publicaciones de arriendo en total\n",
      "\n"
     ]
    },
    {
     "data": {
      "text/html": [
       "<div>\n",
       "<style scoped>\n",
       "    .dataframe tbody tr th:only-of-type {\n",
       "        vertical-align: middle;\n",
       "    }\n",
       "\n",
       "    .dataframe tbody tr th {\n",
       "        vertical-align: top;\n",
       "    }\n",
       "\n",
       "    .dataframe thead th {\n",
       "        text-align: right;\n",
       "    }\n",
       "</style>\n",
       "<table border=\"1\" class=\"dataframe\">\n",
       "  <thead>\n",
       "    <tr style=\"text-align: right;\">\n",
       "      <th></th>\n",
       "      <th>surface</th>\n",
       "      <th>rooms</th>\n",
       "      <th>baths</th>\n",
       "      <th>garages</th>\n",
       "      <th>price</th>\n",
       "      <th>latitude</th>\n",
       "      <th>description</th>\n",
       "      <th>longitude</th>\n",
       "      <th>location</th>\n",
       "      <th>url</th>\n",
       "      <th>admon</th>\n",
       "      <th>estrato</th>\n",
       "      <th>antiguedad</th>\n",
       "      <th>fid</th>\n",
       "      <th>city</th>\n",
       "      <th>property_type</th>\n",
       "      <th>post_type</th>\n",
       "      <th>price_m2</th>\n",
       "    </tr>\n",
       "  </thead>\n",
       "  <tbody>\n",
       "    <tr>\n",
       "      <th>0</th>\n",
       "      <td>486.0</td>\n",
       "      <td>4.0</td>\n",
       "      <td>4.0</td>\n",
       "      <td>0.0</td>\n",
       "      <td>4.86</td>\n",
       "      <td>5.068640</td>\n",
       "      <td>Área de 486 mtrs, 4 baños, cocina sencilla, cu...</td>\n",
       "      <td>-75.517929</td>\n",
       "      <td>Manizales CENTRO</td>\n",
       "      <td>https://www.fincaraiz.com.co/casa-en-arriendo/...</td>\n",
       "      <td>0.0</td>\n",
       "      <td>4.0</td>\n",
       "      <td>16 a 30</td>\n",
       "      <td>3078558</td>\n",
       "      <td>manizales</td>\n",
       "      <td>casas</td>\n",
       "      <td>arriendo</td>\n",
       "      <td>0.010000</td>\n",
       "    </tr>\n",
       "    <tr>\n",
       "      <th>1</th>\n",
       "      <td>110.0</td>\n",
       "      <td>3.0</td>\n",
       "      <td>3.0</td>\n",
       "      <td>0.0</td>\n",
       "      <td>4.00</td>\n",
       "      <td>5.062479</td>\n",
       "      <td>Área de 110 mtrs, 3 alcobas, 3 closet, 3 baños...</td>\n",
       "      <td>-75.495445</td>\n",
       "      <td>Manizales EL TRIANGULO</td>\n",
       "      <td>https://www.fincaraiz.com.co/casa-en-arriendo/...</td>\n",
       "      <td>0.0</td>\n",
       "      <td>6.0</td>\n",
       "      <td>16 a 30</td>\n",
       "      <td>3497615</td>\n",
       "      <td>manizales</td>\n",
       "      <td>casas</td>\n",
       "      <td>arriendo</td>\n",
       "      <td>0.036364</td>\n",
       "    </tr>\n",
       "    <tr>\n",
       "      <th>2</th>\n",
       "      <td>1.0</td>\n",
       "      <td>5.0</td>\n",
       "      <td>4.0</td>\n",
       "      <td>0.0</td>\n",
       "      <td>3.00</td>\n",
       "      <td>5.058675</td>\n",
       "      <td>5 alcobas, closet, 4 baños, sala comedor, coci...</td>\n",
       "      <td>-75.488083</td>\n",
       "      <td>Manizales PALOGRANDE</td>\n",
       "      <td>https://www.fincaraiz.com.co/casa-en-arriendo/...</td>\n",
       "      <td>0.0</td>\n",
       "      <td>6.0</td>\n",
       "      <td>16 a 30</td>\n",
       "      <td>5619086</td>\n",
       "      <td>manizales</td>\n",
       "      <td>casas</td>\n",
       "      <td>arriendo</td>\n",
       "      <td>3.000000</td>\n",
       "    </tr>\n",
       "    <tr>\n",
       "      <th>3</th>\n",
       "      <td>330.0</td>\n",
       "      <td>7.0</td>\n",
       "      <td>4.0</td>\n",
       "      <td>0.0</td>\n",
       "      <td>3.00</td>\n",
       "      <td>5.068990</td>\n",
       "      <td>Para comercial consta de 7 alcobas, 4 baños, c...</td>\n",
       "      <td>-75.517342</td>\n",
       "      <td>Manizales centro</td>\n",
       "      <td>https://www.fincaraiz.com.co/casa-en-arriendo/...</td>\n",
       "      <td>0.0</td>\n",
       "      <td>4.0</td>\n",
       "      <td>desconocido</td>\n",
       "      <td>5594083</td>\n",
       "      <td>manizales</td>\n",
       "      <td>casas</td>\n",
       "      <td>arriendo</td>\n",
       "      <td>0.009091</td>\n",
       "    </tr>\n",
       "    <tr>\n",
       "      <th>4</th>\n",
       "      <td>120.0</td>\n",
       "      <td>4.0</td>\n",
       "      <td>3.0</td>\n",
       "      <td>1.0</td>\n",
       "      <td>1.55</td>\n",
       "      <td>5.035938</td>\n",
       "      <td>Administra Bienes Raíces ofrece amplia e ilumi...</td>\n",
       "      <td>-75.469330</td>\n",
       "      <td>Manizales San Marcel</td>\n",
       "      <td>https://www.fincaraiz.com.co/casa-en-arriendo/...</td>\n",
       "      <td>0.0</td>\n",
       "      <td>6.0</td>\n",
       "      <td>desconocido</td>\n",
       "      <td>4430438</td>\n",
       "      <td>manizales</td>\n",
       "      <td>casas</td>\n",
       "      <td>arriendo</td>\n",
       "      <td>0.012917</td>\n",
       "    </tr>\n",
       "  </tbody>\n",
       "</table>\n",
       "</div>"
      ],
      "text/plain": [
       "   surface  rooms  baths  garages  price  latitude  \\\n",
       "0    486.0    4.0    4.0      0.0   4.86  5.068640   \n",
       "1    110.0    3.0    3.0      0.0   4.00  5.062479   \n",
       "2      1.0    5.0    4.0      0.0   3.00  5.058675   \n",
       "3    330.0    7.0    4.0      0.0   3.00  5.068990   \n",
       "4    120.0    4.0    3.0      1.0   1.55  5.035938   \n",
       "\n",
       "                                         description  longitude  \\\n",
       "0  Área de 486 mtrs, 4 baños, cocina sencilla, cu... -75.517929   \n",
       "1  Área de 110 mtrs, 3 alcobas, 3 closet, 3 baños... -75.495445   \n",
       "2  5 alcobas, closet, 4 baños, sala comedor, coci... -75.488083   \n",
       "3  Para comercial consta de 7 alcobas, 4 baños, c... -75.517342   \n",
       "4  Administra Bienes Raíces ofrece amplia e ilumi... -75.469330   \n",
       "\n",
       "                 location                                                url  \\\n",
       "0        Manizales CENTRO  https://www.fincaraiz.com.co/casa-en-arriendo/...   \n",
       "1  Manizales EL TRIANGULO  https://www.fincaraiz.com.co/casa-en-arriendo/...   \n",
       "2    Manizales PALOGRANDE  https://www.fincaraiz.com.co/casa-en-arriendo/...   \n",
       "3        Manizales centro  https://www.fincaraiz.com.co/casa-en-arriendo/...   \n",
       "4    Manizales San Marcel  https://www.fincaraiz.com.co/casa-en-arriendo/...   \n",
       "\n",
       "   admon  estrato   antiguedad      fid       city property_type post_type  \\\n",
       "0    0.0      4.0      16 a 30  3078558  manizales         casas  arriendo   \n",
       "1    0.0      6.0      16 a 30  3497615  manizales         casas  arriendo   \n",
       "2    0.0      6.0      16 a 30  5619086  manizales         casas  arriendo   \n",
       "3    0.0      4.0  desconocido  5594083  manizales         casas  arriendo   \n",
       "4    0.0      6.0  desconocido  4430438  manizales         casas  arriendo   \n",
       "\n",
       "   price_m2  \n",
       "0  0.010000  \n",
       "1  0.036364  \n",
       "2  3.000000  \n",
       "3  0.009091  \n",
       "4  0.012917  "
      ]
     },
     "execution_count": 8,
     "metadata": {},
     "output_type": "execute_result"
    }
   ],
   "source": [
    "MSG = \"\"\"\n",
    "Hay {} publicaciones de {} en total\n",
    "\"\"\"\n",
    "\n",
    "posts = load_posts(clean_path)\n",
    "print(MSG.format(posts.shape[0], post_type))\n",
    "posts.head()"
   ]
  },
  {
   "cell_type": "code",
   "execution_count": null,
   "metadata": {},
   "outputs": [],
   "source": []
  },
  {
   "cell_type": "markdown",
   "metadata": {},
   "source": [
    "## Mapa de calor precios"
   ]
  },
  {
   "cell_type": "code",
   "execution_count": 9,
   "metadata": {},
   "outputs": [
    {
     "data": {
      "text/plain": [
       "count    99.000000\n",
       "mean      4.055535\n",
       "std       4.561656\n",
       "min       0.400000\n",
       "25%       1.177500\n",
       "50%       3.000000\n",
       "75%       4.350000\n",
       "max      27.120000\n",
       "Name: price, dtype: float64"
      ]
     },
     "execution_count": 9,
     "metadata": {},
     "output_type": "execute_result"
    }
   ],
   "source": [
    "posts[\"price\"].describe()"
   ]
  },
  {
   "cell_type": "code",
   "execution_count": 17,
   "metadata": {},
   "outputs": [
    {
     "data": {
      "text/html": [
       "<div style=\"width:100%;\"><div style=\"position:relative;width:100%;height:0;padding-bottom:60%;\"><span style=\"color:#565656\">Make this Notebook Trusted to load map: File -> Trust Notebook</span><iframe src=\"about:blank\" style=\"position:absolute;width:100%;height:100%;left:0;top:0;border:none !important;\" data-html=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 onload=\"this.contentDocument.open();this.contentDocument.write(atob(this.getAttribute('data-html')));this.contentDocument.close();\" allowfullscreen webkitallowfullscreen mozallowfullscreen></iframe></div></div>"
      ],
      "text/plain": [
       "<folium.folium.Map at 0x7fb8f0cbe978>"
      ]
     },
     "execution_count": 17,
     "metadata": {},
     "output_type": "execute_result"
    }
   ],
   "source": [
    "folium_hmap = folium.Map(location=[\n",
    "    np.mean([coordinates_bounds[city][\"lat\"][\"lower\"], coordinates_bounds[city][\"lat\"][\"upper\"]]),\n",
    "    np.mean([coordinates_bounds[city][\"lon\"][\"lower\"], coordinates_bounds[city][\"lon\"][\"upper\"]])\n",
    "], zoom_start=13, tiles=\"OpenStreetMap\")\n",
    "\n",
    "posts.loc[:, \"price_exploded\"] =  posts[\"price\"].apply(safe_pow)\n",
    "\n",
    "max_amount = posts['price_exploded'].max()\n",
    "\n",
    "hm_wide = HeatMap( \n",
    "    posts[[\"latitude\", \"longitude\", \"price_exploded\"]],\n",
    "    min_opacity=0.2,\n",
    "    max_val=max_amount,\n",
    "    radius=7, blur=1, \n",
    "    max_zoom=15, \n",
    "    gradient={.1:'yellow', .4: 'orange',  .6: 'red'}\n",
    ")\n",
    "\n",
    "folium_hmap.add_child(hm_wide)"
   ]
  },
  {
   "cell_type": "code",
   "execution_count": null,
   "metadata": {},
   "outputs": [],
   "source": []
  },
  {
   "cell_type": "markdown",
   "metadata": {},
   "source": [
    "## Mapa de calor número de publicaciones"
   ]
  },
  {
   "cell_type": "code",
   "execution_count": 11,
   "metadata": {},
   "outputs": [],
   "source": [
    "from sklearn.cluster import DBSCAN"
   ]
  },
  {
   "cell_type": "code",
   "execution_count": 12,
   "metadata": {},
   "outputs": [],
   "source": [
    "coords = posts[['latitude','longitude']].values\n",
    "\n",
    "kms_per_radian = 6371.0088\n",
    "epsilon = 0.1 / kms_per_radian\n",
    "\n",
    "min_samples = 5"
   ]
  },
  {
   "cell_type": "code",
   "execution_count": 13,
   "metadata": {},
   "outputs": [],
   "source": [
    "## Geo clustering with examples\n",
    "# https://stackoverflow.com/questions/24762435/clustering-geo-location-coordinates-lat-long-pairs-using-kmeans-algorithm-with\n",
    "# https://geoffboeing.com/2014/08/clustering-to-reduce-spatial-data-set-size/\n",
    "\n",
    "db = DBSCAN(eps=epsilon, min_samples=min_samples, algorithm='ball_tree', metric='haversine').fit(np.radians(coords))"
   ]
  },
  {
   "cell_type": "code",
   "execution_count": 14,
   "metadata": {},
   "outputs": [
    {
     "data": {
      "text/html": [
       "<div>\n",
       "<style scoped>\n",
       "    .dataframe tbody tr th:only-of-type {\n",
       "        vertical-align: middle;\n",
       "    }\n",
       "\n",
       "    .dataframe tbody tr th {\n",
       "        vertical-align: top;\n",
       "    }\n",
       "\n",
       "    .dataframe thead th {\n",
       "        text-align: right;\n",
       "    }\n",
       "</style>\n",
       "<table border=\"1\" class=\"dataframe\">\n",
       "  <thead>\n",
       "    <tr style=\"text-align: right;\">\n",
       "      <th></th>\n",
       "      <th>latitude</th>\n",
       "      <th>longitude</th>\n",
       "      <th>cluster_id</th>\n",
       "      <th>cluster_latitude</th>\n",
       "      <th>cluster_longitude</th>\n",
       "    </tr>\n",
       "  </thead>\n",
       "  <tbody>\n",
       "    <tr>\n",
       "      <th>0</th>\n",
       "      <td>5.068640</td>\n",
       "      <td>-75.517929</td>\n",
       "      <td>0.0</td>\n",
       "      <td>5.068282</td>\n",
       "      <td>-75.518055</td>\n",
       "    </tr>\n",
       "    <tr>\n",
       "      <th>1</th>\n",
       "      <td>5.068990</td>\n",
       "      <td>-75.517342</td>\n",
       "      <td>0.0</td>\n",
       "      <td>5.068282</td>\n",
       "      <td>-75.518055</td>\n",
       "    </tr>\n",
       "    <tr>\n",
       "      <th>2</th>\n",
       "      <td>5.067968</td>\n",
       "      <td>-75.518257</td>\n",
       "      <td>0.0</td>\n",
       "      <td>5.068282</td>\n",
       "      <td>-75.518055</td>\n",
       "    </tr>\n",
       "    <tr>\n",
       "      <th>3</th>\n",
       "      <td>5.067968</td>\n",
       "      <td>-75.518410</td>\n",
       "      <td>0.0</td>\n",
       "      <td>5.068282</td>\n",
       "      <td>-75.518055</td>\n",
       "    </tr>\n",
       "    <tr>\n",
       "      <th>4</th>\n",
       "      <td>5.068010</td>\n",
       "      <td>-75.518112</td>\n",
       "      <td>0.0</td>\n",
       "      <td>5.068282</td>\n",
       "      <td>-75.518055</td>\n",
       "    </tr>\n",
       "  </tbody>\n",
       "</table>\n",
       "</div>"
      ],
      "text/plain": [
       "   latitude  longitude  cluster_id  cluster_latitude  cluster_longitude\n",
       "0  5.068640 -75.517929         0.0          5.068282         -75.518055\n",
       "1  5.068990 -75.517342         0.0          5.068282         -75.518055\n",
       "2  5.067968 -75.518257         0.0          5.068282         -75.518055\n",
       "3  5.067968 -75.518410         0.0          5.068282         -75.518055\n",
       "4  5.068010 -75.518112         0.0          5.068282         -75.518055"
      ]
     },
     "execution_count": 14,
     "metadata": {},
     "output_type": "execute_result"
    }
   ],
   "source": [
    "centroids = []\n",
    "clusters_size = len(db.labels_)\n",
    "\n",
    "for n in range(clusters_size):\n",
    "    cluster = posts[['latitude','longitude']][db.labels_ == n].copy()\n",
    "    if len(cluster) > 0:\n",
    "        cluster.loc[:, \"cluster_id\"] = n\n",
    "        \n",
    "        multi_point = MultiPoint(cluster.values)\n",
    "        cluster.loc[:, \"cluster_latitude\"] = multi_point.centroid.x\n",
    "        cluster.loc[:, \"cluster_longitude\"] = multi_point.centroid.y\n",
    "        \n",
    "    centroids.append(cluster)\n",
    "        \n",
    "clusters_df = pd.concat(centroids)\n",
    "clusters_df = clusters_df.reset_index(drop=True)\n",
    "clusters_df.head()"
   ]
  },
  {
   "cell_type": "code",
   "execution_count": 15,
   "metadata": {},
   "outputs": [
    {
     "data": {
      "text/html": [
       "<div>\n",
       "<style scoped>\n",
       "    .dataframe tbody tr th:only-of-type {\n",
       "        vertical-align: middle;\n",
       "    }\n",
       "\n",
       "    .dataframe tbody tr th {\n",
       "        vertical-align: top;\n",
       "    }\n",
       "\n",
       "    .dataframe thead th {\n",
       "        text-align: right;\n",
       "    }\n",
       "</style>\n",
       "<table border=\"1\" class=\"dataframe\">\n",
       "  <thead>\n",
       "    <tr style=\"text-align: right;\">\n",
       "      <th></th>\n",
       "      <th>cluster_id</th>\n",
       "      <th>latitude</th>\n",
       "      <th>longitude</th>\n",
       "      <th>count</th>\n",
       "    </tr>\n",
       "  </thead>\n",
       "  <tbody>\n",
       "    <tr>\n",
       "      <th>0</th>\n",
       "      <td>1</td>\n",
       "      <td>5.050056</td>\n",
       "      <td>-75.484512</td>\n",
       "      <td>2.0</td>\n",
       "    </tr>\n",
       "    <tr>\n",
       "      <th>1</th>\n",
       "      <td>1</td>\n",
       "      <td>5.050290</td>\n",
       "      <td>-75.483643</td>\n",
       "      <td>2.0</td>\n",
       "    </tr>\n",
       "    <tr>\n",
       "      <th>2</th>\n",
       "      <td>1</td>\n",
       "      <td>5.050306</td>\n",
       "      <td>-75.484032</td>\n",
       "      <td>2.0</td>\n",
       "    </tr>\n",
       "    <tr>\n",
       "      <th>3</th>\n",
       "      <td>1</td>\n",
       "      <td>5.050527</td>\n",
       "      <td>-75.483437</td>\n",
       "      <td>2.0</td>\n",
       "    </tr>\n",
       "    <tr>\n",
       "      <th>4</th>\n",
       "      <td>1</td>\n",
       "      <td>5.050879</td>\n",
       "      <td>-75.483902</td>\n",
       "      <td>2.0</td>\n",
       "    </tr>\n",
       "  </tbody>\n",
       "</table>\n",
       "</div>"
      ],
      "text/plain": [
       "   cluster_id  latitude  longitude  count\n",
       "0           1  5.050056 -75.484512    2.0\n",
       "1           1  5.050290 -75.483643    2.0\n",
       "2           1  5.050306 -75.484032    2.0\n",
       "3           1  5.050527 -75.483437    2.0\n",
       "4           1  5.050879 -75.483902    2.0"
      ]
     },
     "execution_count": 15,
     "metadata": {},
     "output_type": "execute_result"
    }
   ],
   "source": [
    "clusters_coordinates = clusters_df[[\"cluster_id\", \"latitude\", \"longitude\"]].groupby([\"latitude\", \"longitude\"]).count()\n",
    "\n",
    "coordinates = list(zip(*clusters_coordinates.index))\n",
    "clusters_coordinates.loc[:, \"latitude\"] = coordinates[0]\n",
    "clusters_coordinates.loc[:, \"longitude\"] = coordinates[1]\n",
    "\n",
    "clusters_coordinates.loc[:, \"count\"] = clusters_coordinates[\"cluster_id\"].apply(safe_pow)\n",
    "clusters_coordinates = clusters_coordinates.reset_index(drop=True)\n",
    "\n",
    "clusters_coordinates.head()"
   ]
  },
  {
   "cell_type": "code",
   "execution_count": 16,
   "metadata": {},
   "outputs": [
    {
     "data": {
      "text/html": [
       "<div style=\"width:100%;\"><div style=\"position:relative;width:100%;height:0;padding-bottom:60%;\"><span style=\"color:#565656\">Make this Notebook Trusted to load map: File -> Trust Notebook</span><iframe src=\"about:blank\" style=\"position:absolute;width:100%;height:100%;left:0;top:0;border:none !important;\" data-html=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 onload=\"this.contentDocument.open();this.contentDocument.write(atob(this.getAttribute('data-html')));this.contentDocument.close();\" allowfullscreen webkitallowfullscreen mozallowfullscreen></iframe></div></div>"
      ],
      "text/plain": [
       "<folium.folium.Map at 0x7fb8f0cacc50>"
      ]
     },
     "execution_count": 16,
     "metadata": {},
     "output_type": "execute_result"
    }
   ],
   "source": [
    "folium_hmap = folium.Map(location=[\n",
    "    np.mean([coordinates_bounds[city][\"lat\"][\"lower\"], coordinates_bounds[city][\"lat\"][\"upper\"]]),\n",
    "    np.mean([coordinates_bounds[city][\"lon\"][\"lower\"], coordinates_bounds[city][\"lon\"][\"upper\"]])\n",
    "], zoom_start=13, tiles=\"OpenStreetMap\")\n",
    "\n",
    "max_amount = clusters_coordinates['count'].max()\n",
    "\n",
    "hm_wide = HeatMap( \n",
    "    clusters_coordinates[[\"latitude\", \"longitude\", \"count\"]],\n",
    "    min_opacity=0.2,\n",
    "    max_val=max_amount,\n",
    "    radius=7, blur=1, \n",
    "    max_zoom=15, \n",
    "    gradient={.1:'yellow', .5: 'orange',  1: 'red'}\n",
    ")\n",
    "\n",
    "folium_hmap.add_child(hm_wide)"
   ]
  },
  {
   "cell_type": "code",
   "execution_count": null,
   "metadata": {},
   "outputs": [],
   "source": []
  }
 ],
 "metadata": {
  "jupytext": {
   "formats": "ipynb,Rmd"
  },
  "kernelspec": {
   "display_name": "Python 3",
   "language": "python",
   "name": "python3"
  },
  "language_info": {
   "codemirror_mode": {
    "name": "ipython",
    "version": 3
   },
   "file_extension": ".py",
   "mimetype": "text/x-python",
   "name": "python",
   "nbconvert_exporter": "python",
   "pygments_lexer": "ipython3",
   "version": "3.7.3"
  }
 },
 "nbformat": 4,
 "nbformat_minor": 2
}
