{
 "cells": [
  {
   "cell_type": "code",
   "execution_count": 1,
   "metadata": {},
   "outputs": [],
   "source": [
    "%load_ext dotenv\n",
    "%reload_ext dotenv\n",
    "%dotenv"
   ]
  },
  {
   "cell_type": "code",
   "execution_count": 2,
   "metadata": {},
   "outputs": [],
   "source": [
    "import pandas as pd\n",
    "import numpy as np\n",
    "\n",
    "import seaborn as sns\n",
    "import matplotlib.pyplot as plt\n",
    "\n",
    "import folium\n",
    "from folium.plugins import HeatMap\n",
    "from shapely.geometry import MultiPoint"
   ]
  },
  {
   "cell_type": "code",
   "execution_count": 3,
   "metadata": {},
   "outputs": [],
   "source": [
    "import os\n",
    "import sys\n",
    "\n",
    "from os.path import dirname\n",
    "UTILS_PATH=os.environ.get('REPO') + \"/notebooks/commons\"\n",
    "sys.path.append(dirname(UTILS_PATH))\n",
    "\n",
    "from commons import check_args_variables, gen_paths_variables, coordinates_bounds"
   ]
  },
  {
   "cell_type": "code",
   "execution_count": null,
   "metadata": {},
   "outputs": [],
   "source": []
  },
  {
   "cell_type": "code",
   "execution_count": 4,
   "metadata": {},
   "outputs": [],
   "source": [
    "if __name__ == \"__main__\":\n",
    "    source = \"OSM\"\n",
    "    city = \"manizales\"\n",
    "    \n",
    "    base_path = os.environ.get('REPO')\n",
    "    \n",
    "    source_path = base_path + gen_paths_variables(source, city)"
   ]
  },
  {
   "cell_type": "code",
   "execution_count": 6,
   "metadata": {},
   "outputs": [
    {
     "name": "stdout",
     "output_type": "stream",
     "text": [
      "\n",
      "Hay 693 publicaciones de manizales en total\n",
      "\n"
     ]
    },
    {
     "data": {
      "text/html": [
       "<div>\n",
       "<style scoped>\n",
       "    .dataframe tbody tr th:only-of-type {\n",
       "        vertical-align: middle;\n",
       "    }\n",
       "\n",
       "    .dataframe tbody tr th {\n",
       "        vertical-align: top;\n",
       "    }\n",
       "\n",
       "    .dataframe thead th {\n",
       "        text-align: right;\n",
       "    }\n",
       "</style>\n",
       "<table border=\"1\" class=\"dataframe\">\n",
       "  <thead>\n",
       "    <tr style=\"text-align: right;\">\n",
       "      <th></th>\n",
       "      <th>lat</th>\n",
       "      <th>lon</th>\n",
       "      <th>name</th>\n",
       "      <th>amenity</th>\n",
       "    </tr>\n",
       "  </thead>\n",
       "  <tbody>\n",
       "    <tr>\n",
       "      <th>0</th>\n",
       "      <td>5.0644216</td>\n",
       "      <td>-75.4951894</td>\n",
       "      <td>CAI La Leonora</td>\n",
       "      <td>police</td>\n",
       "    </tr>\n",
       "    <tr>\n",
       "      <th>1</th>\n",
       "      <td>5.0646280</td>\n",
       "      <td>-75.4974278</td>\n",
       "      <td>101 Perros</td>\n",
       "      <td>fast_food</td>\n",
       "    </tr>\n",
       "    <tr>\n",
       "      <th>2</th>\n",
       "      <td>5.0613149</td>\n",
       "      <td>-75.4904344</td>\n",
       "      <td>Universidad de Caldas - Sede Palogrande</td>\n",
       "      <td>university</td>\n",
       "    </tr>\n",
       "    <tr>\n",
       "      <th>3</th>\n",
       "      <td>5.0716575</td>\n",
       "      <td>-75.5171473</td>\n",
       "      <td>None</td>\n",
       "      <td>marketplace</td>\n",
       "    </tr>\n",
       "    <tr>\n",
       "      <th>4</th>\n",
       "      <td>5.0668861</td>\n",
       "      <td>-75.5042989</td>\n",
       "      <td>Universidad Autónoma de Manizales</td>\n",
       "      <td>university</td>\n",
       "    </tr>\n",
       "  </tbody>\n",
       "</table>\n",
       "</div>"
      ],
      "text/plain": [
       "         lat          lon                                     name  \\\n",
       "0  5.0644216  -75.4951894                           CAI La Leonora   \n",
       "1  5.0646280  -75.4974278                               101 Perros   \n",
       "2  5.0613149  -75.4904344  Universidad de Caldas - Sede Palogrande   \n",
       "3  5.0716575  -75.5171473                                     None   \n",
       "4  5.0668861  -75.5042989        Universidad Autónoma de Manizales   \n",
       "\n",
       "       amenity  \n",
       "0       police  \n",
       "1    fast_food  \n",
       "2   university  \n",
       "3  marketplace  \n",
       "4   university  "
      ]
     },
     "execution_count": 6,
     "metadata": {},
     "output_type": "execute_result"
    }
   ],
   "source": [
    "MSG = \"\"\"\n",
    "Hay {} publicaciones de {} en total\n",
    "\"\"\"\n",
    "\n",
    "external_variables = pd.read_parquet(source_path)\n",
    "print(MSG.format(external_variables.shape[0], city))\n",
    "external_variables.head()"
   ]
  },
  {
   "cell_type": "code",
   "execution_count": null,
   "metadata": {},
   "outputs": [],
   "source": []
  },
  {
   "cell_type": "code",
   "execution_count": 7,
   "metadata": {},
   "outputs": [],
   "source": [
    "from sklearn.cluster import DBSCAN"
   ]
  },
  {
   "cell_type": "code",
   "execution_count": 8,
   "metadata": {},
   "outputs": [],
   "source": [
    "coords = external_variables[['lat','lon']].copy()\n",
    "coords.loc[:, \"lat\"] = coords[\"lat\"].apply(float)\n",
    "coords.loc[:, \"lon\"] = coords[\"lon\"].apply(float)\n",
    "coords = coords.values\n",
    "\n",
    "kms_per_radian = 6371.0088\n",
    "epsilon = 0.1 / kms_per_radian\n",
    "\n",
    "min_samples = 20"
   ]
  },
  {
   "cell_type": "code",
   "execution_count": 9,
   "metadata": {},
   "outputs": [],
   "source": [
    "db = DBSCAN(eps=epsilon, min_samples=min_samples, algorithm='ball_tree', metric='haversine').fit(np.radians(coords))"
   ]
  },
  {
   "cell_type": "code",
   "execution_count": 10,
   "metadata": {},
   "outputs": [
    {
     "data": {
      "text/html": [
       "<div>\n",
       "<style scoped>\n",
       "    .dataframe tbody tr th:only-of-type {\n",
       "        vertical-align: middle;\n",
       "    }\n",
       "\n",
       "    .dataframe tbody tr th {\n",
       "        vertical-align: top;\n",
       "    }\n",
       "\n",
       "    .dataframe thead th {\n",
       "        text-align: right;\n",
       "    }\n",
       "</style>\n",
       "<table border=\"1\" class=\"dataframe\">\n",
       "  <thead>\n",
       "    <tr style=\"text-align: right;\">\n",
       "      <th></th>\n",
       "      <th>lat</th>\n",
       "      <th>lon</th>\n",
       "      <th>cluster_id</th>\n",
       "      <th>cluster_latitude</th>\n",
       "      <th>cluster_longitude</th>\n",
       "    </tr>\n",
       "  </thead>\n",
       "  <tbody>\n",
       "    <tr>\n",
       "      <th>0</th>\n",
       "      <td>5.0568617</td>\n",
       "      <td>-75.4864150</td>\n",
       "      <td>0.0</td>\n",
       "      <td>5.056436</td>\n",
       "      <td>-75.486162</td>\n",
       "    </tr>\n",
       "    <tr>\n",
       "      <th>1</th>\n",
       "      <td>5.0562421</td>\n",
       "      <td>-75.4853083</td>\n",
       "      <td>0.0</td>\n",
       "      <td>5.056436</td>\n",
       "      <td>-75.486162</td>\n",
       "    </tr>\n",
       "    <tr>\n",
       "      <th>2</th>\n",
       "      <td>5.0564718</td>\n",
       "      <td>-75.4854604</td>\n",
       "      <td>0.0</td>\n",
       "      <td>5.056436</td>\n",
       "      <td>-75.486162</td>\n",
       "    </tr>\n",
       "    <tr>\n",
       "      <th>3</th>\n",
       "      <td>5.0564944</td>\n",
       "      <td>-75.4854278</td>\n",
       "      <td>0.0</td>\n",
       "      <td>5.056436</td>\n",
       "      <td>-75.486162</td>\n",
       "    </tr>\n",
       "    <tr>\n",
       "      <th>4</th>\n",
       "      <td>5.0557649</td>\n",
       "      <td>-75.4871391</td>\n",
       "      <td>0.0</td>\n",
       "      <td>5.056436</td>\n",
       "      <td>-75.486162</td>\n",
       "    </tr>\n",
       "  </tbody>\n",
       "</table>\n",
       "</div>"
      ],
      "text/plain": [
       "         lat          lon  cluster_id  cluster_latitude  cluster_longitude\n",
       "0  5.0568617  -75.4864150         0.0          5.056436         -75.486162\n",
       "1  5.0562421  -75.4853083         0.0          5.056436         -75.486162\n",
       "2  5.0564718  -75.4854604         0.0          5.056436         -75.486162\n",
       "3  5.0564944  -75.4854278         0.0          5.056436         -75.486162\n",
       "4  5.0557649  -75.4871391         0.0          5.056436         -75.486162"
      ]
     },
     "execution_count": 10,
     "metadata": {},
     "output_type": "execute_result"
    }
   ],
   "source": [
    "centroids = []\n",
    "clusters_size = len(db.labels_)\n",
    "\n",
    "for n in range(clusters_size):\n",
    "    cluster = external_variables[['lat','lon']][db.labels_ == n].copy()\n",
    "    if len(cluster) > 0:\n",
    "        cluster.loc[:, \"cluster_id\"] = n\n",
    "        \n",
    "        multi_point = MultiPoint(cluster.values)\n",
    "        cluster.loc[:, \"cluster_latitude\"] = multi_point.centroid.x\n",
    "        cluster.loc[:, \"cluster_longitude\"] = multi_point.centroid.y\n",
    "        \n",
    "    centroids.append(cluster)\n",
    "        \n",
    "clusters_df = pd.concat(centroids)\n",
    "clusters_df = clusters_df.reset_index(drop=True)\n",
    "clusters_df.head()"
   ]
  },
  {
   "cell_type": "code",
   "execution_count": 11,
   "metadata": {},
   "outputs": [
    {
     "data": {
      "text/html": [
       "<div>\n",
       "<style scoped>\n",
       "    .dataframe tbody tr th:only-of-type {\n",
       "        vertical-align: middle;\n",
       "    }\n",
       "\n",
       "    .dataframe tbody tr th {\n",
       "        vertical-align: top;\n",
       "    }\n",
       "\n",
       "    .dataframe thead th {\n",
       "        text-align: right;\n",
       "    }\n",
       "</style>\n",
       "<table border=\"1\" class=\"dataframe\">\n",
       "  <thead>\n",
       "    <tr style=\"text-align: right;\">\n",
       "      <th></th>\n",
       "      <th>cluster_id</th>\n",
       "      <th>lat</th>\n",
       "      <th>lon</th>\n",
       "      <th>count</th>\n",
       "    </tr>\n",
       "  </thead>\n",
       "  <tbody>\n",
       "    <tr>\n",
       "      <th>0</th>\n",
       "      <td>1</td>\n",
       "      <td>5.0552121</td>\n",
       "      <td>-75.4854908</td>\n",
       "      <td>100.0</td>\n",
       "    </tr>\n",
       "    <tr>\n",
       "      <th>1</th>\n",
       "      <td>1</td>\n",
       "      <td>5.0553625</td>\n",
       "      <td>-75.4851470</td>\n",
       "      <td>100.0</td>\n",
       "    </tr>\n",
       "    <tr>\n",
       "      <th>2</th>\n",
       "      <td>1</td>\n",
       "      <td>5.0555672</td>\n",
       "      <td>-75.4855483</td>\n",
       "      <td>100.0</td>\n",
       "    </tr>\n",
       "    <tr>\n",
       "      <th>3</th>\n",
       "      <td>1</td>\n",
       "      <td>5.0555889</td>\n",
       "      <td>-75.4866771</td>\n",
       "      <td>100.0</td>\n",
       "    </tr>\n",
       "    <tr>\n",
       "      <th>4</th>\n",
       "      <td>1</td>\n",
       "      <td>5.0557555</td>\n",
       "      <td>-75.4870577</td>\n",
       "      <td>100.0</td>\n",
       "    </tr>\n",
       "  </tbody>\n",
       "</table>\n",
       "</div>"
      ],
      "text/plain": [
       "   cluster_id        lat          lon  count\n",
       "0           1  5.0552121  -75.4854908  100.0\n",
       "1           1  5.0553625  -75.4851470  100.0\n",
       "2           1  5.0555672  -75.4855483  100.0\n",
       "3           1  5.0555889  -75.4866771  100.0\n",
       "4           1  5.0557555  -75.4870577  100.0"
      ]
     },
     "execution_count": 11,
     "metadata": {},
     "output_type": "execute_result"
    }
   ],
   "source": [
    "clusters_coordinates = clusters_df[[\"cluster_id\", \"lat\", \"lon\"]].groupby([\"lat\", \"lon\"]).count()\n",
    "\n",
    "coordinates = list(zip(*clusters_coordinates.index))\n",
    "clusters_coordinates.loc[:, \"lat\"] = coordinates[0]\n",
    "clusters_coordinates.loc[:, \"lon\"] = coordinates[1]\n",
    "\n",
    "clusters_coordinates.loc[:, \"count\"] = clusters_coordinates[\"cluster_id\"].apply(lambda e: float(e*100))\n",
    "\n",
    "clusters_coordinates = clusters_coordinates.reset_index(drop=True)\n",
    "\n",
    "clusters_coordinates.head()"
   ]
  },
  {
   "cell_type": "code",
   "execution_count": 12,
   "metadata": {},
   "outputs": [
    {
     "data": {
      "text/html": [
       "<div style=\"width:100%;\"><div style=\"position:relative;width:100%;height:0;padding-bottom:60%;\"><span style=\"color:#565656\">Make this Notebook Trusted to load map: File -> Trust Notebook</span><iframe src=\"about:blank\" style=\"position:absolute;width:100%;height:100%;left:0;top:0;border:none !important;\" data-html=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 onload=\"this.contentDocument.open();this.contentDocument.write(atob(this.getAttribute('data-html')));this.contentDocument.close();\" allowfullscreen webkitallowfullscreen mozallowfullscreen></iframe></div></div>"
      ],
      "text/plain": [
       "<folium.folium.Map at 0x7f16e7d9b748>"
      ]
     },
     "execution_count": 12,
     "metadata": {},
     "output_type": "execute_result"
    }
   ],
   "source": [
    "folium_hmap = folium.Map(location=[\n",
    "    np.mean([coordinates_bounds[city][\"lat\"][\"lower\"], coordinates_bounds[city][\"lat\"][\"upper\"]]),\n",
    "    np.mean([coordinates_bounds[city][\"lon\"][\"lower\"], coordinates_bounds[city][\"lon\"][\"upper\"]])\n",
    "], zoom_start=13, tiles=\"OpenStreetMap\")\n",
    "\n",
    "max_amount = clusters_coordinates['count'].max()\n",
    "\n",
    "hm_wide = HeatMap( \n",
    "    clusters_coordinates[[\"lat\", \"lon\", \"count\"]],\n",
    "    min_opacity=0.2,\n",
    "    max_val=max_amount,\n",
    "    radius=8, blur=6, \n",
    "    max_zoom=15, \n",
    "    gradient={.1:'yellow', .5: 'orange',  1: 'red'}\n",
    ")\n",
    "\n",
    "folium_hmap.add_child(hm_wide)"
   ]
  },
  {
   "cell_type": "code",
   "execution_count": null,
   "metadata": {},
   "outputs": [],
   "source": []
  }
 ],
 "metadata": {
  "kernelspec": {
   "display_name": "Python 3",
   "language": "python",
   "name": "python3"
  },
  "language_info": {
   "codemirror_mode": {
    "name": "ipython",
    "version": 3
   },
   "file_extension": ".py",
   "mimetype": "text/x-python",
   "name": "python",
   "nbconvert_exporter": "python",
   "pygments_lexer": "ipython3",
   "version": "3.6.9"
  }
 },
 "nbformat": 4,
 "nbformat_minor": 2
}
