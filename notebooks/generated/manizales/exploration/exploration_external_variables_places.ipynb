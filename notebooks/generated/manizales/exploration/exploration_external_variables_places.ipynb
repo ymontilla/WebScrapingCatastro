{
 "cells": [
  {
   "cell_type": "code",
   "execution_count": 1,
   "metadata": {},
   "outputs": [],
   "source": [
    "%load_ext dotenv\n",
    "%reload_ext dotenv\n",
    "%dotenv"
   ]
  },
  {
   "cell_type": "code",
   "execution_count": 2,
   "metadata": {},
   "outputs": [],
   "source": [
    "import pandas as pd\n",
    "import numpy as np\n",
    "\n",
    "import seaborn as sns\n",
    "import matplotlib.pyplot as plt\n",
    "\n",
    "import folium\n",
    "from folium.plugins import HeatMap\n",
    "from shapely.geometry import MultiPoint"
   ]
  },
  {
   "cell_type": "code",
   "execution_count": 3,
   "metadata": {},
   "outputs": [],
   "source": [
    "import os\n",
    "import sys\n",
    "\n",
    "from os.path import dirname\n",
    "UTILS_PATH=os.environ.get('REPO') + \"/notebooks/commons\"\n",
    "sys.path.append(dirname(UTILS_PATH))\n",
    "\n",
    "from commons import check_args_variables, gen_paths_variables, coordinates_bounds"
   ]
  },
  {
   "cell_type": "code",
   "execution_count": null,
   "metadata": {},
   "outputs": [],
   "source": []
  },
  {
   "cell_type": "code",
   "execution_count": 4,
   "metadata": {},
   "outputs": [],
   "source": [
    "if __name__ == \"__main__\":\n",
    "    source = \"PLACES\"\n",
    "    city = \"manizales\"\n",
    "    \n",
    "    base_path = os.environ.get('REPO')\n",
    "    \n",
    "    source_path = base_path + gen_paths_variables(source, city)"
   ]
  },
  {
   "cell_type": "code",
   "execution_count": 5,
   "metadata": {},
   "outputs": [
    {
     "name": "stdout",
     "output_type": "stream",
     "text": [
      "\n",
      "Hay 2588 publicaciones de manizales en total\n",
      "\n"
     ]
    },
    {
     "data": {
      "text/html": [
       "<div>\n",
       "<style scoped>\n",
       "    .dataframe tbody tr th:only-of-type {\n",
       "        vertical-align: middle;\n",
       "    }\n",
       "\n",
       "    .dataframe tbody tr th {\n",
       "        vertical-align: top;\n",
       "    }\n",
       "\n",
       "    .dataframe thead th {\n",
       "        text-align: right;\n",
       "    }\n",
       "</style>\n",
       "<table border=\"1\" class=\"dataframe\">\n",
       "  <thead>\n",
       "    <tr style=\"text-align: right;\">\n",
       "      <th></th>\n",
       "      <th>lat</th>\n",
       "      <th>lon</th>\n",
       "      <th>amenity</th>\n",
       "      <th>name</th>\n",
       "    </tr>\n",
       "  </thead>\n",
       "  <tbody>\n",
       "    <tr>\n",
       "      <th>0</th>\n",
       "      <td>5.045667899999999</td>\n",
       "      <td>-75.52899150000000</td>\n",
       "      <td>university</td>\n",
       "      <td>Universidad Antonio Nariño Manizales</td>\n",
       "    </tr>\n",
       "    <tr>\n",
       "      <th>1</th>\n",
       "      <td>5.045667899999999</td>\n",
       "      <td>-75.52899150000000</td>\n",
       "      <td>university</td>\n",
       "      <td>UAN Universidad Antonio Nariño</td>\n",
       "    </tr>\n",
       "    <tr>\n",
       "      <th>2</th>\n",
       "      <td>5.001526000000000</td>\n",
       "      <td>-75.59880199999999</td>\n",
       "      <td>university</td>\n",
       "      <td>Mànizales</td>\n",
       "    </tr>\n",
       "    <tr>\n",
       "      <th>3</th>\n",
       "      <td>4.985795800000000</td>\n",
       "      <td>-75.60692829999999</td>\n",
       "      <td>university</td>\n",
       "      <td>CUN - Corporación Unificada Nacional de Educac...</td>\n",
       "    </tr>\n",
       "    <tr>\n",
       "      <th>4</th>\n",
       "      <td>4.983538500000001</td>\n",
       "      <td>-75.60562440000000</td>\n",
       "      <td>university</td>\n",
       "      <td>JUZGADO PRIMERO PROMISCUO MUNICIPAL DE CHINCHINÁ</td>\n",
       "    </tr>\n",
       "  </tbody>\n",
       "</table>\n",
       "</div>"
      ],
      "text/plain": [
       "                 lat                 lon     amenity  \\\n",
       "0  5.045667899999999  -75.52899150000000  university   \n",
       "1  5.045667899999999  -75.52899150000000  university   \n",
       "2  5.001526000000000  -75.59880199999999  university   \n",
       "3  4.985795800000000  -75.60692829999999  university   \n",
       "4  4.983538500000001  -75.60562440000000  university   \n",
       "\n",
       "                                                name  \n",
       "0               Universidad Antonio Nariño Manizales  \n",
       "1                     UAN Universidad Antonio Nariño  \n",
       "2                                          Mànizales  \n",
       "3  CUN - Corporación Unificada Nacional de Educac...  \n",
       "4   JUZGADO PRIMERO PROMISCUO MUNICIPAL DE CHINCHINÁ  "
      ]
     },
     "execution_count": 5,
     "metadata": {},
     "output_type": "execute_result"
    }
   ],
   "source": [
    "MSG = \"\"\"\n",
    "Hay {} publicaciones de {} en total\n",
    "\"\"\"\n",
    "\n",
    "external_variables = pd.read_parquet(source_path)\n",
    "print(MSG.format(external_variables.shape[0], city))\n",
    "external_variables.head()"
   ]
  },
  {
   "cell_type": "code",
   "execution_count": null,
   "metadata": {},
   "outputs": [],
   "source": []
  },
  {
   "cell_type": "code",
   "execution_count": 6,
   "metadata": {},
   "outputs": [],
   "source": [
    "from sklearn.cluster import DBSCAN"
   ]
  },
  {
   "cell_type": "code",
   "execution_count": 7,
   "metadata": {},
   "outputs": [],
   "source": [
    "coords = external_variables[['lat','lon']].copy()\n",
    "coords.loc[:, \"lat\"] = coords[\"lat\"].apply(float)\n",
    "coords.loc[:, \"lon\"] = coords[\"lon\"].apply(float)\n",
    "coords = coords.values\n",
    "\n",
    "kms_per_radian = 6371.0088\n",
    "epsilon = 0.1 / kms_per_radian\n",
    "\n",
    "min_samples = 20"
   ]
  },
  {
   "cell_type": "code",
   "execution_count": 8,
   "metadata": {},
   "outputs": [],
   "source": [
    "db = DBSCAN(eps=epsilon, min_samples=min_samples, algorithm='ball_tree', metric='haversine').fit(np.radians(coords))"
   ]
  },
  {
   "cell_type": "code",
   "execution_count": 9,
   "metadata": {},
   "outputs": [
    {
     "data": {
      "text/html": [
       "<div>\n",
       "<style scoped>\n",
       "    .dataframe tbody tr th:only-of-type {\n",
       "        vertical-align: middle;\n",
       "    }\n",
       "\n",
       "    .dataframe tbody tr th {\n",
       "        vertical-align: top;\n",
       "    }\n",
       "\n",
       "    .dataframe thead th {\n",
       "        text-align: right;\n",
       "    }\n",
       "</style>\n",
       "<table border=\"1\" class=\"dataframe\">\n",
       "  <thead>\n",
       "    <tr style=\"text-align: right;\">\n",
       "      <th></th>\n",
       "      <th>lat</th>\n",
       "      <th>lon</th>\n",
       "      <th>cluster_id</th>\n",
       "      <th>cluster_latitude</th>\n",
       "      <th>cluster_longitude</th>\n",
       "    </tr>\n",
       "  </thead>\n",
       "  <tbody>\n",
       "    <tr>\n",
       "      <th>0</th>\n",
       "      <td>5.066951299999999</td>\n",
       "      <td>-75.51722980000000</td>\n",
       "      <td>0.0</td>\n",
       "      <td>5.067697</td>\n",
       "      <td>-75.517177</td>\n",
       "    </tr>\n",
       "    <tr>\n",
       "      <th>1</th>\n",
       "      <td>5.067671100000000</td>\n",
       "      <td>-75.51814130000000</td>\n",
       "      <td>0.0</td>\n",
       "      <td>5.067697</td>\n",
       "      <td>-75.517177</td>\n",
       "    </tr>\n",
       "    <tr>\n",
       "      <th>2</th>\n",
       "      <td>5.068339100000000</td>\n",
       "      <td>-75.51782920000000</td>\n",
       "      <td>0.0</td>\n",
       "      <td>5.067697</td>\n",
       "      <td>-75.517177</td>\n",
       "    </tr>\n",
       "    <tr>\n",
       "      <th>3</th>\n",
       "      <td>5.067361600000000</td>\n",
       "      <td>-75.51957780000000</td>\n",
       "      <td>0.0</td>\n",
       "      <td>5.067697</td>\n",
       "      <td>-75.517177</td>\n",
       "    </tr>\n",
       "    <tr>\n",
       "      <th>4</th>\n",
       "      <td>5.067478100000001</td>\n",
       "      <td>-75.51970860000000</td>\n",
       "      <td>0.0</td>\n",
       "      <td>5.067697</td>\n",
       "      <td>-75.517177</td>\n",
       "    </tr>\n",
       "  </tbody>\n",
       "</table>\n",
       "</div>"
      ],
      "text/plain": [
       "                 lat                 lon  cluster_id  cluster_latitude  \\\n",
       "0  5.066951299999999  -75.51722980000000         0.0          5.067697   \n",
       "1  5.067671100000000  -75.51814130000000         0.0          5.067697   \n",
       "2  5.068339100000000  -75.51782920000000         0.0          5.067697   \n",
       "3  5.067361600000000  -75.51957780000000         0.0          5.067697   \n",
       "4  5.067478100000001  -75.51970860000000         0.0          5.067697   \n",
       "\n",
       "   cluster_longitude  \n",
       "0         -75.517177  \n",
       "1         -75.517177  \n",
       "2         -75.517177  \n",
       "3         -75.517177  \n",
       "4         -75.517177  "
      ]
     },
     "execution_count": 9,
     "metadata": {},
     "output_type": "execute_result"
    }
   ],
   "source": [
    "centroids = []\n",
    "clusters_size = len(db.labels_)\n",
    "\n",
    "for n in range(clusters_size):\n",
    "    cluster = external_variables[['lat','lon']][db.labels_ == n].copy()\n",
    "    if len(cluster) > 0:\n",
    "        cluster.loc[:, \"cluster_id\"] = n\n",
    "        \n",
    "        multi_point = MultiPoint(cluster.values)\n",
    "        cluster.loc[:, \"cluster_latitude\"] = multi_point.centroid.x\n",
    "        cluster.loc[:, \"cluster_longitude\"] = multi_point.centroid.y\n",
    "        \n",
    "    centroids.append(cluster)\n",
    "        \n",
    "clusters_df = pd.concat(centroids)\n",
    "clusters_df = clusters_df.reset_index(drop=True)\n",
    "clusters_df.head()"
   ]
  },
  {
   "cell_type": "code",
   "execution_count": 10,
   "metadata": {},
   "outputs": [
    {
     "data": {
      "text/html": [
       "<div>\n",
       "<style scoped>\n",
       "    .dataframe tbody tr th:only-of-type {\n",
       "        vertical-align: middle;\n",
       "    }\n",
       "\n",
       "    .dataframe tbody tr th {\n",
       "        vertical-align: top;\n",
       "    }\n",
       "\n",
       "    .dataframe thead th {\n",
       "        text-align: right;\n",
       "    }\n",
       "</style>\n",
       "<table border=\"1\" class=\"dataframe\">\n",
       "  <thead>\n",
       "    <tr style=\"text-align: right;\">\n",
       "      <th></th>\n",
       "      <th>cluster_id</th>\n",
       "      <th>lat</th>\n",
       "      <th>lon</th>\n",
       "      <th>count</th>\n",
       "    </tr>\n",
       "  </thead>\n",
       "  <tbody>\n",
       "    <tr>\n",
       "      <th>0</th>\n",
       "      <td>1</td>\n",
       "      <td>4.982349000000000</td>\n",
       "      <td>-75.60545499999999</td>\n",
       "      <td>100.0</td>\n",
       "    </tr>\n",
       "    <tr>\n",
       "      <th>1</th>\n",
       "      <td>1</td>\n",
       "      <td>4.982365900000000</td>\n",
       "      <td>-75.60544910000000</td>\n",
       "      <td>100.0</td>\n",
       "    </tr>\n",
       "    <tr>\n",
       "      <th>2</th>\n",
       "      <td>1</td>\n",
       "      <td>4.982439000000000</td>\n",
       "      <td>-75.60523800000000</td>\n",
       "      <td>100.0</td>\n",
       "    </tr>\n",
       "    <tr>\n",
       "      <th>3</th>\n",
       "      <td>1</td>\n",
       "      <td>4.982473000000001</td>\n",
       "      <td>-75.60508800000000</td>\n",
       "      <td>100.0</td>\n",
       "    </tr>\n",
       "    <tr>\n",
       "      <th>4</th>\n",
       "      <td>1</td>\n",
       "      <td>4.982522100000000</td>\n",
       "      <td>-75.60540200000000</td>\n",
       "      <td>100.0</td>\n",
       "    </tr>\n",
       "  </tbody>\n",
       "</table>\n",
       "</div>"
      ],
      "text/plain": [
       "   cluster_id                lat                 lon  count\n",
       "0           1  4.982349000000000  -75.60545499999999  100.0\n",
       "1           1  4.982365900000000  -75.60544910000000  100.0\n",
       "2           1  4.982439000000000  -75.60523800000000  100.0\n",
       "3           1  4.982473000000001  -75.60508800000000  100.0\n",
       "4           1  4.982522100000000  -75.60540200000000  100.0"
      ]
     },
     "execution_count": 10,
     "metadata": {},
     "output_type": "execute_result"
    }
   ],
   "source": [
    "clusters_coordinates = clusters_df[[\"cluster_id\", \"lat\", \"lon\"]].groupby([\"lat\", \"lon\"]).count()\n",
    "\n",
    "coordinates = list(zip(*clusters_coordinates.index))\n",
    "clusters_coordinates.loc[:, \"lat\"] = coordinates[0]\n",
    "clusters_coordinates.loc[:, \"lon\"] = coordinates[1]\n",
    "\n",
    "clusters_coordinates.loc[:, \"count\"] = clusters_coordinates[\"cluster_id\"].apply(lambda e: float(e*100))\n",
    "\n",
    "clusters_coordinates = clusters_coordinates.reset_index(drop=True)\n",
    "\n",
    "clusters_coordinates.head()"
   ]
  },
  {
   "cell_type": "code",
   "execution_count": 11,
   "metadata": {},
   "outputs": [
    {
     "data": {
      "text/html": [
       "<div style=\"width:100%;\"><div style=\"position:relative;width:100%;height:0;padding-bottom:60%;\"><span style=\"color:#565656\">Make this Notebook Trusted to load map: File -> Trust Notebook</span><iframe src=\"about:blank\" style=\"position:absolute;width:100%;height:100%;left:0;top:0;border:none !important;\" data-html=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 onload=\"this.contentDocument.open();this.contentDocument.write(atob(this.getAttribute('data-html')));this.contentDocument.close();\" allowfullscreen webkitallowfullscreen mozallowfullscreen></iframe></div></div>"
      ],
      "text/plain": [
       "<folium.folium.Map at 0x7f2f4d83d4e0>"
      ]
     },
     "execution_count": 11,
     "metadata": {},
     "output_type": "execute_result"
    }
   ],
   "source": [
    "folium_hmap = folium.Map(location=[\n",
    "    np.mean([coordinates_bounds[city][\"lat\"][\"lower\"], coordinates_bounds[city][\"lat\"][\"upper\"]]),\n",
    "    np.mean([coordinates_bounds[city][\"lon\"][\"lower\"], coordinates_bounds[city][\"lon\"][\"upper\"]])\n",
    "], zoom_start=13, tiles=\"OpenStreetMap\")\n",
    "\n",
    "max_amount = clusters_coordinates['count'].max()\n",
    "\n",
    "hm_wide = HeatMap( \n",
    "    clusters_coordinates[[\"lat\", \"lon\", \"count\"]],\n",
    "    min_opacity=0.2,\n",
    "    max_val=max_amount,\n",
    "    radius=8, blur=6, \n",
    "    max_zoom=15, \n",
    "    gradient={.1:'yellow', .5: 'orange',  1: 'red'}\n",
    ")\n",
    "\n",
    "folium_hmap.add_child(hm_wide)"
   ]
  },
  {
   "cell_type": "code",
   "execution_count": null,
   "metadata": {},
   "outputs": [],
   "source": []
  }
 ],
 "metadata": {
  "jupytext": {
   "formats": "ipynb,Rmd"
  },
  "kernelspec": {
   "display_name": "Python 3",
   "language": "python",
   "name": "python3"
  },
  "language_info": {
   "codemirror_mode": {
    "name": "ipython",
    "version": 3
   },
   "file_extension": ".py",
   "mimetype": "text/x-python",
   "name": "python",
   "nbconvert_exporter": "python",
   "pygments_lexer": "ipython3",
   "version": "3.6.9"
  }
 },
 "nbformat": 4,
 "nbformat_minor": 2
}
