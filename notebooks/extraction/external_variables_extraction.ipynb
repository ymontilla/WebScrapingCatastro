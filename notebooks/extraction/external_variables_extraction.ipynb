{
 "cells": [
  {
   "cell_type": "code",
   "execution_count": 1,
   "metadata": {},
   "outputs": [],
   "source": [
    "%load_ext dotenv\n",
    "%reload_ext dotenv\n",
    "%dotenv"
   ]
  },
  {
   "cell_type": "code",
   "execution_count": 2,
   "metadata": {},
   "outputs": [],
   "source": [
    "import sys\n",
    "import os\n",
    "from os.path import dirname\n",
    "\n",
    "UTILS_PATH=os.environ.get('REPO') + \"/src/overpass\"\n",
    "sys.path.append(dirname(UTILS_PATH))\n",
    "\n",
    "UTILS_PATH=os.environ.get('REPO') + \"/src/places\"\n",
    "sys.path.append(dirname(UTILS_PATH))"
   ]
  },
  {
   "cell_type": "code",
   "execution_count": 3,
   "metadata": {},
   "outputs": [],
   "source": [
    "import places"
   ]
  },
  {
   "cell_type": "code",
   "execution_count": 4,
   "metadata": {},
   "outputs": [],
   "source": [
    "import overpass"
   ]
  },
  {
   "cell_type": "code",
   "execution_count": null,
   "metadata": {},
   "outputs": [],
   "source": []
  },
  {
   "cell_type": "code",
   "execution_count": 5,
   "metadata": {},
   "outputs": [],
   "source": [
    "import pandas as pd\n",
    "import numpy as np\n",
    "def generate_locations_grid(coordinates, grid=0.1):\n",
    "    x_axis = np.arange(coordinates['lat']['lower'], coordinates['lat']['upper'], grid)\n",
    "    y_axis = np.arange(coordinates['lon']['lower'], coordinates['lon']['upper'], grid)\n",
    "    \n",
    "    results = []\n",
    "    for i in x_axis:\n",
    "        for j in y_axis:\n",
    "            results.append((i, j))\n",
    "    \n",
    "    df = pd.DataFrame(results)\n",
    "    df.columns = ['latitude', 'longitude']\n",
    "    return df\n",
    "\n",
    "AMENITIES = [\"university\", \"shopping_mall\", \"school\", \"secondary_school\", \"police\", \"park\", \n",
    "         \"local_government_office\", \"library\", \"hospital\", \"church\", \"airport\", \"amusement_park\",\n",
    "            \"bank\", \"restaurant\"]\n",
    "\n",
    "def build_interest_points_places(df, amenities=AMENITIES):\n",
    "    results = []\n",
    "    \n",
    "    for location_id in df.index:\n",
    "        location = df.loc[location_id]\n",
    "        for amenity in amenities:\n",
    "            results.append(\n",
    "                places.query_google_nearby(location, amenity)\n",
    "            )\n",
    "        \n",
    "    final = pd.concat(results)\n",
    "    final.index = list(range(final.shape[0]))\n",
    "    final.reindex()\n",
    "    return final\n",
    "\n"
   ]
  },
  {
   "cell_type": "code",
   "execution_count": null,
   "metadata": {},
   "outputs": [],
   "source": []
  },
  {
   "cell_type": "code",
   "execution_count": 10,
   "metadata": {},
   "outputs": [],
   "source": [
    "DATE = \"2020-10-16\"\n",
    "\n",
    "OSM_TEMPLATE = os.environ.get('REPO') + f\"/data/OSM/{DATE}/puntos_interes_{{}}.parquet\"\n",
    "OSM_INPUT_TEMPLATE = os.environ.get('REPO') +  f\"/data/OSM/{DATE}/{{}}.geojson\"\n",
    "\n",
    "PLACES_TEMPLATE = os.environ.get('REPO') + f\"/data/PLACES/{DATE}/puntos_interes_{{}}.parquet\""
   ]
  },
  {
   "cell_type": "code",
   "execution_count": 11,
   "metadata": {},
   "outputs": [],
   "source": [
    "from os.path import isfile\n",
    "\n",
    "def prepare_places_df(locations_grid, filename):\n",
    "    interest_points = build_interest_points_places(locations_grid)\n",
    "    \n",
    "    interest_points = interest_points.loc[:, [\"i_lat\", \"i_lon\", \"amenity\", \"name\"]]\n",
    "    interest_points.columns = [\"lat\", \"lon\", \"amenity\", \"name\"]\n",
    "    interest_points = interest_points.drop_duplicates([\"lat\", \"lon\", \"amenity\", \"name\"])\n",
    "    \n",
    "    interest_points.to_parquet(filename)\n",
    "    \n",
    "    return interest_points\n",
    "\n",
    "def load_places_results(coordinates, filename, grid=0.01):\n",
    "    locations_grid = generate_locations_grid(coordinates, grid=grid)\n",
    "    \n",
    "    if isfile(filename):\n",
    "        return pd.read_parquet(filename)\n",
    "    \n",
    "    return prepare_places_df(coordinates, filename)\n",
    "\n",
    "def load_osm_results(filename, osm_filename):    \n",
    "    if isfile(filename):\n",
    "        return pd.read_parquet(filename)\n",
    "    \n",
    "    osm_df = overpass.read_nodes_overpass_api(osm_filename)\n",
    "    osm_df.to_parquet(filename)\n",
    "\n",
    "    return osm_df"
   ]
  },
  {
   "cell_type": "code",
   "execution_count": null,
   "metadata": {},
   "outputs": [],
   "source": []
  },
  {
   "cell_type": "markdown",
   "metadata": {},
   "source": [
    "## Fusagasuga"
   ]
  },
  {
   "cell_type": "code",
   "execution_count": 12,
   "metadata": {},
   "outputs": [],
   "source": [
    "fusagasuga_coordinates = {\n",
    "    'lat': {\n",
    "        'lower': 4.323127,\n",
    "        'upper': 4.356505\n",
    "    },\n",
    "    'lon':{\n",
    "        'lower': -74.419864,\n",
    "        'upper': -74.349483\n",
    "    }\n",
    "}"
   ]
  },
  {
   "cell_type": "markdown",
   "metadata": {},
   "source": [
    "### OSM\n",
    "\n",
    "Los resultados se descargan en geojson usando el API de overpass\n",
    "\n",
    "> curl 'https://overpass-api.de/api/interpreter' -H 'Connection: keep-alive' -H 'Accept: */*' -H 'Origin: https://overpass-turbo.eu' -H 'User-Agent: Mozilla/5.0 (X11; Linux x86_64) AppleWebKit/537.36 (KHTML, like Gecko) Chrome/79.0.3945.130 Safari/537.36' -H 'Content-Type: application/x-www-form-urlencoded; charset=UTF-8' -H 'Sec-Fetch-Site: cross-site' -H 'Sec-Fetch-Mode: cors' -H 'Referer: https://overpass-turbo.eu/' -H 'Accept-Encoding: gzip, deflate, br' -H 'Accept-Language: es,es-419;q=0.9' --data 'data=%2F*%0AThis+has+been+generated+by+the+overpass-turbo+wizard.%0AThe+original+search+was%3A%0A%E2%80%9Camenity%3Dbus_station%E2%80%9D%0A*%2F%0A%5Bout%3Ajson%5D%5Btimeout%3A60%5D%3B%0A%2F%2F+gather+results%0A(%0A++node(4.3114066719897925%2C-74.40919876098633%2C4.359762236889401%2C-74.3488597869873)%3B%0A)%3B%0A%2F%2F+print+results%0Aout+body%3B%0A%3E%3B%0Aout+skel+qt%3B' --compressed  >> fusagasuga.geojson"
   ]
  },
  {
   "cell_type": "code",
   "execution_count": 13,
   "metadata": {},
   "outputs": [
    {
     "data": {
      "text/html": [
       "<div>\n",
       "<style scoped>\n",
       "    .dataframe tbody tr th:only-of-type {\n",
       "        vertical-align: middle;\n",
       "    }\n",
       "\n",
       "    .dataframe tbody tr th {\n",
       "        vertical-align: top;\n",
       "    }\n",
       "\n",
       "    .dataframe thead th {\n",
       "        text-align: right;\n",
       "    }\n",
       "</style>\n",
       "<table border=\"1\" class=\"dataframe\">\n",
       "  <thead>\n",
       "    <tr style=\"text-align: right;\">\n",
       "      <th></th>\n",
       "      <th>lat</th>\n",
       "      <th>lon</th>\n",
       "      <th>name</th>\n",
       "      <th>amenity</th>\n",
       "    </tr>\n",
       "  </thead>\n",
       "  <tbody>\n",
       "    <tr>\n",
       "      <th>0</th>\n",
       "      <td>4.3265082</td>\n",
       "      <td>-74.3962481</td>\n",
       "      <td>None</td>\n",
       "      <td>fuel</td>\n",
       "    </tr>\n",
       "    <tr>\n",
       "      <th>1</th>\n",
       "      <td>4.3169441</td>\n",
       "      <td>-74.3941878</td>\n",
       "      <td>Fritanga Blanca</td>\n",
       "      <td>restaurant</td>\n",
       "    </tr>\n",
       "    <tr>\n",
       "      <th>2</th>\n",
       "      <td>4.3424018</td>\n",
       "      <td>-74.3634092</td>\n",
       "      <td>None</td>\n",
       "      <td>bank</td>\n",
       "    </tr>\n",
       "    <tr>\n",
       "      <th>3</th>\n",
       "      <td>4.3319107</td>\n",
       "      <td>-74.3771614</td>\n",
       "      <td>Brio Los Arboles</td>\n",
       "      <td>fuel</td>\n",
       "    </tr>\n",
       "    <tr>\n",
       "      <th>4</th>\n",
       "      <td>4.3328698</td>\n",
       "      <td>-74.3702650</td>\n",
       "      <td>None</td>\n",
       "      <td>parking</td>\n",
       "    </tr>\n",
       "  </tbody>\n",
       "</table>\n",
       "</div>"
      ],
      "text/plain": [
       "         lat          lon              name     amenity\n",
       "0  4.3265082  -74.3962481              None        fuel\n",
       "1  4.3169441  -74.3941878   Fritanga Blanca  restaurant\n",
       "2  4.3424018  -74.3634092              None        bank\n",
       "3  4.3319107  -74.3771614  Brio Los Arboles        fuel\n",
       "4  4.3328698  -74.3702650              None     parking"
      ]
     },
     "execution_count": 13,
     "metadata": {},
     "output_type": "execute_result"
    }
   ],
   "source": [
    "fusgagasuga_osm_df = load_osm_results(OSM_TEMPLATE.format(\"fusagasuga\"), OSM_INPUT_TEMPLATE.format(\"fusagasuga\"))\n",
    "fusgagasuga_osm_df.head()"
   ]
  },
  {
   "cell_type": "code",
   "execution_count": 31,
   "metadata": {},
   "outputs": [
    {
     "data": {
      "text/plain": [
       "(105, 4)"
      ]
     },
     "execution_count": 31,
     "metadata": {},
     "output_type": "execute_result"
    }
   ],
   "source": [
    "fusgagasuga_osm_df.shape"
   ]
  },
  {
   "cell_type": "code",
   "execution_count": 33,
   "metadata": {},
   "outputs": [
    {
     "data": {
      "text/plain": [
       "restaurant            14\n",
       "parking               10\n",
       "bar                    9\n",
       "bank                   9\n",
       "school                 8\n",
       "fuel                   7\n",
       "motorcycle_parking     6\n",
       "fast_food              5\n",
       "place_of_worship       5\n",
       "pharmacy               4\n",
       "community_centre       3\n",
       "courthouse             3\n",
       "university             2\n",
       "townhall               2\n",
       "hospital               2\n",
       "waste_disposal         2\n",
       "post_office            2\n",
       "cafe                   2\n",
       "police                 1\n",
       "childcare              1\n",
       "car_rental             1\n",
       "clinic                 1\n",
       "kindergarten           1\n",
       "atm                    1\n",
       "cinema                 1\n",
       "bus_station            1\n",
       "public_bookcase        1\n",
       "library                1\n",
       "Name: amenity, dtype: int64"
      ]
     },
     "execution_count": 33,
     "metadata": {},
     "output_type": "execute_result"
    }
   ],
   "source": [
    "fusgagasuga_osm_df[\"amenity\"].value_counts()"
   ]
  },
  {
   "cell_type": "code",
   "execution_count": null,
   "metadata": {},
   "outputs": [],
   "source": []
  },
  {
   "cell_type": "markdown",
   "metadata": {},
   "source": [
    "### Places"
   ]
  },
  {
   "cell_type": "code",
   "execution_count": 11,
   "metadata": {},
   "outputs": [
    {
     "data": {
      "text/html": [
       "<div>\n",
       "<style scoped>\n",
       "    .dataframe tbody tr th:only-of-type {\n",
       "        vertical-align: middle;\n",
       "    }\n",
       "\n",
       "    .dataframe tbody tr th {\n",
       "        vertical-align: top;\n",
       "    }\n",
       "\n",
       "    .dataframe thead th {\n",
       "        text-align: right;\n",
       "    }\n",
       "</style>\n",
       "<table border=\"1\" class=\"dataframe\">\n",
       "  <thead>\n",
       "    <tr style=\"text-align: right;\">\n",
       "      <th></th>\n",
       "      <th>lat</th>\n",
       "      <th>lon</th>\n",
       "      <th>amenity</th>\n",
       "      <th>name</th>\n",
       "    </tr>\n",
       "  </thead>\n",
       "  <tbody>\n",
       "    <tr>\n",
       "      <th>0</th>\n",
       "      <td>4.327576700000000</td>\n",
       "      <td>-74.38706719999999</td>\n",
       "      <td>university</td>\n",
       "      <td>Alexis León Personal Trainer</td>\n",
       "    </tr>\n",
       "    <tr>\n",
       "      <th>1</th>\n",
       "      <td>4.340612600000001</td>\n",
       "      <td>-74.37554469999999</td>\n",
       "      <td>university</td>\n",
       "      <td>CAD Centro Académico Deportivo UCundinamarca</td>\n",
       "    </tr>\n",
       "    <tr>\n",
       "      <th>2</th>\n",
       "      <td>4.275842700000000</td>\n",
       "      <td>-74.41282420000000</td>\n",
       "      <td>university</td>\n",
       "      <td>UNAD</td>\n",
       "    </tr>\n",
       "    <tr>\n",
       "      <th>3</th>\n",
       "      <td>4.347225000000000</td>\n",
       "      <td>-74.37786919999999</td>\n",
       "      <td>university</td>\n",
       "      <td>UNAD</td>\n",
       "    </tr>\n",
       "    <tr>\n",
       "      <th>4</th>\n",
       "      <td>4.337345999999999</td>\n",
       "      <td>-74.37200290000000</td>\n",
       "      <td>university</td>\n",
       "      <td>Auditorio UDEC</td>\n",
       "    </tr>\n",
       "  </tbody>\n",
       "</table>\n",
       "</div>"
      ],
      "text/plain": [
       "                 lat                 lon     amenity  \\\n",
       "0  4.327576700000000  -74.38706719999999  university   \n",
       "1  4.340612600000001  -74.37554469999999  university   \n",
       "2  4.275842700000000  -74.41282420000000  university   \n",
       "3  4.347225000000000  -74.37786919999999  university   \n",
       "4  4.337345999999999  -74.37200290000000  university   \n",
       "\n",
       "                                           name  \n",
       "0                  Alexis León Personal Trainer  \n",
       "1  CAD Centro Académico Deportivo UCundinamarca  \n",
       "2                                          UNAD  \n",
       "3                                          UNAD  \n",
       "4                                Auditorio UDEC  "
      ]
     },
     "execution_count": 11,
     "metadata": {},
     "output_type": "execute_result"
    }
   ],
   "source": [
    "fusagasuga_interest_points = load_places_results(fusagasuga_coordinates, PLACES_TEMPLATE.format(\"fusagasuga\"))\n",
    "fusagasuga_interest_points.head()"
   ]
  },
  {
   "cell_type": "code",
   "execution_count": 32,
   "metadata": {},
   "outputs": [
    {
     "data": {
      "text/plain": [
       "(958, 4)"
      ]
     },
     "execution_count": 32,
     "metadata": {},
     "output_type": "execute_result"
    }
   ],
   "source": [
    "fusagasuga_interest_points.shape"
   ]
  },
  {
   "cell_type": "code",
   "execution_count": 34,
   "metadata": {},
   "outputs": [
    {
     "data": {
      "text/plain": [
       "restaurant                 429\n",
       "school                     183\n",
       "bank                        78\n",
       "church                      70\n",
       "shopping_mall               62\n",
       "park                        59\n",
       "hospital                    25\n",
       "university                  18\n",
       "local_government_office     11\n",
       "police                       9\n",
       "library                      7\n",
       "amusement_park               4\n",
       "secondary_school             3\n",
       "Name: amenity, dtype: int64"
      ]
     },
     "execution_count": 34,
     "metadata": {},
     "output_type": "execute_result"
    }
   ],
   "source": [
    "fusagasuga_interest_points[\"amenity\"].value_counts()"
   ]
  },
  {
   "cell_type": "code",
   "execution_count": null,
   "metadata": {},
   "outputs": [],
   "source": []
  },
  {
   "cell_type": "markdown",
   "metadata": {},
   "source": [
    "## Manizales"
   ]
  },
  {
   "cell_type": "code",
   "execution_count": 14,
   "metadata": {},
   "outputs": [],
   "source": [
    "manizales_coordinates = {\n",
    "    'lat': {\n",
    "        'lower': 5.017395,\n",
    "        'upper': 5.119305\n",
    "    },\n",
    "    'lon':{\n",
    "        'lower': -75.556431,\n",
    "        'upper': -75.410519\n",
    "    }\n",
    "}"
   ]
  },
  {
   "cell_type": "markdown",
   "metadata": {},
   "source": [
    "### OSM\n",
    "\n",
    "Los resultados se descargan en geojson usando el API de overpass\n",
    "\n",
    "> curl 'https://overpass-api.de/api/interpreter' -H 'Connection: keep-alive' -H 'Accept: */*' -H 'Origin: https://overpass-turbo.eu' -H 'User-Agent: Mozilla/5.0 (X11; Linux x86_64) AppleWebKit/537.36 (KHTML, like Gecko) Chrome/79.0.3945.130 Safari/537.36' -H 'Content-Type: application/x-www-form-urlencoded; charset=UTF-8' -H 'Sec-Fetch-Site: cross-site' -H 'Sec-Fetch-Mode: cors' -H 'Referer: https://overpass-turbo.eu/' -H 'Accept-Encoding: gzip, deflate, br' -H 'Accept-Language: es,es-419;q=0.9' --data 'data=%2F*%0AThis+has+been+generated+by+the+overpass-turbo+wizard.%0AThe+original+search+was%3A%0A%E2%80%9Camenity%3Dbus_station%E2%80%9D%0A*%2F%0A%5Bout%3Ajson%5D%5Btimeout%3A60%5D%3B%0A%2F%2F+gather+results%0A(%0A++node(5.013825705113532%2C-75.55606842041016%2C5.1104360769930555%2C-75.43539047241211)%3B%0A)%3B%0A%2F%2F+print+results%0Aout+body%3B%0A%3E%3B%0Aout+skel+qt%3B' --compressed >> manizales.geojson"
   ]
  },
  {
   "cell_type": "code",
   "execution_count": 15,
   "metadata": {},
   "outputs": [
    {
     "data": {
      "text/html": [
       "<div>\n",
       "<style scoped>\n",
       "    .dataframe tbody tr th:only-of-type {\n",
       "        vertical-align: middle;\n",
       "    }\n",
       "\n",
       "    .dataframe tbody tr th {\n",
       "        vertical-align: top;\n",
       "    }\n",
       "\n",
       "    .dataframe thead th {\n",
       "        text-align: right;\n",
       "    }\n",
       "</style>\n",
       "<table border=\"1\" class=\"dataframe\">\n",
       "  <thead>\n",
       "    <tr style=\"text-align: right;\">\n",
       "      <th></th>\n",
       "      <th>lat</th>\n",
       "      <th>lon</th>\n",
       "      <th>name</th>\n",
       "      <th>amenity</th>\n",
       "    </tr>\n",
       "  </thead>\n",
       "  <tbody>\n",
       "    <tr>\n",
       "      <th>0</th>\n",
       "      <td>5.0644216</td>\n",
       "      <td>-75.4951894</td>\n",
       "      <td>CAI La Leonora</td>\n",
       "      <td>police</td>\n",
       "    </tr>\n",
       "    <tr>\n",
       "      <th>1</th>\n",
       "      <td>5.0646280</td>\n",
       "      <td>-75.4974278</td>\n",
       "      <td>101 Perros</td>\n",
       "      <td>fast_food</td>\n",
       "    </tr>\n",
       "    <tr>\n",
       "      <th>2</th>\n",
       "      <td>5.0613149</td>\n",
       "      <td>-75.4904344</td>\n",
       "      <td>Universidad de Caldas - Sede Palogrande</td>\n",
       "      <td>university</td>\n",
       "    </tr>\n",
       "    <tr>\n",
       "      <th>3</th>\n",
       "      <td>5.0716575</td>\n",
       "      <td>-75.5171473</td>\n",
       "      <td>None</td>\n",
       "      <td>marketplace</td>\n",
       "    </tr>\n",
       "    <tr>\n",
       "      <th>4</th>\n",
       "      <td>5.0668861</td>\n",
       "      <td>-75.5042989</td>\n",
       "      <td>Universidad Autónoma de Manizales</td>\n",
       "      <td>university</td>\n",
       "    </tr>\n",
       "  </tbody>\n",
       "</table>\n",
       "</div>"
      ],
      "text/plain": [
       "         lat          lon                                     name  \\\n",
       "0  5.0644216  -75.4951894                           CAI La Leonora   \n",
       "1  5.0646280  -75.4974278                               101 Perros   \n",
       "2  5.0613149  -75.4904344  Universidad de Caldas - Sede Palogrande   \n",
       "3  5.0716575  -75.5171473                                     None   \n",
       "4  5.0668861  -75.5042989        Universidad Autónoma de Manizales   \n",
       "\n",
       "       amenity  \n",
       "0       police  \n",
       "1    fast_food  \n",
       "2   university  \n",
       "3  marketplace  \n",
       "4   university  "
      ]
     },
     "execution_count": 15,
     "metadata": {},
     "output_type": "execute_result"
    }
   ],
   "source": [
    "manizales_osm_df = load_osm_results(OSM_TEMPLATE.format(\"manizales\"), OSM_INPUT_TEMPLATE.format(\"manizales\"))\n",
    "manizales_osm_df.head()"
   ]
  },
  {
   "cell_type": "code",
   "execution_count": 16,
   "metadata": {},
   "outputs": [
    {
     "data": {
      "text/plain": [
       "(693, 4)"
      ]
     },
     "execution_count": 16,
     "metadata": {},
     "output_type": "execute_result"
    }
   ],
   "source": [
    "manizales_osm_df.shape"
   ]
  },
  {
   "cell_type": "markdown",
   "metadata": {},
   "source": [
    "### Places"
   ]
  },
  {
   "cell_type": "code",
   "execution_count": 17,
   "metadata": {},
   "outputs": [
    {
     "data": {
      "text/html": [
       "<div>\n",
       "<style scoped>\n",
       "    .dataframe tbody tr th:only-of-type {\n",
       "        vertical-align: middle;\n",
       "    }\n",
       "\n",
       "    .dataframe tbody tr th {\n",
       "        vertical-align: top;\n",
       "    }\n",
       "\n",
       "    .dataframe thead th {\n",
       "        text-align: right;\n",
       "    }\n",
       "</style>\n",
       "<table border=\"1\" class=\"dataframe\">\n",
       "  <thead>\n",
       "    <tr style=\"text-align: right;\">\n",
       "      <th></th>\n",
       "      <th>lat</th>\n",
       "      <th>lon</th>\n",
       "      <th>amenity</th>\n",
       "      <th>name</th>\n",
       "    </tr>\n",
       "  </thead>\n",
       "  <tbody>\n",
       "    <tr>\n",
       "      <th>0</th>\n",
       "      <td>5.045667899999999</td>\n",
       "      <td>-75.52899150000000</td>\n",
       "      <td>university</td>\n",
       "      <td>Universidad Antonio Nariño Manizales</td>\n",
       "    </tr>\n",
       "    <tr>\n",
       "      <th>1</th>\n",
       "      <td>5.045667899999999</td>\n",
       "      <td>-75.52899150000000</td>\n",
       "      <td>university</td>\n",
       "      <td>UAN Universidad Antonio Nariño</td>\n",
       "    </tr>\n",
       "    <tr>\n",
       "      <th>2</th>\n",
       "      <td>5.001526000000000</td>\n",
       "      <td>-75.59880199999999</td>\n",
       "      <td>university</td>\n",
       "      <td>Mànizales</td>\n",
       "    </tr>\n",
       "    <tr>\n",
       "      <th>3</th>\n",
       "      <td>4.985795800000000</td>\n",
       "      <td>-75.60692829999999</td>\n",
       "      <td>university</td>\n",
       "      <td>CUN - Corporación Unificada Nacional de Educac...</td>\n",
       "    </tr>\n",
       "    <tr>\n",
       "      <th>4</th>\n",
       "      <td>4.983538500000001</td>\n",
       "      <td>-75.60562440000000</td>\n",
       "      <td>university</td>\n",
       "      <td>JUZGADO PRIMERO PROMISCUO MUNICIPAL DE CHINCHINÁ</td>\n",
       "    </tr>\n",
       "  </tbody>\n",
       "</table>\n",
       "</div>"
      ],
      "text/plain": [
       "                 lat                 lon     amenity  \\\n",
       "0  5.045667899999999  -75.52899150000000  university   \n",
       "1  5.045667899999999  -75.52899150000000  university   \n",
       "2  5.001526000000000  -75.59880199999999  university   \n",
       "3  4.985795800000000  -75.60692829999999  university   \n",
       "4  4.983538500000001  -75.60562440000000  university   \n",
       "\n",
       "                                                name  \n",
       "0               Universidad Antonio Nariño Manizales  \n",
       "1                     UAN Universidad Antonio Nariño  \n",
       "2                                          Mànizales  \n",
       "3  CUN - Corporación Unificada Nacional de Educac...  \n",
       "4   JUZGADO PRIMERO PROMISCUO MUNICIPAL DE CHINCHINÁ  "
      ]
     },
     "execution_count": 17,
     "metadata": {},
     "output_type": "execute_result"
    }
   ],
   "source": [
    "manizales_interest_points = load_places_results(manizales_coordinates, PLACES_TEMPLATE.format(\"manizales\"))\n",
    "manizales_interest_points.head()"
   ]
  },
  {
   "cell_type": "code",
   "execution_count": 18,
   "metadata": {},
   "outputs": [
    {
     "data": {
      "text/plain": [
       "(2588, 4)"
      ]
     },
     "execution_count": 18,
     "metadata": {},
     "output_type": "execute_result"
    }
   ],
   "source": [
    "manizales_interest_points.shape"
   ]
  },
  {
   "cell_type": "code",
   "execution_count": null,
   "metadata": {},
   "outputs": [],
   "source": []
  },
  {
   "cell_type": "markdown",
   "metadata": {},
   "source": [
    "## Villavicencio"
   ]
  },
  {
   "cell_type": "code",
   "execution_count": 22,
   "metadata": {},
   "outputs": [],
   "source": [
    "villavicencio_coordinates = {\n",
    "    'lat': {\n",
    "        'lower': 4.112948,\n",
    "        'upper': 4.163473\n",
    "    },\n",
    "    'lon':{\n",
    "        'lower': -73.658594,\n",
    "        'upper': -73.588900\n",
    "    }\n",
    "}"
   ]
  },
  {
   "cell_type": "markdown",
   "metadata": {},
   "source": [
    "### OSM\n",
    "\n",
    "Los resultados se descargan en geojson usando el API de overpass\n",
    "\n",
    "> curl 'https://overpass-api.de/api/interpreter' -H 'Connection: keep-alive' -H 'Accept: */*' -H 'Origin: https://overpass-turbo.eu' -H 'User-Agent: Mozilla/5.0 (X11; Linux x86_64) AppleWebKit/537.36 (KHTML, like Gecko) Chrome/79.0.3945.130 Safari/537.36' -H 'Content-Type: application/x-www-form-urlencoded; charset=UTF-8' -H 'Sec-Fetch-Site: cross-site' -H 'Sec-Fetch-Mode: cors' -H 'Referer: https://overpass-turbo.eu/' -H 'Accept-Encoding: gzip, deflate, br' -H 'Accept-Language: es,es-419;q=0.9' --data 'data=%2F*%0AThis+has+been+generated+by+the+overpass-turbo+wizard.%0AThe+original+search+was%3A%0A%E2%80%9Camenity%3Dbus_station%E2%80%9D%0A*%2F%0A%5Bout%3Ajson%5D%5Btimeout%3A60%5D%3B%0A%2F%2F+gather+results%0A(%0A++node(4.030028615876668%2C-73.73886108398438%2C4.223502948820042%2C-73.49750518798828)%3B%0A)%3B%0A%2F%2F+print+results%0Aout+body%3B%0A%3E%3B%0Aout+skel+qt%3B' --compressed >> villavicencio.geojson"
   ]
  },
  {
   "cell_type": "code",
   "execution_count": 23,
   "metadata": {},
   "outputs": [
    {
     "data": {
      "text/html": [
       "<div>\n",
       "<style scoped>\n",
       "    .dataframe tbody tr th:only-of-type {\n",
       "        vertical-align: middle;\n",
       "    }\n",
       "\n",
       "    .dataframe tbody tr th {\n",
       "        vertical-align: top;\n",
       "    }\n",
       "\n",
       "    .dataframe thead th {\n",
       "        text-align: right;\n",
       "    }\n",
       "</style>\n",
       "<table border=\"1\" class=\"dataframe\">\n",
       "  <thead>\n",
       "    <tr style=\"text-align: right;\">\n",
       "      <th></th>\n",
       "      <th>lat</th>\n",
       "      <th>lon</th>\n",
       "      <th>name</th>\n",
       "      <th>amenity</th>\n",
       "    </tr>\n",
       "  </thead>\n",
       "  <tbody>\n",
       "    <tr>\n",
       "      <th>0</th>\n",
       "      <td>4.1447752</td>\n",
       "      <td>-73.6350492</td>\n",
       "      <td>None</td>\n",
       "      <td>fuel</td>\n",
       "    </tr>\n",
       "    <tr>\n",
       "      <th>1</th>\n",
       "      <td>4.1440736</td>\n",
       "      <td>-73.6347972</td>\n",
       "      <td>None</td>\n",
       "      <td>place_of_worship</td>\n",
       "    </tr>\n",
       "    <tr>\n",
       "      <th>2</th>\n",
       "      <td>4.1224286</td>\n",
       "      <td>-73.6120109</td>\n",
       "      <td>None</td>\n",
       "      <td>fuel</td>\n",
       "    </tr>\n",
       "    <tr>\n",
       "      <th>3</th>\n",
       "      <td>4.1109126</td>\n",
       "      <td>-73.6539156</td>\n",
       "      <td>Los Capachos</td>\n",
       "      <td>nightclub</td>\n",
       "    </tr>\n",
       "    <tr>\n",
       "      <th>4</th>\n",
       "      <td>4.1395622</td>\n",
       "      <td>-73.6283019</td>\n",
       "      <td>Colegio INEM \"Luis Lopez de Mesa\"</td>\n",
       "      <td>school</td>\n",
       "    </tr>\n",
       "  </tbody>\n",
       "</table>\n",
       "</div>"
      ],
      "text/plain": [
       "         lat          lon                               name           amenity\n",
       "0  4.1447752  -73.6350492                               None              fuel\n",
       "1  4.1440736  -73.6347972                               None  place_of_worship\n",
       "2  4.1224286  -73.6120109                               None              fuel\n",
       "3  4.1109126  -73.6539156                       Los Capachos         nightclub\n",
       "4  4.1395622  -73.6283019  Colegio INEM \"Luis Lopez de Mesa\"            school"
      ]
     },
     "execution_count": 23,
     "metadata": {},
     "output_type": "execute_result"
    }
   ],
   "source": [
    "villavicencio_osm_df = load_osm_results(OSM_TEMPLATE.format(\"villavicencio\"), OSM_INPUT_TEMPLATE.format(\"villavicencio\"))\n",
    "villavicencio_osm_df.head()"
   ]
  },
  {
   "cell_type": "code",
   "execution_count": 24,
   "metadata": {},
   "outputs": [
    {
     "data": {
      "text/plain": [
       "(289, 4)"
      ]
     },
     "execution_count": 24,
     "metadata": {},
     "output_type": "execute_result"
    }
   ],
   "source": [
    "villavicencio_osm_df.shape"
   ]
  },
  {
   "cell_type": "markdown",
   "metadata": {},
   "source": [
    "### Places"
   ]
  },
  {
   "cell_type": "code",
   "execution_count": 25,
   "metadata": {},
   "outputs": [
    {
     "data": {
      "text/html": [
       "<div>\n",
       "<style scoped>\n",
       "    .dataframe tbody tr th:only-of-type {\n",
       "        vertical-align: middle;\n",
       "    }\n",
       "\n",
       "    .dataframe tbody tr th {\n",
       "        vertical-align: top;\n",
       "    }\n",
       "\n",
       "    .dataframe thead th {\n",
       "        text-align: right;\n",
       "    }\n",
       "</style>\n",
       "<table border=\"1\" class=\"dataframe\">\n",
       "  <thead>\n",
       "    <tr style=\"text-align: right;\">\n",
       "      <th></th>\n",
       "      <th>lat</th>\n",
       "      <th>lon</th>\n",
       "      <th>amenity</th>\n",
       "      <th>name</th>\n",
       "    </tr>\n",
       "  </thead>\n",
       "  <tbody>\n",
       "    <tr>\n",
       "      <th>0</th>\n",
       "      <td>4.110101499999999</td>\n",
       "      <td>-73.65674820000000</td>\n",
       "      <td>university</td>\n",
       "      <td>Universidad Santo Tomas Villavicencio</td>\n",
       "    </tr>\n",
       "    <tr>\n",
       "      <th>1</th>\n",
       "      <td>4.108862300000000</td>\n",
       "      <td>-73.65552040000000</td>\n",
       "      <td>university</td>\n",
       "      <td>St. Thomas University - Campus Loma Linda</td>\n",
       "    </tr>\n",
       "    <tr>\n",
       "      <th>2</th>\n",
       "      <td>4.110002699999999</td>\n",
       "      <td>-73.66304810000000</td>\n",
       "      <td>university</td>\n",
       "      <td>Hogar Wannie Pooh</td>\n",
       "    </tr>\n",
       "    <tr>\n",
       "      <th>3</th>\n",
       "      <td>4.119999400000000</td>\n",
       "      <td>-73.64458770000000</td>\n",
       "      <td>university</td>\n",
       "      <td>CORPORACIÓN UNIVERSITARIA AUTÓNOMA DE NARIÑO -...</td>\n",
       "    </tr>\n",
       "    <tr>\n",
       "      <th>4</th>\n",
       "      <td>4.112418500000000</td>\n",
       "      <td>-73.63440080000001</td>\n",
       "      <td>university</td>\n",
       "      <td>Uniminuto</td>\n",
       "    </tr>\n",
       "  </tbody>\n",
       "</table>\n",
       "</div>"
      ],
      "text/plain": [
       "                 lat                 lon     amenity  \\\n",
       "0  4.110101499999999  -73.65674820000000  university   \n",
       "1  4.108862300000000  -73.65552040000000  university   \n",
       "2  4.110002699999999  -73.66304810000000  university   \n",
       "3  4.119999400000000  -73.64458770000000  university   \n",
       "4  4.112418500000000  -73.63440080000001  university   \n",
       "\n",
       "                                                name  \n",
       "0              Universidad Santo Tomas Villavicencio  \n",
       "1          St. Thomas University - Campus Loma Linda  \n",
       "2                                  Hogar Wannie Pooh  \n",
       "3  CORPORACIÓN UNIVERSITARIA AUTÓNOMA DE NARIÑO -...  \n",
       "4                                          Uniminuto  "
      ]
     },
     "execution_count": 25,
     "metadata": {},
     "output_type": "execute_result"
    }
   ],
   "source": [
    "villavicencio_interest_points = load_places_results(villavicencio_coordinates, PLACES_TEMPLATE.format(\"villavicencio\"))\n",
    "villavicencio_interest_points.head()"
   ]
  },
  {
   "cell_type": "code",
   "execution_count": 26,
   "metadata": {},
   "outputs": [
    {
     "data": {
      "text/plain": [
       "(3317, 4)"
      ]
     },
     "execution_count": 26,
     "metadata": {},
     "output_type": "execute_result"
    }
   ],
   "source": [
    "villavicencio_interest_points.shape"
   ]
  },
  {
   "cell_type": "code",
   "execution_count": null,
   "metadata": {},
   "outputs": [],
   "source": []
  }
 ],
 "metadata": {
  "jupytext": {
   "formats": "ipynb,Rmd"
  },
  "kernelspec": {
   "display_name": "Python 3",
   "language": "python",
   "name": "python3"
  },
  "language_info": {
   "codemirror_mode": {
    "name": "ipython",
    "version": 3
   },
   "file_extension": ".py",
   "mimetype": "text/x-python",
   "name": "python",
   "nbconvert_exporter": "python",
   "pygments_lexer": "ipython3",
   "version": "3.6.9"
  }
 },
 "nbformat": 4,
 "nbformat_minor": 2
}
