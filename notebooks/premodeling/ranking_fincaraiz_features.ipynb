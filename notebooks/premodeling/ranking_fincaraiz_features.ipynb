{
 "cells": [
  {
   "cell_type": "code",
   "execution_count": 1,
   "metadata": {},
   "outputs": [],
   "source": [
    "%load_ext dotenv\n",
    "%reload_ext dotenv\n",
    "%dotenv"
   ]
  },
  {
   "cell_type": "code",
   "execution_count": 2,
   "metadata": {},
   "outputs": [],
   "source": [
    "import pandas as pd\n",
    "import numpy as np\n",
    "\n",
    "import seaborn as sns\n",
    "import matplotlib.pyplot as plt"
   ]
  },
  {
   "cell_type": "code",
   "execution_count": 3,
   "metadata": {},
   "outputs": [],
   "source": [
    "from sklearn.feature_selection import SelectKBest\n",
    "from sklearn.feature_selection import chi2\n",
    "\n",
    "from sklearn.feature_selection import f_regression"
   ]
  },
  {
   "cell_type": "code",
   "execution_count": null,
   "metadata": {},
   "outputs": [],
   "source": []
  },
  {
   "cell_type": "code",
   "execution_count": 4,
   "metadata": {},
   "outputs": [],
   "source": [
    "import sys\n",
    "import os\n",
    "from os.path import dirname\n",
    "\n",
    "UTILS_PATH=os.environ.get('REPO') + \"/notebooks/commons\"\n",
    "sys.path.append(dirname(UTILS_PATH))\n",
    "\n",
    "from commons import check_args, gen_paths, coordinates_bounds, plot_feature_importances"
   ]
  },
  {
   "cell_type": "code",
   "execution_count": null,
   "metadata": {},
   "outputs": [],
   "source": []
  },
  {
   "cell_type": "code",
   "execution_count": 5,
   "metadata": {},
   "outputs": [],
   "source": [
    "def load_posts(input_path):\n",
    "    df = pd.read_parquet(input_path)\n",
    "    return df"
   ]
  },
  {
   "cell_type": "code",
   "execution_count": null,
   "metadata": {},
   "outputs": [],
   "source": []
  },
  {
   "cell_type": "code",
   "execution_count": 6,
   "metadata": {},
   "outputs": [],
   "source": [
    "if __name__ == \"__main__\":\n",
    "    city = \"manizales\"\n",
    "    property_type = \"apartamentos\"\n",
    "    post_type = \"venta\"\n",
    "    \n",
    "    #city, property_type, post_type = check_args()\n",
    "    base_path = os.environ.get('REPO')\n",
    "\n",
    "    raw_path, clean_path = gen_paths(city, property_type, post_type)\n",
    "    \n",
    "    raw_path = base_path + raw_path\n",
    "    clean_path = base_path + clean_path"
   ]
  },
  {
   "cell_type": "code",
   "execution_count": null,
   "metadata": {},
   "outputs": [],
   "source": []
  },
  {
   "cell_type": "code",
   "execution_count": 7,
   "metadata": {},
   "outputs": [
    {
     "name": "stdout",
     "output_type": "stream",
     "text": [
      "\n",
      "Hay 3004 publicaciones de venta en total\n",
      "\n"
     ]
    },
    {
     "data": {
      "text/html": [
       "<div>\n",
       "<style scoped>\n",
       "    .dataframe tbody tr th:only-of-type {\n",
       "        vertical-align: middle;\n",
       "    }\n",
       "\n",
       "    .dataframe tbody tr th {\n",
       "        vertical-align: top;\n",
       "    }\n",
       "\n",
       "    .dataframe thead th {\n",
       "        text-align: right;\n",
       "    }\n",
       "</style>\n",
       "<table border=\"1\" class=\"dataframe\">\n",
       "  <thead>\n",
       "    <tr style=\"text-align: right;\">\n",
       "      <th></th>\n",
       "      <th>surface</th>\n",
       "      <th>rooms</th>\n",
       "      <th>baths</th>\n",
       "      <th>garages</th>\n",
       "      <th>price</th>\n",
       "      <th>latitude</th>\n",
       "      <th>description</th>\n",
       "      <th>longitude</th>\n",
       "      <th>location</th>\n",
       "      <th>url</th>\n",
       "      <th>admon</th>\n",
       "      <th>estrato</th>\n",
       "      <th>antiguedad</th>\n",
       "      <th>fid</th>\n",
       "      <th>city</th>\n",
       "      <th>property_type</th>\n",
       "      <th>post_type</th>\n",
       "      <th>price_m2</th>\n",
       "    </tr>\n",
       "  </thead>\n",
       "  <tbody>\n",
       "    <tr>\n",
       "      <th>1</th>\n",
       "      <td>54.0</td>\n",
       "      <td>2.0</td>\n",
       "      <td>2.0</td>\n",
       "      <td>1.0</td>\n",
       "      <td>220.0</td>\n",
       "      <td>5.059000</td>\n",
       "      <td>Apartamento ubicado cerca a Homecenter, constr...</td>\n",
       "      <td>-75.478996</td>\n",
       "      <td>Manizales La Toscana</td>\n",
       "      <td>https://www.fincaraiz.com.co/apartamento-en-ve...</td>\n",
       "      <td>0.0</td>\n",
       "      <td>4.0</td>\n",
       "      <td>1 a 8</td>\n",
       "      <td>5478594</td>\n",
       "      <td>manizales</td>\n",
       "      <td>apartamentos</td>\n",
       "      <td>venta</td>\n",
       "      <td>4.074074</td>\n",
       "    </tr>\n",
       "    <tr>\n",
       "      <th>2</th>\n",
       "      <td>72.0</td>\n",
       "      <td>3.0</td>\n",
       "      <td>3.0</td>\n",
       "      <td>1.0</td>\n",
       "      <td>280.0</td>\n",
       "      <td>5.043152</td>\n",
       "      <td>Se cede apartamento 606 de la Torre 1 , 3 habi...</td>\n",
       "      <td>-75.473587</td>\n",
       "      <td>Manizales Avda Alberto Mendoza Frente a Expofe...</td>\n",
       "      <td>https://www.fincaraiz.com.co/apartamento-en-ve...</td>\n",
       "      <td>0.0</td>\n",
       "      <td>5.0</td>\n",
       "      <td>desconocido</td>\n",
       "      <td>5720132</td>\n",
       "      <td>manizales</td>\n",
       "      <td>apartamentos</td>\n",
       "      <td>venta</td>\n",
       "      <td>3.888889</td>\n",
       "    </tr>\n",
       "    <tr>\n",
       "      <th>3</th>\n",
       "      <td>160.0</td>\n",
       "      <td>4.0</td>\n",
       "      <td>3.0</td>\n",
       "      <td>1.0</td>\n",
       "      <td>290.0</td>\n",
       "      <td>5.050346</td>\n",
       "      <td>Apartamento duplex, remodelado en La Camelia, ...</td>\n",
       "      <td>-75.484329</td>\n",
       "      <td>Manizales Palermo</td>\n",
       "      <td>https://www.fincaraiz.com.co/apartamento-en-ve...</td>\n",
       "      <td>300000.0</td>\n",
       "      <td>6.0</td>\n",
       "      <td>16 a 30</td>\n",
       "      <td>2870506</td>\n",
       "      <td>manizales</td>\n",
       "      <td>apartamentos</td>\n",
       "      <td>venta</td>\n",
       "      <td>1.812500</td>\n",
       "    </tr>\n",
       "    <tr>\n",
       "      <th>4</th>\n",
       "      <td>93.0</td>\n",
       "      <td>3.0</td>\n",
       "      <td>2.0</td>\n",
       "      <td>1.0</td>\n",
       "      <td>420.0</td>\n",
       "      <td>5.061000</td>\n",
       "      <td>Bello y cómodo apartamento, ubicado sobre la A...</td>\n",
       "      <td>-75.490990</td>\n",
       "      <td>Manizales Av Santander</td>\n",
       "      <td>https://www.fincaraiz.com.co/apartamento-en-ve...</td>\n",
       "      <td>240000.0</td>\n",
       "      <td>6.0</td>\n",
       "      <td>1 a 8</td>\n",
       "      <td>5288572</td>\n",
       "      <td>manizales</td>\n",
       "      <td>apartamentos</td>\n",
       "      <td>venta</td>\n",
       "      <td>4.516129</td>\n",
       "    </tr>\n",
       "    <tr>\n",
       "      <th>6</th>\n",
       "      <td>65.0</td>\n",
       "      <td>3.0</td>\n",
       "      <td>2.0</td>\n",
       "      <td>1.0</td>\n",
       "      <td>150.0</td>\n",
       "      <td>5.064650</td>\n",
       "      <td>Inmobiliaria Giraldo Castaño ofrece apartament...</td>\n",
       "      <td>-75.507553</td>\n",
       "      <td>Manizales palonegro</td>\n",
       "      <td>https://www.fincaraiz.com.co/apartamento-en-ve...</td>\n",
       "      <td>0.0</td>\n",
       "      <td>3.0</td>\n",
       "      <td>1 a 8</td>\n",
       "      <td>5149671</td>\n",
       "      <td>manizales</td>\n",
       "      <td>apartamentos</td>\n",
       "      <td>venta</td>\n",
       "      <td>2.307692</td>\n",
       "    </tr>\n",
       "  </tbody>\n",
       "</table>\n",
       "</div>"
      ],
      "text/plain": [
       "   surface  rooms  baths  garages  price  latitude  \\\n",
       "1     54.0    2.0    2.0      1.0  220.0  5.059000   \n",
       "2     72.0    3.0    3.0      1.0  280.0  5.043152   \n",
       "3    160.0    4.0    3.0      1.0  290.0  5.050346   \n",
       "4     93.0    3.0    2.0      1.0  420.0  5.061000   \n",
       "6     65.0    3.0    2.0      1.0  150.0  5.064650   \n",
       "\n",
       "                                         description  longitude  \\\n",
       "1  Apartamento ubicado cerca a Homecenter, constr... -75.478996   \n",
       "2  Se cede apartamento 606 de la Torre 1 , 3 habi... -75.473587   \n",
       "3  Apartamento duplex, remodelado en La Camelia, ... -75.484329   \n",
       "4  Bello y cómodo apartamento, ubicado sobre la A... -75.490990   \n",
       "6  Inmobiliaria Giraldo Castaño ofrece apartament... -75.507553   \n",
       "\n",
       "                                            location  \\\n",
       "1                               Manizales La Toscana   \n",
       "2  Manizales Avda Alberto Mendoza Frente a Expofe...   \n",
       "3                                  Manizales Palermo   \n",
       "4                             Manizales Av Santander   \n",
       "6                                Manizales palonegro   \n",
       "\n",
       "                                                 url     admon  estrato  \\\n",
       "1  https://www.fincaraiz.com.co/apartamento-en-ve...       0.0      4.0   \n",
       "2  https://www.fincaraiz.com.co/apartamento-en-ve...       0.0      5.0   \n",
       "3  https://www.fincaraiz.com.co/apartamento-en-ve...  300000.0      6.0   \n",
       "4  https://www.fincaraiz.com.co/apartamento-en-ve...  240000.0      6.0   \n",
       "6  https://www.fincaraiz.com.co/apartamento-en-ve...       0.0      3.0   \n",
       "\n",
       "    antiguedad      fid       city property_type post_type  price_m2  \n",
       "1        1 a 8  5478594  manizales  apartamentos     venta  4.074074  \n",
       "2  desconocido  5720132  manizales  apartamentos     venta  3.888889  \n",
       "3      16 a 30  2870506  manizales  apartamentos     venta  1.812500  \n",
       "4        1 a 8  5288572  manizales  apartamentos     venta  4.516129  \n",
       "6        1 a 8  5149671  manizales  apartamentos     venta  2.307692  "
      ]
     },
     "execution_count": 7,
     "metadata": {},
     "output_type": "execute_result"
    }
   ],
   "source": [
    "MSG = \"\"\"\n",
    "Hay {} publicaciones de {} en total\n",
    "\"\"\"\n",
    "\n",
    "posts = load_posts(clean_path)\n",
    "print(MSG.format(posts.shape[0], post_type))\n",
    "posts.head()"
   ]
  },
  {
   "cell_type": "code",
   "execution_count": null,
   "metadata": {},
   "outputs": [],
   "source": []
  },
  {
   "cell_type": "markdown",
   "metadata": {},
   "source": [
    "## Es necesario cambiar la representación de algunas de las columnas\n"
   ]
  },
  {
   "cell_type": "code",
   "execution_count": 8,
   "metadata": {},
   "outputs": [
    {
     "data": {
      "text/plain": [
       "{'desconocido': 0, '1 a 8': 1, '16 a 30': 2, '9 a 15': 3, 'Más de 30': 4}"
      ]
     },
     "execution_count": 8,
     "metadata": {},
     "output_type": "execute_result"
    }
   ],
   "source": [
    "## La antiguedad tiene 5 posibles valores pero se representa con un string, la idea es usar un entero en cambio\n",
    "\n",
    "antiguedades = posts[\"antiguedad\"].value_counts().index\n",
    "new_antiguedades = {}\n",
    "for i in range(len(antiguedades)):\n",
    "    new_antiguedades[antiguedades[i]] = i\n",
    "new_antiguedades"
   ]
  },
  {
   "cell_type": "code",
   "execution_count": 9,
   "metadata": {},
   "outputs": [],
   "source": [
    "posts.loc[:, \"antiguedad\"] = posts[\"antiguedad\"].apply(lambda e: new_antiguedades[e])"
   ]
  },
  {
   "cell_type": "code",
   "execution_count": null,
   "metadata": {},
   "outputs": [],
   "source": []
  },
  {
   "cell_type": "code",
   "execution_count": 10,
   "metadata": {},
   "outputs": [],
   "source": [
    "## Las features y las etiquetas son las mismas en todos los métodos\n",
    "\n",
    "FEATURES = [\n",
    "    'surface', 'rooms', \n",
    "    'baths', 'garages', 'latitude', \n",
    "    'longitude', 'admon', \n",
    "    'estrato','antiguedad'\n",
    "]\n",
    "\n",
    "LABEL = \"price\"\n",
    "\n",
    "X = posts[FEATURES].values\n",
    "y = posts[LABEL].values"
   ]
  },
  {
   "cell_type": "markdown",
   "metadata": {},
   "source": [
    "## Selección de features univariada"
   ]
  },
  {
   "cell_type": "code",
   "execution_count": 11,
   "metadata": {},
   "outputs": [
    {
     "data": {
      "text/plain": [
       "(3004, 5)"
      ]
     },
     "execution_count": 11,
     "metadata": {},
     "output_type": "execute_result"
    }
   ],
   "source": [
    "selector = SelectKBest(f_regression, k=5)\n",
    "X_new = selector.fit_transform(X, y)\n",
    "X_new.shape"
   ]
  },
  {
   "cell_type": "code",
   "execution_count": null,
   "metadata": {},
   "outputs": [],
   "source": []
  },
  {
   "cell_type": "code",
   "execution_count": 12,
   "metadata": {},
   "outputs": [],
   "source": [
    "feature_importances = pd.DataFrame({'importance': selector.scores_, 'feature': FEATURES})"
   ]
  },
  {
   "cell_type": "code",
   "execution_count": 13,
   "metadata": {},
   "outputs": [
    {
     "data": {
      "image/png": "[encoded data removed]",
      "text/plain": [
       "<Figure size 720x432 with 1 Axes>"
      ]
     },
     "metadata": {
      "needs_background": "light"
     },
     "output_type": "display_data"
    },
    {
     "data": {
      "image/png": "[encoded data removed]",
      "text/plain": [
       "<Figure size 576x432 with 1 Axes>"
      ]
     },
     "metadata": {
      "needs_background": "light"
     },
     "output_type": "display_data"
    },
    {
     "name": "stdout",
     "output_type": "stream",
     "text": [
      "4 features required for 0.90 of cumulative importance\n"
     ]
    },
    {
     "data": {
      "text/html": [
       "<div>\n",
       "<style scoped>\n",
       "    .dataframe tbody tr th:only-of-type {\n",
       "        vertical-align: middle;\n",
       "    }\n",
       "\n",
       "    .dataframe tbody tr th {\n",
       "        vertical-align: top;\n",
       "    }\n",
       "\n",
       "    .dataframe thead th {\n",
       "        text-align: right;\n",
       "    }\n",
       "</style>\n",
       "<table border=\"1\" class=\"dataframe\">\n",
       "  <thead>\n",
       "    <tr style=\"text-align: right;\">\n",
       "      <th></th>\n",
       "      <th>index</th>\n",
       "      <th>importance</th>\n",
       "      <th>feature</th>\n",
       "      <th>importance_normalized</th>\n",
       "      <th>cumulative_importance</th>\n",
       "    </tr>\n",
       "  </thead>\n",
       "  <tbody>\n",
       "    <tr>\n",
       "      <th>0</th>\n",
       "      <td>0</td>\n",
       "      <td>4438.027178</td>\n",
       "      <td>surface</td>\n",
       "      <td>0.553854</td>\n",
       "      <td>0.553854</td>\n",
       "    </tr>\n",
       "    <tr>\n",
       "      <th>1</th>\n",
       "      <td>2</td>\n",
       "      <td>1444.274889</td>\n",
       "      <td>baths</td>\n",
       "      <td>0.180242</td>\n",
       "      <td>0.734095</td>\n",
       "    </tr>\n",
       "    <tr>\n",
       "      <th>2</th>\n",
       "      <td>3</td>\n",
       "      <td>886.195468</td>\n",
       "      <td>garages</td>\n",
       "      <td>0.110595</td>\n",
       "      <td>0.844690</td>\n",
       "    </tr>\n",
       "    <tr>\n",
       "      <th>3</th>\n",
       "      <td>7</td>\n",
       "      <td>795.605565</td>\n",
       "      <td>estrato</td>\n",
       "      <td>0.099289</td>\n",
       "      <td>0.943979</td>\n",
       "    </tr>\n",
       "    <tr>\n",
       "      <th>4</th>\n",
       "      <td>5</td>\n",
       "      <td>208.270343</td>\n",
       "      <td>longitude</td>\n",
       "      <td>0.025992</td>\n",
       "      <td>0.969971</td>\n",
       "    </tr>\n",
       "    <tr>\n",
       "      <th>5</th>\n",
       "      <td>4</td>\n",
       "      <td>152.394189</td>\n",
       "      <td>latitude</td>\n",
       "      <td>0.019018</td>\n",
       "      <td>0.988989</td>\n",
       "    </tr>\n",
       "    <tr>\n",
       "      <th>6</th>\n",
       "      <td>1</td>\n",
       "      <td>84.614802</td>\n",
       "      <td>rooms</td>\n",
       "      <td>0.010560</td>\n",
       "      <td>0.999549</td>\n",
       "    </tr>\n",
       "    <tr>\n",
       "      <th>7</th>\n",
       "      <td>8</td>\n",
       "      <td>3.335668</td>\n",
       "      <td>antiguedad</td>\n",
       "      <td>0.000416</td>\n",
       "      <td>0.999965</td>\n",
       "    </tr>\n",
       "    <tr>\n",
       "      <th>8</th>\n",
       "      <td>6</td>\n",
       "      <td>0.277474</td>\n",
       "      <td>admon</td>\n",
       "      <td>0.000035</td>\n",
       "      <td>1.000000</td>\n",
       "    </tr>\n",
       "  </tbody>\n",
       "</table>\n",
       "</div>"
      ],
      "text/plain": [
       "   index   importance     feature  importance_normalized  \\\n",
       "0      0  4438.027178     surface               0.553854   \n",
       "1      2  1444.274889       baths               0.180242   \n",
       "2      3   886.195468     garages               0.110595   \n",
       "3      7   795.605565     estrato               0.099289   \n",
       "4      5   208.270343   longitude               0.025992   \n",
       "5      4   152.394189    latitude               0.019018   \n",
       "6      1    84.614802       rooms               0.010560   \n",
       "7      8     3.335668  antiguedad               0.000416   \n",
       "8      6     0.277474       admon               0.000035   \n",
       "\n",
       "   cumulative_importance  \n",
       "0               0.553854  \n",
       "1               0.734095  \n",
       "2               0.844690  \n",
       "3               0.943979  \n",
       "4               0.969971  \n",
       "5               0.988989  \n",
       "6               0.999549  \n",
       "7               0.999965  \n",
       "8               1.000000  "
      ]
     },
     "execution_count": 13,
     "metadata": {},
     "output_type": "execute_result"
    }
   ],
   "source": [
    "plot_feature_importances(feature_importances)"
   ]
  },
  {
   "cell_type": "code",
   "execution_count": null,
   "metadata": {},
   "outputs": [],
   "source": []
  },
  {
   "cell_type": "markdown",
   "metadata": {},
   "source": [
    "## Eliminación recursiva de features"
   ]
  },
  {
   "cell_type": "code",
   "execution_count": 14,
   "metadata": {},
   "outputs": [],
   "source": [
    "from sklearn.linear_model import LinearRegression\n",
    "from sklearn.feature_selection import RFE"
   ]
  },
  {
   "cell_type": "code",
   "execution_count": 15,
   "metadata": {},
   "outputs": [
    {
     "data": {
      "text/plain": [
       "0.6682518642128962"
      ]
     },
     "execution_count": 15,
     "metadata": {},
     "output_type": "execute_result"
    }
   ],
   "source": [
    "reg = LinearRegression().fit(X, y)\n",
    "reg.score(X, y)"
   ]
  },
  {
   "cell_type": "code",
   "execution_count": 16,
   "metadata": {},
   "outputs": [
    {
     "data": {
      "text/plain": [
       "RFE(estimator=LinearRegression(), n_features_to_select=1)"
      ]
     },
     "execution_count": 16,
     "metadata": {},
     "output_type": "execute_result"
    }
   ],
   "source": [
    "rfe = RFE(estimator=reg, n_features_to_select=1, step=1)\n",
    "rfe.fit(X, y)"
   ]
  },
  {
   "cell_type": "code",
   "execution_count": 17,
   "metadata": {},
   "outputs": [],
   "source": [
    "feature_importances = pd.DataFrame({'importance': rfe.ranking_, 'feature': FEATURES})"
   ]
  },
  {
   "cell_type": "code",
   "execution_count": 18,
   "metadata": {},
   "outputs": [
    {
     "data": {
      "image/png": "[encoded data removed]",
      "text/plain": [
       "<Figure size 720x432 with 1 Axes>"
      ]
     },
     "metadata": {
      "needs_background": "light"
     },
     "output_type": "display_data"
    },
    {
     "data": {
      "image/png": "[encoded data removed]",
      "text/plain": [
       "<Figure size 576x432 with 1 Axes>"
      ]
     },
     "metadata": {
      "needs_background": "light"
     },
     "output_type": "display_data"
    },
    {
     "name": "stdout",
     "output_type": "stream",
     "text": [
      "7 features required for 0.90 of cumulative importance\n"
     ]
    },
    {
     "data": {
      "text/html": [
       "<div>\n",
       "<style scoped>\n",
       "    .dataframe tbody tr th:only-of-type {\n",
       "        vertical-align: middle;\n",
       "    }\n",
       "\n",
       "    .dataframe tbody tr th {\n",
       "        vertical-align: top;\n",
       "    }\n",
       "\n",
       "    .dataframe thead th {\n",
       "        text-align: right;\n",
       "    }\n",
       "</style>\n",
       "<table border=\"1\" class=\"dataframe\">\n",
       "  <thead>\n",
       "    <tr style=\"text-align: right;\">\n",
       "      <th></th>\n",
       "      <th>index</th>\n",
       "      <th>importance</th>\n",
       "      <th>feature</th>\n",
       "      <th>importance_normalized</th>\n",
       "      <th>cumulative_importance</th>\n",
       "    </tr>\n",
       "  </thead>\n",
       "  <tbody>\n",
       "    <tr>\n",
       "      <th>0</th>\n",
       "      <td>6</td>\n",
       "      <td>9</td>\n",
       "      <td>admon</td>\n",
       "      <td>0.200000</td>\n",
       "      <td>0.200000</td>\n",
       "    </tr>\n",
       "    <tr>\n",
       "      <th>1</th>\n",
       "      <td>0</td>\n",
       "      <td>8</td>\n",
       "      <td>surface</td>\n",
       "      <td>0.177778</td>\n",
       "      <td>0.377778</td>\n",
       "    </tr>\n",
       "    <tr>\n",
       "      <th>2</th>\n",
       "      <td>8</td>\n",
       "      <td>7</td>\n",
       "      <td>antiguedad</td>\n",
       "      <td>0.155556</td>\n",
       "      <td>0.533333</td>\n",
       "    </tr>\n",
       "    <tr>\n",
       "      <th>3</th>\n",
       "      <td>5</td>\n",
       "      <td>6</td>\n",
       "      <td>longitude</td>\n",
       "      <td>0.133333</td>\n",
       "      <td>0.666667</td>\n",
       "    </tr>\n",
       "    <tr>\n",
       "      <th>4</th>\n",
       "      <td>1</td>\n",
       "      <td>5</td>\n",
       "      <td>rooms</td>\n",
       "      <td>0.111111</td>\n",
       "      <td>0.777778</td>\n",
       "    </tr>\n",
       "    <tr>\n",
       "      <th>5</th>\n",
       "      <td>7</td>\n",
       "      <td>4</td>\n",
       "      <td>estrato</td>\n",
       "      <td>0.088889</td>\n",
       "      <td>0.866667</td>\n",
       "    </tr>\n",
       "    <tr>\n",
       "      <th>6</th>\n",
       "      <td>3</td>\n",
       "      <td>3</td>\n",
       "      <td>garages</td>\n",
       "      <td>0.066667</td>\n",
       "      <td>0.933333</td>\n",
       "    </tr>\n",
       "    <tr>\n",
       "      <th>7</th>\n",
       "      <td>2</td>\n",
       "      <td>2</td>\n",
       "      <td>baths</td>\n",
       "      <td>0.044444</td>\n",
       "      <td>0.977778</td>\n",
       "    </tr>\n",
       "    <tr>\n",
       "      <th>8</th>\n",
       "      <td>4</td>\n",
       "      <td>1</td>\n",
       "      <td>latitude</td>\n",
       "      <td>0.022222</td>\n",
       "      <td>1.000000</td>\n",
       "    </tr>\n",
       "  </tbody>\n",
       "</table>\n",
       "</div>"
      ],
      "text/plain": [
       "   index  importance     feature  importance_normalized  cumulative_importance\n",
       "0      6           9       admon               0.200000               0.200000\n",
       "1      0           8     surface               0.177778               0.377778\n",
       "2      8           7  antiguedad               0.155556               0.533333\n",
       "3      5           6   longitude               0.133333               0.666667\n",
       "4      1           5       rooms               0.111111               0.777778\n",
       "5      7           4     estrato               0.088889               0.866667\n",
       "6      3           3     garages               0.066667               0.933333\n",
       "7      2           2       baths               0.044444               0.977778\n",
       "8      4           1    latitude               0.022222               1.000000"
      ]
     },
     "execution_count": 18,
     "metadata": {},
     "output_type": "execute_result"
    }
   ],
   "source": [
    "plot_feature_importances(feature_importances)"
   ]
  },
  {
   "cell_type": "code",
   "execution_count": null,
   "metadata": {},
   "outputs": [],
   "source": []
  },
  {
   "cell_type": "markdown",
   "metadata": {},
   "source": [
    "## Selección de features basada en arboles"
   ]
  },
  {
   "cell_type": "code",
   "execution_count": 19,
   "metadata": {},
   "outputs": [],
   "source": [
    "from sklearn.ensemble import ExtraTreesRegressor"
   ]
  },
  {
   "cell_type": "code",
   "execution_count": 20,
   "metadata": {},
   "outputs": [
    {
     "data": {
      "text/plain": [
       "ExtraTreesRegressor(random_state=0)"
      ]
     },
     "execution_count": 20,
     "metadata": {},
     "output_type": "execute_result"
    }
   ],
   "source": [
    "forest = ExtraTreesRegressor(n_estimators=100, random_state=0)\n",
    "forest.fit(X, y)"
   ]
  },
  {
   "cell_type": "code",
   "execution_count": 21,
   "metadata": {},
   "outputs": [],
   "source": [
    "feature_importances = pd.DataFrame({'importance':  forest.feature_importances_, 'feature': FEATURES})"
   ]
  },
  {
   "cell_type": "code",
   "execution_count": 22,
   "metadata": {},
   "outputs": [
    {
     "data": {
      "image/png": "[encoded data removed]",
      "text/plain": [
       "<Figure size 720x432 with 1 Axes>"
      ]
     },
     "metadata": {
      "needs_background": "light"
     },
     "output_type": "display_data"
    },
    {
     "data": {
      "image/png": "[encoded data removed]",
      "text/plain": [
       "<Figure size 576x432 with 1 Axes>"
      ]
     },
     "metadata": {
      "needs_background": "light"
     },
     "output_type": "display_data"
    },
    {
     "name": "stdout",
     "output_type": "stream",
     "text": [
      "6 features required for 0.90 of cumulative importance\n"
     ]
    },
    {
     "data": {
      "text/html": [
       "<div>\n",
       "<style scoped>\n",
       "    .dataframe tbody tr th:only-of-type {\n",
       "        vertical-align: middle;\n",
       "    }\n",
       "\n",
       "    .dataframe tbody tr th {\n",
       "        vertical-align: top;\n",
       "    }\n",
       "\n",
       "    .dataframe thead th {\n",
       "        text-align: right;\n",
       "    }\n",
       "</style>\n",
       "<table border=\"1\" class=\"dataframe\">\n",
       "  <thead>\n",
       "    <tr style=\"text-align: right;\">\n",
       "      <th></th>\n",
       "      <th>index</th>\n",
       "      <th>importance</th>\n",
       "      <th>feature</th>\n",
       "      <th>importance_normalized</th>\n",
       "      <th>cumulative_importance</th>\n",
       "    </tr>\n",
       "  </thead>\n",
       "  <tbody>\n",
       "    <tr>\n",
       "      <th>0</th>\n",
       "      <td>0</td>\n",
       "      <td>0.518410</td>\n",
       "      <td>surface</td>\n",
       "      <td>0.518410</td>\n",
       "      <td>0.518410</td>\n",
       "    </tr>\n",
       "    <tr>\n",
       "      <th>1</th>\n",
       "      <td>7</td>\n",
       "      <td>0.112309</td>\n",
       "      <td>estrato</td>\n",
       "      <td>0.112309</td>\n",
       "      <td>0.630719</td>\n",
       "    </tr>\n",
       "    <tr>\n",
       "      <th>2</th>\n",
       "      <td>2</td>\n",
       "      <td>0.100750</td>\n",
       "      <td>baths</td>\n",
       "      <td>0.100750</td>\n",
       "      <td>0.731469</td>\n",
       "    </tr>\n",
       "    <tr>\n",
       "      <th>3</th>\n",
       "      <td>3</td>\n",
       "      <td>0.080152</td>\n",
       "      <td>garages</td>\n",
       "      <td>0.080152</td>\n",
       "      <td>0.811621</td>\n",
       "    </tr>\n",
       "    <tr>\n",
       "      <th>4</th>\n",
       "      <td>6</td>\n",
       "      <td>0.074973</td>\n",
       "      <td>admon</td>\n",
       "      <td>0.074973</td>\n",
       "      <td>0.886594</td>\n",
       "    </tr>\n",
       "    <tr>\n",
       "      <th>5</th>\n",
       "      <td>4</td>\n",
       "      <td>0.033087</td>\n",
       "      <td>latitude</td>\n",
       "      <td>0.033087</td>\n",
       "      <td>0.919680</td>\n",
       "    </tr>\n",
       "    <tr>\n",
       "      <th>6</th>\n",
       "      <td>5</td>\n",
       "      <td>0.030951</td>\n",
       "      <td>longitude</td>\n",
       "      <td>0.030951</td>\n",
       "      <td>0.950631</td>\n",
       "    </tr>\n",
       "    <tr>\n",
       "      <th>7</th>\n",
       "      <td>8</td>\n",
       "      <td>0.027824</td>\n",
       "      <td>antiguedad</td>\n",
       "      <td>0.027824</td>\n",
       "      <td>0.978455</td>\n",
       "    </tr>\n",
       "    <tr>\n",
       "      <th>8</th>\n",
       "      <td>1</td>\n",
       "      <td>0.021545</td>\n",
       "      <td>rooms</td>\n",
       "      <td>0.021545</td>\n",
       "      <td>1.000000</td>\n",
       "    </tr>\n",
       "  </tbody>\n",
       "</table>\n",
       "</div>"
      ],
      "text/plain": [
       "   index  importance     feature  importance_normalized  cumulative_importance\n",
       "0      0    0.518410     surface               0.518410               0.518410\n",
       "1      7    0.112309     estrato               0.112309               0.630719\n",
       "2      2    0.100750       baths               0.100750               0.731469\n",
       "3      3    0.080152     garages               0.080152               0.811621\n",
       "4      6    0.074973       admon               0.074973               0.886594\n",
       "5      4    0.033087    latitude               0.033087               0.919680\n",
       "6      5    0.030951   longitude               0.030951               0.950631\n",
       "7      8    0.027824  antiguedad               0.027824               0.978455\n",
       "8      1    0.021545       rooms               0.021545               1.000000"
      ]
     },
     "execution_count": 22,
     "metadata": {},
     "output_type": "execute_result"
    }
   ],
   "source": [
    "plot_feature_importances(feature_importances)"
   ]
  },
  {
   "cell_type": "code",
   "execution_count": null,
   "metadata": {},
   "outputs": [],
   "source": []
  }
 ],
 "metadata": {
  "jupytext": {
   "formats": "ipynb,Rmd"
  },
  "kernelspec": {
   "display_name": "Python 3",
   "language": "python",
   "name": "python3"
  },
  "language_info": {
   "codemirror_mode": {
    "name": "ipython",
    "version": 3
   },
   "file_extension": ".py",
   "mimetype": "text/x-python",
   "name": "python",
   "nbconvert_exporter": "python",
   "pygments_lexer": "ipython3",
   "version": "3.6.9"
  }
 },
 "nbformat": 4,
 "nbformat_minor": 2
}
